{
  "nbformat": 4,
  "nbformat_minor": 0,
  "metadata": {
    "colab": {
      "name": "Device_Motion_Detection_GenderWise.ipynb",
      "provenance": [],
      "collapsed_sections": []
    },
    "kernelspec": {
      "name": "python3",
      "display_name": "Python 3"
    },
    "language_info": {
      "name": "python"
    }
  },
  "cells": [
    {
      "cell_type": "code",
      "source": [
        "import pandas as pd\n",
        "import glob "
      ],
      "metadata": {
        "id": "R6soou8k1Hov"
      },
      "execution_count": null,
      "outputs": []
    },
    {
      "cell_type": "code",
      "execution_count": null,
      "metadata": {
        "colab": {
          "base_uri": "https://localhost:8080/",
          "height": 872,
          "resources": {
            "http://localhost:8080/nbextensions/google.colab/files.js": {
              "data": "Ly8gQ29weXJpZ2h0IDIwMTcgR29vZ2xlIExMQwovLwovLyBMaWNlbnNlZCB1bmRlciB0aGUgQXBhY2hlIExpY2Vuc2UsIFZlcnNpb24gMi4wICh0aGUgIkxpY2Vuc2UiKTsKLy8geW91IG1heSBub3QgdXNlIHRoaXMgZmlsZSBleGNlcHQgaW4gY29tcGxpYW5jZSB3aXRoIHRoZSBMaWNlbnNlLgovLyBZb3UgbWF5IG9idGFpbiBhIGNvcHkgb2YgdGhlIExpY2Vuc2UgYXQKLy8KLy8gICAgICBodHRwOi8vd3d3LmFwYWNoZS5vcmcvbGljZW5zZXMvTElDRU5TRS0yLjAKLy8KLy8gVW5sZXNzIHJlcXVpcmVkIGJ5IGFwcGxpY2FibGUgbGF3IG9yIGFncmVlZCB0byBpbiB3cml0aW5nLCBzb2Z0d2FyZQovLyBkaXN0cmlidXRlZCB1bmRlciB0aGUgTGljZW5zZSBpcyBkaXN0cmlidXRlZCBvbiBhbiAiQVMgSVMiIEJBU0lTLAovLyBXSVRIT1VUIFdBUlJBTlRJRVMgT1IgQ09ORElUSU9OUyBPRiBBTlkgS0lORCwgZWl0aGVyIGV4cHJlc3Mgb3IgaW1wbGllZC4KLy8gU2VlIHRoZSBMaWNlbnNlIGZvciB0aGUgc3BlY2lmaWMgbGFuZ3VhZ2UgZ292ZXJuaW5nIHBlcm1pc3Npb25zIGFuZAovLyBsaW1pdGF0aW9ucyB1bmRlciB0aGUgTGljZW5zZS4KCi8qKgogKiBAZmlsZW92ZXJ2aWV3IEhlbHBlcnMgZm9yIGdvb2dsZS5jb2xhYiBQeXRob24gbW9kdWxlLgogKi8KKGZ1bmN0aW9uKHNjb3BlKSB7CmZ1bmN0aW9uIHNwYW4odGV4dCwgc3R5bGVBdHRyaWJ1dGVzID0ge30pIHsKICBjb25zdCBlbGVtZW50ID0gZG9jdW1lbnQuY3JlYXRlRWxlbWVudCgnc3BhbicpOwogIGVsZW1lbnQudGV4dENvbnRlbnQgPSB0ZXh0OwogIGZvciAoY29uc3Qga2V5IG9mIE9iamVjdC5rZXlzKHN0eWxlQXR0cmlidXRlcykpIHsKICAgIGVsZW1lbnQuc3R5bGVba2V5XSA9IHN0eWxlQXR0cmlidXRlc1trZXldOwogIH0KICByZXR1cm4gZWxlbWVudDsKfQoKLy8gTWF4IG51bWJlciBvZiBieXRlcyB3aGljaCB3aWxsIGJlIHVwbG9hZGVkIGF0IGEgdGltZS4KY29uc3QgTUFYX1BBWUxPQURfU0laRSA9IDEwMCAqIDEwMjQ7CgpmdW5jdGlvbiBfdXBsb2FkRmlsZXMoaW5wdXRJZCwgb3V0cHV0SWQpIHsKICBjb25zdCBzdGVwcyA9IHVwbG9hZEZpbGVzU3RlcChpbnB1dElkLCBvdXRwdXRJZCk7CiAgY29uc3Qgb3V0cHV0RWxlbWVudCA9IGRvY3VtZW50LmdldEVsZW1lbnRCeUlkKG91dHB1dElkKTsKICAvLyBDYWNoZSBzdGVwcyBvbiB0aGUgb3V0cHV0RWxlbWVudCB0byBtYWtlIGl0IGF2YWlsYWJsZSBmb3IgdGhlIG5leHQgY2FsbAogIC8vIHRvIHVwbG9hZEZpbGVzQ29udGludWUgZnJvbSBQeXRob24uCiAgb3V0cHV0RWxlbWVudC5zdGVwcyA9IHN0ZXBzOwoKICByZXR1cm4gX3VwbG9hZEZpbGVzQ29udGludWUob3V0cHV0SWQpOwp9CgovLyBUaGlzIGlzIHJvdWdobHkgYW4gYXN5bmMgZ2VuZXJhdG9yIChub3Qgc3VwcG9ydGVkIGluIHRoZSBicm93c2VyIHlldCksCi8vIHdoZXJlIHRoZXJlIGFyZSBtdWx0aXBsZSBhc3luY2hyb25vdXMgc3RlcHMgYW5kIHRoZSBQeXRob24gc2lkZSBpcyBnb2luZwovLyB0byBwb2xsIGZvciBjb21wbGV0aW9uIG9mIGVhY2ggc3RlcC4KLy8gVGhpcyB1c2VzIGEgUHJvbWlzZSB0byBibG9jayB0aGUgcHl0aG9uIHNpZGUgb24gY29tcGxldGlvbiBvZiBlYWNoIHN0ZXAsCi8vIHRoZW4gcGFzc2VzIHRoZSByZXN1bHQgb2YgdGhlIHByZXZpb3VzIHN0ZXAgYXMgdGhlIGlucHV0IHRvIHRoZSBuZXh0IHN0ZXAuCmZ1bmN0aW9uIF91cGxvYWRGaWxlc0NvbnRpbnVlKG91dHB1dElkKSB7CiAgY29uc3Qgb3V0cHV0RWxlbWVudCA9IGRvY3VtZW50LmdldEVsZW1lbnRCeUlkKG91dHB1dElkKTsKICBjb25zdCBzdGVwcyA9IG91dHB1dEVsZW1lbnQuc3RlcHM7CgogIGNvbnN0IG5leHQgPSBzdGVwcy5uZXh0KG91dHB1dEVsZW1lbnQubGFzdFByb21pc2VWYWx1ZSk7CiAgcmV0dXJuIFByb21pc2UucmVzb2x2ZShuZXh0LnZhbHVlLnByb21pc2UpLnRoZW4oKHZhbHVlKSA9PiB7CiAgICAvLyBDYWNoZSB0aGUgbGFzdCBwcm9taXNlIHZhbHVlIHRvIG1ha2UgaXQgYXZhaWxhYmxlIHRvIHRoZSBuZXh0CiAgICAvLyBzdGVwIG9mIHRoZSBnZW5lcmF0b3IuCiAgICBvdXRwdXRFbGVtZW50Lmxhc3RQcm9taXNlVmFsdWUgPSB2YWx1ZTsKICAgIHJldHVybiBuZXh0LnZhbHVlLnJlc3BvbnNlOwogIH0pOwp9CgovKioKICogR2VuZXJhdG9yIGZ1bmN0aW9uIHdoaWNoIGlzIGNhbGxlZCBiZXR3ZWVuIGVhY2ggYXN5bmMgc3RlcCBvZiB0aGUgdXBsb2FkCiAqIHByb2Nlc3MuCiAqIEBwYXJhbSB7c3RyaW5nfSBpbnB1dElkIEVsZW1lbnQgSUQgb2YgdGhlIGlucHV0IGZpbGUgcGlja2VyIGVsZW1lbnQuCiAqIEBwYXJhbSB7c3RyaW5nfSBvdXRwdXRJZCBFbGVtZW50IElEIG9mIHRoZSBvdXRwdXQgZGlzcGxheS4KICogQHJldHVybiB7IUl0ZXJhYmxlPCFPYmplY3Q+fSBJdGVyYWJsZSBvZiBuZXh0IHN0ZXBzLgogKi8KZnVuY3Rpb24qIHVwbG9hZEZpbGVzU3RlcChpbnB1dElkLCBvdXRwdXRJZCkgewogIGNvbnN0IGlucHV0RWxlbWVudCA9IGRvY3VtZW50LmdldEVsZW1lbnRCeUlkKGlucHV0SWQpOwogIGlucHV0RWxlbWVudC5kaXNhYmxlZCA9IGZhbHNlOwoKICBjb25zdCBvdXRwdXRFbGVtZW50ID0gZG9jdW1lbnQuZ2V0RWxlbWVudEJ5SWQob3V0cHV0SWQpOwogIG91dHB1dEVsZW1lbnQuaW5uZXJIVE1MID0gJyc7CgogIGNvbnN0IHBpY2tlZFByb21pc2UgPSBuZXcgUHJvbWlzZSgocmVzb2x2ZSkgPT4gewogICAgaW5wdXRFbGVtZW50LmFkZEV2ZW50TGlzdGVuZXIoJ2NoYW5nZScsIChlKSA9PiB7CiAgICAgIHJlc29sdmUoZS50YXJnZXQuZmlsZXMpOwogICAgfSk7CiAgfSk7CgogIGNvbnN0IGNhbmNlbCA9IGRvY3VtZW50LmNyZWF0ZUVsZW1lbnQoJ2J1dHRvbicpOwogIGlucHV0RWxlbWVudC5wYXJlbnRFbGVtZW50LmFwcGVuZENoaWxkKGNhbmNlbCk7CiAgY2FuY2VsLnRleHRDb250ZW50ID0gJ0NhbmNlbCB1cGxvYWQnOwogIGNvbnN0IGNhbmNlbFByb21pc2UgPSBuZXcgUHJvbWlzZSgocmVzb2x2ZSkgPT4gewogICAgY2FuY2VsLm9uY2xpY2sgPSAoKSA9PiB7CiAgICAgIHJlc29sdmUobnVsbCk7CiAgICB9OwogIH0pOwoKICAvLyBXYWl0IGZvciB0aGUgdXNlciB0byBwaWNrIHRoZSBmaWxlcy4KICBjb25zdCBmaWxlcyA9IHlpZWxkIHsKICAgIHByb21pc2U6IFByb21pc2UucmFjZShbcGlja2VkUHJvbWlzZSwgY2FuY2VsUHJvbWlzZV0pLAogICAgcmVzcG9uc2U6IHsKICAgICAgYWN0aW9uOiAnc3RhcnRpbmcnLAogICAgfQogIH07CgogIGNhbmNlbC5yZW1vdmUoKTsKCiAgLy8gRGlzYWJsZSB0aGUgaW5wdXQgZWxlbWVudCBzaW5jZSBmdXJ0aGVyIHBpY2tzIGFyZSBub3QgYWxsb3dlZC4KICBpbnB1dEVsZW1lbnQuZGlzYWJsZWQgPSB0cnVlOwoKICBpZiAoIWZpbGVzKSB7CiAgICByZXR1cm4gewogICAgICByZXNwb25zZTogewogICAgICAgIGFjdGlvbjogJ2NvbXBsZXRlJywKICAgICAgfQogICAgfTsKICB9CgogIGZvciAoY29uc3QgZmlsZSBvZiBmaWxlcykgewogICAgY29uc3QgbGkgPSBkb2N1bWVudC5jcmVhdGVFbGVtZW50KCdsaScpOwogICAgbGkuYXBwZW5kKHNwYW4oZmlsZS5uYW1lLCB7Zm9udFdlaWdodDogJ2JvbGQnfSkpOwogICAgbGkuYXBwZW5kKHNwYW4oCiAgICAgICAgYCgke2ZpbGUudHlwZSB8fCAnbi9hJ30pIC0gJHtmaWxlLnNpemV9IGJ5dGVzLCBgICsKICAgICAgICBgbGFzdCBtb2RpZmllZDogJHsKICAgICAgICAgICAgZmlsZS5sYXN0TW9kaWZpZWREYXRlID8gZmlsZS5sYXN0TW9kaWZpZWREYXRlLnRvTG9jYWxlRGF0ZVN0cmluZygpIDoKICAgICAgICAgICAgICAgICAgICAgICAgICAgICAgICAgICAgJ24vYSd9IC0gYCkpOwogICAgY29uc3QgcGVyY2VudCA9IHNwYW4oJzAlIGRvbmUnKTsKICAgIGxpLmFwcGVuZENoaWxkKHBlcmNlbnQpOwoKICAgIG91dHB1dEVsZW1lbnQuYXBwZW5kQ2hpbGQobGkpOwoKICAgIGNvbnN0IGZpbGVEYXRhUHJvbWlzZSA9IG5ldyBQcm9taXNlKChyZXNvbHZlKSA9PiB7CiAgICAgIGNvbnN0IHJlYWRlciA9IG5ldyBGaWxlUmVhZGVyKCk7CiAgICAgIHJlYWRlci5vbmxvYWQgPSAoZSkgPT4gewogICAgICAgIHJlc29sdmUoZS50YXJnZXQucmVzdWx0KTsKICAgICAgfTsKICAgICAgcmVhZGVyLnJlYWRBc0FycmF5QnVmZmVyKGZpbGUpOwogICAgfSk7CiAgICAvLyBXYWl0IGZvciB0aGUgZGF0YSB0byBiZSByZWFkeS4KICAgIGxldCBmaWxlRGF0YSA9IHlpZWxkIHsKICAgICAgcHJvbWlzZTogZmlsZURhdGFQcm9taXNlLAogICAgICByZXNwb25zZTogewogICAgICAgIGFjdGlvbjogJ2NvbnRpbnVlJywKICAgICAgfQogICAgfTsKCiAgICAvLyBVc2UgYSBjaHVua2VkIHNlbmRpbmcgdG8gYXZvaWQgbWVzc2FnZSBzaXplIGxpbWl0cy4gU2VlIGIvNjIxMTU2NjAuCiAgICBsZXQgcG9zaXRpb24gPSAwOwogICAgZG8gewogICAgICBjb25zdCBsZW5ndGggPSBNYXRoLm1pbihmaWxlRGF0YS5ieXRlTGVuZ3RoIC0gcG9zaXRpb24sIE1BWF9QQVlMT0FEX1NJWkUpOwogICAgICBjb25zdCBjaHVuayA9IG5ldyBVaW50OEFycmF5KGZpbGVEYXRhLCBwb3NpdGlvbiwgbGVuZ3RoKTsKICAgICAgcG9zaXRpb24gKz0gbGVuZ3RoOwoKICAgICAgY29uc3QgYmFzZTY0ID0gYnRvYShTdHJpbmcuZnJvbUNoYXJDb2RlLmFwcGx5KG51bGwsIGNodW5rKSk7CiAgICAgIHlpZWxkIHsKICAgICAgICByZXNwb25zZTogewogICAgICAgICAgYWN0aW9uOiAnYXBwZW5kJywKICAgICAgICAgIGZpbGU6IGZpbGUubmFtZSwKICAgICAgICAgIGRhdGE6IGJhc2U2NCwKICAgICAgICB9LAogICAgICB9OwoKICAgICAgbGV0IHBlcmNlbnREb25lID0gZmlsZURhdGEuYnl0ZUxlbmd0aCA9PT0gMCA/CiAgICAgICAgICAxMDAgOgogICAgICAgICAgTWF0aC5yb3VuZCgocG9zaXRpb24gLyBmaWxlRGF0YS5ieXRlTGVuZ3RoKSAqIDEwMCk7CiAgICAgIHBlcmNlbnQudGV4dENvbnRlbnQgPSBgJHtwZXJjZW50RG9uZX0lIGRvbmVgOwoKICAgIH0gd2hpbGUgKHBvc2l0aW9uIDwgZmlsZURhdGEuYnl0ZUxlbmd0aCk7CiAgfQoKICAvLyBBbGwgZG9uZS4KICB5aWVsZCB7CiAgICByZXNwb25zZTogewogICAgICBhY3Rpb246ICdjb21wbGV0ZScsCiAgICB9CiAgfTsKfQoKc2NvcGUuZ29vZ2xlID0gc2NvcGUuZ29vZ2xlIHx8IHt9OwpzY29wZS5nb29nbGUuY29sYWIgPSBzY29wZS5nb29nbGUuY29sYWIgfHwge307CnNjb3BlLmdvb2dsZS5jb2xhYi5fZmlsZXMgPSB7CiAgX3VwbG9hZEZpbGVzLAogIF91cGxvYWRGaWxlc0NvbnRpbnVlLAp9Owp9KShzZWxmKTsK",
              "ok": true,
              "headers": [
                [
                  "content-type",
                  "application/javascript"
                ]
              ],
              "status": 200,
              "status_text": ""
            }
          }
        },
        "id": "N8TkCwR21FIG",
        "outputId": "5c694117-1699-44d2-efbc-e7819f628e18"
      },
      "outputs": [
        {
          "output_type": "display_data",
          "data": {
            "text/plain": [
              "<IPython.core.display.HTML object>"
            ],
            "text/html": [
              "\n",
              "     <input type=\"file\" id=\"files-76f64b36-ba45-4d4e-ba97-85b802b1961e\" name=\"files[]\" multiple disabled\n",
              "        style=\"border:none\" />\n",
              "     <output id=\"result-76f64b36-ba45-4d4e-ba97-85b802b1961e\">\n",
              "      Upload widget is only available when the cell has been executed in the\n",
              "      current browser session. Please rerun this cell to enable.\n",
              "      </output>\n",
              "      <script src=\"/nbextensions/google.colab/files.js\"></script> "
            ]
          },
          "metadata": {}
        },
        {
          "output_type": "stream",
          "name": "stdout",
          "text": [
            "Saving sub_1.csv to sub_1.csv\n",
            "Saving sub_2.csv to sub_2.csv\n",
            "Saving sub_3.csv to sub_3.csv\n",
            "Saving sub_4.csv to sub_4.csv\n",
            "Saving sub_5.csv to sub_5.csv\n",
            "Saving sub_6.csv to sub_6.csv\n",
            "Saving sub_7.csv to sub_7.csv\n",
            "Saving sub_8.csv to sub_8.csv\n",
            "Saving sub_9.csv to sub_9.csv\n",
            "Saving sub_10.csv to sub_10.csv\n",
            "Saving sub_11.csv to sub_11.csv\n",
            "Saving sub_12.csv to sub_12.csv\n",
            "Saving sub_13.csv to sub_13.csv\n",
            "Saving sub_14.csv to sub_14.csv\n",
            "Saving sub_15.csv to sub_15.csv\n",
            "Saving sub_16.csv to sub_16.csv\n",
            "Saving sub_17.csv to sub_17.csv\n",
            "Saving sub_18.csv to sub_18.csv\n",
            "Saving sub_19.csv to sub_19.csv\n",
            "Saving sub_20.csv to sub_20.csv\n",
            "Saving sub_21.csv to sub_21.csv\n",
            "Saving sub_22.csv to sub_22.csv\n",
            "Saving sub_23.csv to sub_23.csv\n",
            "Saving sub_24.csv to sub_24.csv\n"
          ]
        }
      ],
      "source": [
        "from google.colab import files\n",
        "\n",
        "uploaded = files.upload() "
      ]
    },
    {
      "cell_type": "code",
      "source": [
        ""
      ],
      "metadata": {
        "id": "BmiY5UMJ-lBV"
      },
      "execution_count": null,
      "outputs": []
    },
    {
      "cell_type": "code",
      "source": [
        "# merging all male csv files from wlk_7\n",
        "wlk7_male_df = pd.concat(\n",
        "    map(pd.read_csv, ['sub_1.csv', 'sub_2.csv', 'sub_4.csv', 'sub_6.csv', 'sub_9.csv', 'sub_11.csv', 'sub_12.csv', 'sub_13.csv', 'sub_14.csv', 'sub_15.csv', 'sub_17.csv', 'sub_20.csv', 'sub_21.csv', 'sub_22.csv']), ignore_index=True)\n",
        "print(wlk7_male_df) "
      ],
      "metadata": {
        "colab": {
          "base_uri": "https://localhost:8080/"
        },
        "outputId": "52a3bb7a-f181-4d1c-a9d9-a9b8bd433c34",
        "id": "qrLtfOn8GR0W"
      },
      "execution_count": null,
      "outputs": [
        {
          "output_type": "stream",
          "name": "stdout",
          "text": [
            "       Unnamed: 0  attitude.roll  attitude.pitch  attitude.yaw  gravity.x  \\\n",
            "0               0      -1.711140       -1.429168     -2.591433  -0.139767   \n",
            "1               1      -1.787917       -1.414171     -2.630956  -0.152324   \n",
            "2               2      -1.897323       -1.399331     -2.706668  -0.161610   \n",
            "3               3      -2.018375       -1.383279     -2.813421  -0.168058   \n",
            "4               4      -2.124395       -1.364054     -2.913092  -0.174613   \n",
            "...           ...            ...             ...           ...        ...   \n",
            "94135        6437       0.820939       -1.010720     -0.679626   0.388757   \n",
            "94136        6438       0.812806       -0.966541     -0.656513   0.412596   \n",
            "94137        6439       0.803715       -0.939513     -0.626011   0.424890   \n",
            "94138        6440       0.783811       -0.914628     -0.599212   0.430707   \n",
            "94139        6441       0.758766       -0.895560     -0.577389   0.430069   \n",
            "\n",
            "       gravity.y  gravity.z  rotationRate.x  rotationRate.y  rotationRate.z  \\\n",
            "0       0.989987   0.019745       -0.350593       -0.511691       -0.865217   \n",
            "1       0.987759   0.033602       -0.550553       -2.243217       -0.582409   \n",
            "2       0.985336   0.054729       -0.931014       -1.358033       -0.503947   \n",
            "3       0.982470   0.080680       -1.304668       -0.541368       -0.346302   \n",
            "4       0.978705   0.107922       -1.278349       -0.434722       -0.398598   \n",
            "...          ...        ...             ...             ...             ...   \n",
            "94135   0.847214  -0.362061        1.416173       -1.155230        2.383003   \n",
            "94136   0.822926  -0.390577        0.686405       -1.239930        1.820402   \n",
            "94137   0.807271  -0.409603        0.245132       -1.905177        1.532957   \n",
            "94138   0.792336  -0.432076        0.297197       -2.140029        1.344546   \n",
            "94139   0.780560  -0.453609        0.189892       -2.062971        1.081984   \n",
            "\n",
            "       userAcceleration.x  userAcceleration.y  userAcceleration.z  \n",
            "0                0.091702            0.415881            0.093689  \n",
            "1                0.367412            0.004566           -0.106082  \n",
            "2                0.172093           -0.217483           -0.163387  \n",
            "3                0.004957           -0.237566           -0.019080  \n",
            "4               -0.040292           -0.241461            0.015201  \n",
            "...                   ...                 ...                 ...  \n",
            "94135           -0.351571           -0.338029            0.319199  \n",
            "94136           -0.246962           -0.189625            0.377378  \n",
            "94137           -0.203409           -0.282796            0.455761  \n",
            "94138           -0.337338           -0.397636            0.552467  \n",
            "94139           -0.415268           -0.362270            0.600856  \n",
            "\n",
            "[94140 rows x 13 columns]\n"
          ]
        }
      ]
    },
    {
      "cell_type": "code",
      "source": [
        "# Drop first column of dataframe\n",
        "wlk7_male_df = wlk7_male_df.iloc[: , 1:]\n",
        "wlk7_male_df.shape "
      ],
      "metadata": {
        "colab": {
          "base_uri": "https://localhost:8080/"
        },
        "outputId": "65da8bb0-1a2b-45be-ec26-bae3aa275610",
        "id": "vpOylZynGR0W"
      },
      "execution_count": null,
      "outputs": [
        {
          "output_type": "execute_result",
          "data": {
            "text/plain": [
              "(94140, 12)"
            ]
          },
          "metadata": {},
          "execution_count": 5
        }
      ]
    },
    {
      "cell_type": "code",
      "source": [
        "# Add Class Variable \"Activity\" in dataframe\n",
        "wlk7_male_df[\"Activity\"] = 'Walking' \n",
        "print(wlk7_male_df) "
      ],
      "metadata": {
        "colab": {
          "base_uri": "https://localhost:8080/"
        },
        "outputId": "e0d157e4-21e8-40d7-9627-d91d3d97777b",
        "id": "0_S6w3TnGR0X"
      },
      "execution_count": null,
      "outputs": [
        {
          "output_type": "stream",
          "name": "stdout",
          "text": [
            "       attitude.roll  attitude.pitch  attitude.yaw  gravity.x  gravity.y  \\\n",
            "0          -1.711140       -1.429168     -2.591433  -0.139767   0.989987   \n",
            "1          -1.787917       -1.414171     -2.630956  -0.152324   0.987759   \n",
            "2          -1.897323       -1.399331     -2.706668  -0.161610   0.985336   \n",
            "3          -2.018375       -1.383279     -2.813421  -0.168058   0.982470   \n",
            "4          -2.124395       -1.364054     -2.913092  -0.174613   0.978705   \n",
            "...              ...             ...           ...        ...        ...   \n",
            "94135       0.820939       -1.010720     -0.679626   0.388757   0.847214   \n",
            "94136       0.812806       -0.966541     -0.656513   0.412596   0.822926   \n",
            "94137       0.803715       -0.939513     -0.626011   0.424890   0.807271   \n",
            "94138       0.783811       -0.914628     -0.599212   0.430707   0.792336   \n",
            "94139       0.758766       -0.895560     -0.577389   0.430069   0.780560   \n",
            "\n",
            "       gravity.z  rotationRate.x  rotationRate.y  rotationRate.z  \\\n",
            "0       0.019745       -0.350593       -0.511691       -0.865217   \n",
            "1       0.033602       -0.550553       -2.243217       -0.582409   \n",
            "2       0.054729       -0.931014       -1.358033       -0.503947   \n",
            "3       0.080680       -1.304668       -0.541368       -0.346302   \n",
            "4       0.107922       -1.278349       -0.434722       -0.398598   \n",
            "...          ...             ...             ...             ...   \n",
            "94135  -0.362061        1.416173       -1.155230        2.383003   \n",
            "94136  -0.390577        0.686405       -1.239930        1.820402   \n",
            "94137  -0.409603        0.245132       -1.905177        1.532957   \n",
            "94138  -0.432076        0.297197       -2.140029        1.344546   \n",
            "94139  -0.453609        0.189892       -2.062971        1.081984   \n",
            "\n",
            "       userAcceleration.x  userAcceleration.y  userAcceleration.z Activity  \n",
            "0                0.091702            0.415881            0.093689  Walking  \n",
            "1                0.367412            0.004566           -0.106082  Walking  \n",
            "2                0.172093           -0.217483           -0.163387  Walking  \n",
            "3                0.004957           -0.237566           -0.019080  Walking  \n",
            "4               -0.040292           -0.241461            0.015201  Walking  \n",
            "...                   ...                 ...                 ...      ...  \n",
            "94135           -0.351571           -0.338029            0.319199  Walking  \n",
            "94136           -0.246962           -0.189625            0.377378  Walking  \n",
            "94137           -0.203409           -0.282796            0.455761  Walking  \n",
            "94138           -0.337338           -0.397636            0.552467  Walking  \n",
            "94139           -0.415268           -0.362270            0.600856  Walking  \n",
            "\n",
            "[94140 rows x 13 columns]\n"
          ]
        }
      ]
    },
    {
      "cell_type": "code",
      "source": [
        "# merging all female csv files from wlk_7 \n",
        "wlk7_female_df = pd.concat(\n",
        "    map(pd.read_csv, ['sub_3.csv', 'sub_5.csv', 'sub_7.csv', 'sub_8.csv', 'sub_10.csv', 'sub_16.csv', 'sub_18.csv', 'sub_19.csv', 'sub_23.csv', 'sub_24.csv']), ignore_index=True)\n",
        "print(wlk7_female_df) "
      ],
      "metadata": {
        "colab": {
          "base_uri": "https://localhost:8080/"
        },
        "outputId": "8bb98482-f599-44c8-ca7a-92c2a516d3ea",
        "id": "JWukHo_YGR0X"
      },
      "execution_count": null,
      "outputs": [
        {
          "output_type": "stream",
          "name": "stdout",
          "text": [
            "       Unnamed: 0  attitude.roll  attitude.pitch  attitude.yaw  gravity.x  \\\n",
            "0               0       1.959818       -1.462167      1.432332   0.100293   \n",
            "1               1       2.011369       -1.456576      1.482870   0.103072   \n",
            "2               2       2.075497       -1.449990      1.540119   0.105472   \n",
            "3               3       2.126304       -1.446606      1.582288   0.105232   \n",
            "4               4       2.208217       -1.441369      1.657403   0.103709   \n",
            "...           ...            ...             ...           ...        ...   \n",
            "64500        5016       1.456354        0.025356      2.896466   0.993139   \n",
            "64501        5017       1.435872       -0.007495      2.934749   0.990884   \n",
            "64502        5018       1.438846       -0.054606      2.985588   0.989830   \n",
            "64503        5019       1.454454       -0.112258      3.026277   0.986988   \n",
            "64504        5020       1.437505       -0.167232      3.047170   0.977303   \n",
            "\n",
            "       gravity.y  gravity.z  rotationRate.x  rotationRate.y  rotationRate.z  \\\n",
            "0       0.994106   0.041111       -0.333684       -0.048062        0.127956   \n",
            "1       0.993484   0.048596       -0.380763        0.178926        0.147632   \n",
            "2       0.992712   0.058265       -0.310003        0.427155        0.081579   \n",
            "3       0.992298   0.065318       -0.223194        0.415531       -0.017145   \n",
            "4       0.991636   0.076801       -0.321973        0.308155        0.014350   \n",
            "...          ...        ...             ...             ...             ...   \n",
            "64500  -0.025353  -0.114156       -1.752755       -1.227092       -1.086473   \n",
            "64501   0.007495  -0.134512       -2.400265       -0.738197       -1.573391   \n",
            "64502   0.054579  -0.131371       -2.956584        0.625724       -2.247732   \n",
            "64503   0.112022  -0.115350       -1.865098        0.128621       -2.755422   \n",
            "64504   0.166454  -0.131043       -1.284291       -1.376653       -2.450334   \n",
            "\n",
            "       userAcceleration.x  userAcceleration.y  userAcceleration.z  \n",
            "0               -0.027966           -0.036617            0.240444  \n",
            "1               -0.048690           -0.034088            0.240314  \n",
            "2               -0.037097           -0.028005            0.167642  \n",
            "3               -0.018714           -0.021519            0.191762  \n",
            "4                0.041738           -0.024275            0.240521  \n",
            "...                   ...                 ...                 ...  \n",
            "64500           -1.426291            1.494653            0.215123  \n",
            "64501           -1.227761            1.270368            0.252813  \n",
            "64502           -0.859764            1.209261            0.466958  \n",
            "64503           -0.055347            1.700600           -0.444709  \n",
            "64504           -0.056038            1.565968           -0.533371  \n",
            "\n",
            "[64505 rows x 13 columns]\n"
          ]
        }
      ]
    },
    {
      "cell_type": "code",
      "source": [
        "# Drop first column of dataframe\n",
        "wlk7_female_df = wlk7_female_df.iloc[: , 1:]\n",
        "wlk7_female_df.shape"
      ],
      "metadata": {
        "colab": {
          "base_uri": "https://localhost:8080/"
        },
        "outputId": "eea2b8c7-08e1-41b6-d4ca-79fe7c22d82d",
        "id": "UzLCb8YMGR0X"
      },
      "execution_count": null,
      "outputs": [
        {
          "output_type": "execute_result",
          "data": {
            "text/plain": [
              "(64505, 12)"
            ]
          },
          "metadata": {},
          "execution_count": 8
        }
      ]
    },
    {
      "cell_type": "code",
      "source": [
        "# Add Class Variable \"Activity\" in dataframe\n",
        "wlk7_female_df[\"Activity\"] = 'Walking' \n",
        "wlk7_female_df.shape"
      ],
      "metadata": {
        "colab": {
          "base_uri": "https://localhost:8080/"
        },
        "outputId": "177263e7-878d-485e-f4aa-1e396570019a",
        "id": "bytgTVR1GR0X"
      },
      "execution_count": null,
      "outputs": [
        {
          "output_type": "execute_result",
          "data": {
            "text/plain": [
              "(64505, 13)"
            ]
          },
          "metadata": {},
          "execution_count": 9
        }
      ]
    },
    {
      "cell_type": "code",
      "source": [
        "# merging all male csv files from wlk_8\n",
        "wlk8_male_df = pd.concat(\n",
        "    map(pd.read_csv, ['sub_1_w8.csv', 'sub_2_w8.csv', 'sub_4_w8.csv', 'sub_6_w8.csv', 'sub_9_w8.csv', 'sub_11_w8.csv', 'sub_12_w8.csv', 'sub_13_w8.csv', 'sub_14_w8.csv', 'sub_15_w8.csv', 'sub_17_w8.csv', 'sub_20_w8.csv', 'sub_21_w8.csv', 'sub_22_w8.csv']), ignore_index=True)\n",
        "print(wlk8_male_df) "
      ],
      "metadata": {
        "colab": {
          "base_uri": "https://localhost:8080/"
        },
        "outputId": "16889cec-15c3-4b00-d4ba-a4fb6dba08b6",
        "id": "cwFWS-anGR0X"
      },
      "execution_count": null,
      "outputs": [
        {
          "output_type": "stream",
          "name": "stdout",
          "text": [
            "       Unnamed: 0  attitude.roll  attitude.pitch  attitude.yaw  gravity.x  \\\n",
            "0               0       2.255404       -1.421448      1.482931   0.115265   \n",
            "1               1       1.960381       -1.423633      1.195886   0.135644   \n",
            "2               2       1.648809       -1.412348      0.888191   0.157306   \n",
            "3               3       1.342174       -1.388827      0.616273   0.176258   \n",
            "4               4       1.121672       -1.355100      0.449400   0.192801   \n",
            "...           ...            ...             ...           ...        ...   \n",
            "69278        4943       0.941090       -1.092168      0.900210   0.372226   \n",
            "69279        4944       0.929729       -1.126047      0.878770   0.344811   \n",
            "69280        4945       0.927453       -1.159592      0.877930   0.319807   \n",
            "69281        4946       0.961754       -1.195810      0.910480   0.300404   \n",
            "69282        4947       1.041013       -1.233225      0.977956   0.285793   \n",
            "\n",
            "       gravity.y  gravity.z  rotationRate.x  rotationRate.y  rotationRate.z  \\\n",
            "0       0.988868   0.094092        2.093755       -1.138890        1.004218   \n",
            "1       0.989191   0.055691        1.876863       -0.243485        1.026131   \n",
            "2       0.987473   0.012297        2.316180       -0.729885        1.070415   \n",
            "3       0.983489  -0.041014        2.319882       -2.589580        0.998049   \n",
            "4       0.976828  -0.092926        2.037166       -2.692458        1.129734   \n",
            "...          ...        ...             ...             ...             ...   \n",
            "69278   0.887627  -0.271228       -0.671602        0.901420       -1.561010   \n",
            "69279   0.902718  -0.257300       -0.675655        0.182591       -1.615664   \n",
            "69280   0.916640  -0.239777       -1.196180       -0.103763       -1.216214   \n",
            "69281   0.930513  -0.209530       -1.783478        0.439778       -1.036210   \n",
            "69282   0.943562  -0.167368       -2.021393        1.038792       -0.912589   \n",
            "\n",
            "       userAcceleration.x  userAcceleration.y  userAcceleration.z  \n",
            "0                0.008911            0.811516            0.390558  \n",
            "1               -0.138467            0.779104            0.459506  \n",
            "2               -0.411792            0.657027            0.080446  \n",
            "3               -0.399219            0.419755            0.108610  \n",
            "4               -0.132483           -0.012442            0.250869  \n",
            "...                   ...                 ...                 ...  \n",
            "69278            0.118421            0.634101            0.268039  \n",
            "69279            0.021659            0.266044            0.240317  \n",
            "69280           -0.074690            0.127382            0.337265  \n",
            "69281           -0.376499            0.049590            0.404171  \n",
            "69282           -0.351299            0.030620            0.305216  \n",
            "\n",
            "[69283 rows x 13 columns]\n"
          ]
        }
      ]
    },
    {
      "cell_type": "code",
      "source": [
        "# Drop first column of dataframe\n",
        "wlk8_male_df = wlk8_male_df.iloc[: , 1:]\n",
        "wlk8_male_df.shape "
      ],
      "metadata": {
        "colab": {
          "base_uri": "https://localhost:8080/"
        },
        "outputId": "5818d04c-0eb8-4764-a7d1-bc2b6f11df0e",
        "id": "fRqdd0mBGR0Y"
      },
      "execution_count": null,
      "outputs": [
        {
          "output_type": "execute_result",
          "data": {
            "text/plain": [
              "(69283, 12)"
            ]
          },
          "metadata": {},
          "execution_count": 11
        }
      ]
    },
    {
      "cell_type": "code",
      "source": [
        "# Add Class Variable \"Activity\" in dataframe\n",
        "wlk8_male_df[\"Activity\"] = 'Walking' \n",
        "wlk8_male_df.shape \n",
        "# print(wlk8_male_df)"
      ],
      "metadata": {
        "colab": {
          "base_uri": "https://localhost:8080/"
        },
        "outputId": "bbba17a5-e468-45cf-fb3f-8b6d3593d609",
        "id": "cuTm-SGvGR0Y"
      },
      "execution_count": null,
      "outputs": [
        {
          "output_type": "execute_result",
          "data": {
            "text/plain": [
              "(69283, 13)"
            ]
          },
          "metadata": {},
          "execution_count": 12
        }
      ]
    },
    {
      "cell_type": "code",
      "source": [
        "# merging all female csv files from wlk_8 \n",
        "wlk8_female_df = pd.concat(\n",
        "    map(pd.read_csv, ['sub_3_w8.csv', 'sub_5_w8.csv', 'sub_7_w8.csv', 'sub_8_w8.csv', 'sub_10_w8.csv', 'sub_16_w8.csv', 'sub_18_w8.csv', 'sub_19_w8.csv', 'sub_23_w8.csv', 'sub_24_w8.csv']), ignore_index=True)\n",
        "print(wlk8_female_df) "
      ],
      "metadata": {
        "colab": {
          "base_uri": "https://localhost:8080/"
        },
        "outputId": "543834ad-2fbd-409a-bc34-4ea175b3e1d6",
        "id": "CnlIlLauGR0Y"
      },
      "execution_count": null,
      "outputs": [
        {
          "output_type": "stream",
          "name": "stdout",
          "text": [
            "       Unnamed: 0  attitude.roll  attitude.pitch  attitude.yaw  gravity.x  \\\n",
            "0               0       1.342161       -1.228059      2.729128   0.327319   \n",
            "1               1       1.301643       -1.223361      2.711964   0.328227   \n",
            "2               2       1.283964       -1.216824      2.704733   0.332463   \n",
            "3               3       1.286451       -1.203136      2.717144   0.344998   \n",
            "4               4       1.233368       -1.187758      2.682898   0.352664   \n",
            "...           ...            ...             ...           ...        ...   \n",
            "51083        4071       0.732151       -1.023012     -2.798738   0.348138   \n",
            "51084        4072       0.719940       -0.958009     -2.811475   0.379219   \n",
            "51085        4073       0.738723       -0.946121     -2.745565   0.393794   \n",
            "51086        4074       0.722347       -0.976487     -2.779944   0.370201   \n",
            "51087        4075       0.700401       -0.988938     -2.833834   0.354216   \n",
            "\n",
            "       gravity.y  gravity.z  rotationRate.x  rotationRate.y  rotationRate.z  \\\n",
            "0       0.941838  -0.076169        0.026580       -1.337192        0.108924   \n",
            "1       0.940249  -0.090540        0.441573       -1.034258        0.183005   \n",
            "2       0.938003  -0.098065        0.008623       -0.283720        0.411892   \n",
            "3       0.933171  -0.100831        0.255683       -0.754684        0.758188   \n",
            "4       0.927533  -0.123731        1.066172       -1.227832        0.363873   \n",
            "...          ...        ...             ...             ...             ...   \n",
            "51083   0.853681  -0.387337        2.721599        0.550040        1.300539   \n",
            "51084   0.818048  -0.432424        2.203871       -0.652628        2.539738   \n",
            "51085   0.811153  -0.432385       -1.880149       -0.919505        0.096303   \n",
            "51086   0.828535  -0.420096        0.292884        1.095296       -1.875856   \n",
            "51087   0.835443  -0.420198        0.372638        1.206299       -1.466313   \n",
            "\n",
            "       userAcceleration.x  userAcceleration.y  userAcceleration.z  \n",
            "0                0.088331            0.524653           -0.111896  \n",
            "1                0.225133            1.003507           -0.239599  \n",
            "2                0.085811            0.365814           -0.480319  \n",
            "3                0.018009            0.252986           -0.404983  \n",
            "4                0.356138            0.521991            0.013821  \n",
            "...                   ...                 ...                 ...  \n",
            "51083           -0.417596           -0.065656            0.728386  \n",
            "51084           -0.716575            1.026449            1.702428  \n",
            "51085           -3.219005            2.879170            2.407650  \n",
            "51086           -2.123786            0.573976            1.137808  \n",
            "51087           -1.044966           -0.384118            0.718614  \n",
            "\n",
            "[51088 rows x 13 columns]\n"
          ]
        }
      ]
    },
    {
      "cell_type": "code",
      "source": [
        "# Drop first column of dataframe\n",
        "wlk8_female_df = wlk8_female_df.iloc[: , 1:]\n",
        "wlk8_female_df.shape "
      ],
      "metadata": {
        "colab": {
          "base_uri": "https://localhost:8080/"
        },
        "outputId": "6ea4f05f-213a-4616-d6c0-cb8c4d9d342c",
        "id": "ViUrJx79GR0Y"
      },
      "execution_count": null,
      "outputs": [
        {
          "output_type": "execute_result",
          "data": {
            "text/plain": [
              "(51088, 12)"
            ]
          },
          "metadata": {},
          "execution_count": 14
        }
      ]
    },
    {
      "cell_type": "code",
      "source": [
        "# Add Class Variable \"Activity\" in dataframe\n",
        "wlk8_female_df[\"Activity\"] = 'Walking' \n",
        "wlk8_female_df.shape"
      ],
      "metadata": {
        "colab": {
          "base_uri": "https://localhost:8080/"
        },
        "outputId": "57a220cf-ccbd-4caa-a369-c572c662d69b",
        "id": "EIlfiacKGR0Y"
      },
      "execution_count": null,
      "outputs": [
        {
          "output_type": "execute_result",
          "data": {
            "text/plain": [
              "(51088, 13)"
            ]
          },
          "metadata": {},
          "execution_count": 15
        }
      ]
    },
    {
      "cell_type": "code",
      "source": [
        "# merging all male csv files from wlk_15\n",
        "wlk15_male_df = pd.concat(\n",
        "    map(pd.read_csv, ['sub_1_wlk15.csv', 'sub_2_wlk15.csv', 'sub_4_wlk15.csv', 'sub_6_wlk15.csv', 'sub_9_wlk15.csv', 'sub_11_wlk15.csv', 'sub_12_wlk15.csv', 'sub_13_wlk15.csv', 'sub_14_wlk15.csv', 'sub_15_wlk15.csv', 'sub_17_wlk15.csv', 'sub_20_wlk15.csv', 'sub_21_wlk15.csv', 'sub_22_wlk15.csv']), ignore_index=True)\n",
        "print(wlk15_male_df)"
      ],
      "metadata": {
        "colab": {
          "base_uri": "https://localhost:8080/"
        },
        "outputId": "85636d59-74b6-4635-9cc9-d715f1b41063",
        "id": "lCc3PRsuGR0Z"
      },
      "execution_count": null,
      "outputs": [
        {
          "output_type": "stream",
          "name": "stdout",
          "text": [
            "       Unnamed: 0  attitude.roll  attitude.pitch  attitude.yaw  gravity.x  \\\n",
            "0               0      -0.642341       -1.408409     -1.725791  -0.096855   \n",
            "1               1      -1.063803       -1.440007     -2.200242  -0.114011   \n",
            "2               2      -1.258381       -1.432875     -2.424099  -0.130829   \n",
            "3               3      -1.391648       -1.420133     -2.584396  -0.147692   \n",
            "4               4      -1.602210       -1.412241     -2.812153  -0.157814   \n",
            "...           ...            ...             ...           ...        ...   \n",
            "37678        2368       0.652484       -0.807196      0.146552   0.419865   \n",
            "37679        2369       0.622831       -0.843409      0.138808   0.387870   \n",
            "37680        2370       0.617302       -0.846571      0.128739   0.383509   \n",
            "37681        2371       0.645521       -0.830476      0.144746   0.405800   \n",
            "37682        2372       0.660655       -0.824494      0.171551   0.416610   \n",
            "\n",
            "       gravity.y  gravity.z  rotationRate.x  rotationRate.y  rotationRate.z  \\\n",
            "0       0.986844  -0.129452       -4.822288        3.517159       -1.556482   \n",
            "1       0.991459  -0.063324       -2.657579        1.764313       -0.919547   \n",
            "2       0.990504  -0.042257       -0.640600        1.383491       -0.940221   \n",
            "3       0.988672  -0.026745       -1.372217        1.084103       -0.827444   \n",
            "4       0.987457   0.004959       -1.764822        0.642413       -0.321146   \n",
            "...          ...        ...             ...             ...             ...   \n",
            "37678   0.722351  -0.549468       -1.568919       -0.961068       -1.045064   \n",
            "37679   0.746914  -0.540064       -0.924024       -1.387158       -1.342320   \n",
            "37680   0.749013  -0.540272        0.541904        1.026533        0.370777   \n",
            "37681   0.738253  -0.538796        0.071321        0.355959        0.906733   \n",
            "37682   0.734204  -0.536071       -0.497253       -0.572061        0.908223   \n",
            "\n",
            "       userAcceleration.x  userAcceleration.y  userAcceleration.z  \n",
            "0               -0.534569           -0.158566            0.918927  \n",
            "1                0.022550            0.026424            0.394119  \n",
            "2                0.522461            0.306722           -0.095133  \n",
            "3                0.556612            0.253333           -0.207446  \n",
            "4                0.394126           -0.162551            0.027161  \n",
            "...                   ...                 ...                 ...  \n",
            "37678           -0.129933           -0.134796            0.027587  \n",
            "37679            0.572549            0.711826           -0.539114  \n",
            "37680            1.804571            1.593669           -1.024548  \n",
            "37681            0.319389            0.316114           -0.555274  \n",
            "37682           -0.155273           -0.286283           -0.083405  \n",
            "\n",
            "[37683 rows x 13 columns]\n"
          ]
        }
      ]
    },
    {
      "cell_type": "code",
      "source": [
        "# Drop first column of dataframe\n",
        "wlk15_male_df = wlk15_male_df.iloc[: , 1:]\n",
        "wlk15_male_df.shape"
      ],
      "metadata": {
        "colab": {
          "base_uri": "https://localhost:8080/"
        },
        "outputId": "f3b86e45-fe98-49a6-db34-341488e82e77",
        "id": "9wtODeQuGR0Z"
      },
      "execution_count": null,
      "outputs": [
        {
          "output_type": "execute_result",
          "data": {
            "text/plain": [
              "(37683, 12)"
            ]
          },
          "metadata": {},
          "execution_count": 17
        }
      ]
    },
    {
      "cell_type": "code",
      "source": [
        "# Add Class Variable \"Activity\" in dataframe\n",
        "wlk15_male_df[\"Activity\"] = 'Walking' \n",
        "wlk15_male_df.shape"
      ],
      "metadata": {
        "colab": {
          "base_uri": "https://localhost:8080/"
        },
        "outputId": "1663b482-d921-478b-a9b2-e5d2e4b6dbe4",
        "id": "ZgLOGBWZGR0a"
      },
      "execution_count": null,
      "outputs": [
        {
          "output_type": "execute_result",
          "data": {
            "text/plain": [
              "(37683, 13)"
            ]
          },
          "metadata": {},
          "execution_count": 18
        }
      ]
    },
    {
      "cell_type": "code",
      "source": [
        "# merging all female csv files from wlk_15 \n",
        "wlk15_female_df = pd.concat(\n",
        "    map(pd.read_csv, ['sub_3_wlk15.csv', 'sub_5_wlk15.csv', 'sub_7_wlk15.csv', 'sub_8_wlk15.csv', 'sub_10_wlk15.csv', 'sub_16_wlk15.csv', 'sub_18_wlk15.csv', 'sub_19_wlk15.csv', 'sub_23_wlk15.csv', 'sub_24_wlk15.csv']), ignore_index=True)\n",
        "print(wlk15_female_df) "
      ],
      "metadata": {
        "colab": {
          "base_uri": "https://localhost:8080/"
        },
        "outputId": "bfe94248-f6d2-4477-e34f-72229a097a99",
        "id": "gg236j9iGR0a"
      },
      "execution_count": null,
      "outputs": [
        {
          "output_type": "stream",
          "name": "stdout",
          "text": [
            "       Unnamed: 0  attitude.roll  attitude.pitch  attitude.yaw  gravity.x  \\\n",
            "0               0       0.320966       -1.185376     -0.185139   0.118605   \n",
            "1               1       0.309780       -1.194660     -0.206318   0.111979   \n",
            "2               2       0.292629       -1.209627     -0.235917   0.101935   \n",
            "3               3       0.281451       -1.235911     -0.263848   0.091284   \n",
            "4               4       0.291753       -1.269970     -0.269821   0.085226   \n",
            "...           ...            ...             ...           ...        ...   \n",
            "27584        2055      -1.287175       -1.180782      1.184133  -0.365012   \n",
            "27585        2056      -1.217304       -1.160821      1.208497  -0.373942   \n",
            "27586        2057      -1.083201       -1.167077      1.269294  -0.347061   \n",
            "27587        2058      -0.966096       -1.193223      1.348783  -0.303291   \n",
            "27588        2059      -0.989568       -1.205294      1.358403  -0.298726   \n",
            "\n",
            "       gravity.y  gravity.z  rotationRate.x  rotationRate.y  rotationRate.z  \\\n",
            "0       0.926641  -0.356746       -0.335065        0.474998       -0.462754   \n",
            "1       0.930091  -0.349842       -0.348661        0.432849       -0.566412   \n",
            "2       0.935484  -0.338343       -0.738267        0.608878       -0.825732   \n",
            "3       0.944448  -0.315725       -1.348851        0.821741       -0.781132   \n",
            "4       0.955092  -0.283783       -1.704910        0.761912       -0.428895   \n",
            "...          ...        ...             ...             ...             ...   \n",
            "27584   0.924904  -0.106393        1.446270        2.409207       -1.052698   \n",
            "27585   0.917131  -0.137981        0.602010        2.675064       -0.472482   \n",
            "27586   0.919606  -0.184047        1.125564        4.413143        1.581002   \n",
            "27587   0.929562  -0.209592        0.086910        0.436147        1.762577   \n",
            "27588   0.933944  -0.196241        0.290219       -2.380552       -0.248128   \n",
            "\n",
            "       userAcceleration.x  userAcceleration.y  userAcceleration.z  \n",
            "0               -0.327269           -0.227803            0.307002  \n",
            "1                0.023565           -0.093848            0.477069  \n",
            "2                0.262658            0.050783            0.470271  \n",
            "3                0.174814            0.174800            0.367468  \n",
            "4               -0.072821            0.121614            0.221985  \n",
            "...                   ...                 ...                 ...  \n",
            "27584            0.034354           -0.574501            0.060144  \n",
            "27585            0.547953           -0.481645           -0.232273  \n",
            "27586            0.910034            0.194606           -0.770222  \n",
            "27587            0.811333            0.424518           -0.716784  \n",
            "27588           -0.733485            1.490250           -0.275576  \n",
            "\n",
            "[27589 rows x 13 columns]\n"
          ]
        }
      ]
    },
    {
      "cell_type": "code",
      "source": [
        "# Drop first column of dataframe\n",
        "wlk15_female_df = wlk15_female_df.iloc[: , 1:]\n",
        "wlk15_female_df.shape"
      ],
      "metadata": {
        "colab": {
          "base_uri": "https://localhost:8080/"
        },
        "outputId": "74db0e14-970b-4dcd-8e46-afd385e696dc",
        "id": "iDgtua_yGR0a"
      },
      "execution_count": null,
      "outputs": [
        {
          "output_type": "execute_result",
          "data": {
            "text/plain": [
              "(27589, 12)"
            ]
          },
          "metadata": {},
          "execution_count": 20
        }
      ]
    },
    {
      "cell_type": "code",
      "source": [
        "# Add Class Variable \"Activity\" in dataframe\n",
        "wlk15_female_df[\"Activity\"] = 'Walking' \n",
        "wlk15_female_df.shape "
      ],
      "metadata": {
        "colab": {
          "base_uri": "https://localhost:8080/"
        },
        "outputId": "c0cc97f0-5432-4134-b7ce-0e7de3369b4c",
        "id": "pgABX8kQGR0a"
      },
      "execution_count": null,
      "outputs": [
        {
          "output_type": "execute_result",
          "data": {
            "text/plain": [
              "(27589, 13)"
            ]
          },
          "metadata": {},
          "execution_count": 21
        }
      ]
    },
    {
      "cell_type": "code",
      "source": [
        ""
      ],
      "metadata": {
        "id": "vOcNXAKQcfGg"
      },
      "execution_count": null,
      "outputs": []
    },
    {
      "cell_type": "code",
      "source": [
        "# merging all male csv files from std_6\n",
        "std6_male_df = pd.concat(\n",
        "    map(pd.read_csv, ['sub_1_std6.csv', 'sub_2_std6.csv', 'sub_4_std6.csv', 'sub_6_std6.csv', 'sub_9_std6.csv', 'sub_11_std6.csv', 'sub_12_std6.csv', 'sub_13_std6.csv', 'sub_14_std6.csv', 'sub_15_std6.csv', 'sub_17_std6.csv', 'sub_20_std6.csv', 'sub_21_std6.csv', 'sub_22_std6.csv']), ignore_index=True)\n",
        "print(std6_male_df)"
      ],
      "metadata": {
        "colab": {
          "base_uri": "https://localhost:8080/"
        },
        "outputId": "67eb6782-6346-45d2-dd4c-8a8888b9ac23",
        "id": "Z1qIk3GxGR0a"
      },
      "execution_count": null,
      "outputs": [
        {
          "output_type": "stream",
          "name": "stdout",
          "text": [
            "        Unnamed: 0  attitude.roll  attitude.pitch  attitude.yaw  gravity.x  \\\n",
            "0                0       2.489271       -1.397067      1.899690   0.104929   \n",
            "1                1       2.488154       -1.396068      1.905025   0.105682   \n",
            "2                2       2.489687       -1.394939      1.912298   0.106144   \n",
            "3                3       2.494505       -1.393874      1.922063   0.106105   \n",
            "4                4       2.500577       -1.393094      1.931172   0.105709   \n",
            "...            ...            ...             ...           ...        ...   \n",
            "127183        7622      -1.197682       -1.477199     -1.878977  -0.086168   \n",
            "127184        7623      -1.272631       -1.480059     -1.949962  -0.085695   \n",
            "127185        7624      -1.347158       -1.483424     -2.019999  -0.084103   \n",
            "127186        7625      -1.416108       -1.486702     -2.084729  -0.081949   \n",
            "127187        7626      -1.480307       -1.489345     -2.145587  -0.079933   \n",
            "\n",
            "        gravity.y  gravity.z  rotationRate.x  rotationRate.y  rotationRate.z  \\\n",
            "0        0.984947   0.137365       -0.060667       -0.333742       -0.008674   \n",
            "1        0.984774   0.138030       -0.073340       -0.302813       -0.006666   \n",
            "2        0.984577   0.139074       -0.090184       -0.270723       -0.024985   \n",
            "3        0.984390   0.140421       -0.089858       -0.213139       -0.040011   \n",
            "4        0.984253   0.141678       -0.070132       -0.098153       -0.041089   \n",
            "...           ...        ...             ...             ...             ...   \n",
            "127183   0.995623  -0.033731       -0.334005       -0.204208       -0.013661   \n",
            "127184   0.995886  -0.026336       -0.356785       -0.230373        0.052455   \n",
            "127185   0.996185  -0.019129       -0.326081       -0.238117        0.097544   \n",
            "127186   0.996466  -0.012779       -0.288697       -0.216989        0.109529   \n",
            "127187   0.996685  -0.007253       -0.250988       -0.155253        0.089417   \n",
            "\n",
            "        userAcceleration.x  userAcceleration.y  userAcceleration.z  \n",
            "0                 0.007192           -0.004249            0.065989  \n",
            "1                -0.082061            0.004820            0.022905  \n",
            "2                -0.101612            0.008953            0.002664  \n",
            "3                -0.113307            0.020615           -0.029093  \n",
            "4                -0.111187            0.026429           -0.034393  \n",
            "...                    ...                 ...                 ...  \n",
            "127183            0.118166           -0.003817           -0.080222  \n",
            "127184            0.070574            0.012674           -0.080963  \n",
            "127185            0.022229            0.001800           -0.092093  \n",
            "127186           -0.038443            0.001535           -0.109948  \n",
            "127187           -0.066216            0.007466           -0.114116  \n",
            "\n",
            "[127188 rows x 13 columns]\n"
          ]
        }
      ]
    },
    {
      "cell_type": "code",
      "source": [
        "# Drop first column of dataframe\n",
        "std6_male_df = std6_male_df.iloc[: , 1:]\n",
        "std6_male_df.shape"
      ],
      "metadata": {
        "colab": {
          "base_uri": "https://localhost:8080/"
        },
        "outputId": "7ce1a211-1aa4-4d37-f012-041971fd8150",
        "id": "1_ksO2UnGR0b"
      },
      "execution_count": null,
      "outputs": [
        {
          "output_type": "execute_result",
          "data": {
            "text/plain": [
              "(127188, 12)"
            ]
          },
          "metadata": {},
          "execution_count": 23
        }
      ]
    },
    {
      "cell_type": "code",
      "source": [
        "# Add Class Variable \"Activity\" in dataframe\n",
        "std6_male_df[\"Activity\"] = 'Standing' \n",
        "std6_male_df.shape"
      ],
      "metadata": {
        "colab": {
          "base_uri": "https://localhost:8080/"
        },
        "outputId": "2d07010b-1cc1-4fbf-830c-699aeec1ab66",
        "id": "GNAA_bN3GR0b"
      },
      "execution_count": null,
      "outputs": [
        {
          "output_type": "execute_result",
          "data": {
            "text/plain": [
              "(127188, 13)"
            ]
          },
          "metadata": {},
          "execution_count": 24
        }
      ]
    },
    {
      "cell_type": "code",
      "source": [
        "# merging all female csv files from std_6 \n",
        "std6_female_df = pd.concat(\n",
        "    map(pd.read_csv, ['sub_3_std6.csv', 'sub_5_std6.csv', 'sub_7_std6.csv', 'sub_8_std6.csv', 'sub_10_std6.csv', 'sub_16_std6.csv', 'sub_18_std6.csv', 'sub_19_std6.csv', 'sub_23_std6.csv', 'sub_24_std6.csv']), ignore_index=True)\n",
        "print(std6_female_df) "
      ],
      "metadata": {
        "colab": {
          "base_uri": "https://localhost:8080/"
        },
        "outputId": "0db8a546-318e-465d-a108-33b0515a4592",
        "id": "VSar9Ee0GR0b"
      },
      "execution_count": null,
      "outputs": [
        {
          "output_type": "stream",
          "name": "stdout",
          "text": [
            "       Unnamed: 0  attitude.roll  attitude.pitch  attitude.yaw  gravity.x  \\\n",
            "0               0       1.059946       -1.331125      0.093850   0.207040   \n",
            "1               1       1.041740       -1.324215      0.074434   0.210685   \n",
            "2               2       1.026708       -1.318294      0.058913   0.213720   \n",
            "3               3       1.015559       -1.313506      0.048103   0.216203   \n",
            "4               4       1.007940       -1.310110      0.041727   0.217952   \n",
            "...           ...            ...             ...           ...        ...   \n",
            "97623       10968       0.024580       -1.445235     -1.865114   0.003078   \n",
            "97624       10969       0.035625       -1.444928     -1.845826   0.004471   \n",
            "97625       10970       0.047078       -1.444934     -1.826624   0.005908   \n",
            "97626       10971       0.058243       -1.445177     -1.808854   0.007293   \n",
            "97627       10972       0.068046       -1.445550     -1.793355   0.008494   \n",
            "\n",
            "       gravity.y  gravity.z  rotationRate.x  rotationRate.y  rotationRate.z  \\\n",
            "0       0.971416  -0.116041        0.393147        0.050593        0.218347   \n",
            "1       0.969752  -0.123177        0.355855        0.022119        0.178599   \n",
            "2       0.968290  -0.129301        0.287562       -0.011607        0.147187   \n",
            "3       0.967083  -0.134119        0.208551       -0.047461        0.124248   \n",
            "4       0.966213  -0.137514        0.124265       -0.086428        0.085253   \n",
            "...          ...        ...             ...             ...             ...   \n",
            "97623   0.992127  -0.125194        0.019392       -0.421634        0.119275   \n",
            "97624   0.992089  -0.125457        0.004552       -0.397094        0.122345   \n",
            "97625   0.992090  -0.125392       -0.010243       -0.363271        0.117955   \n",
            "97626   0.992120  -0.125076       -0.022710       -0.300329        0.106037   \n",
            "97627   0.992167  -0.124630       -0.023585       -0.274691        0.088906   \n",
            "\n",
            "       userAcceleration.x  userAcceleration.y  userAcceleration.z  \n",
            "0                0.030921            0.048680           -0.051882  \n",
            "1                0.052499            0.029134           -0.054252  \n",
            "2                0.048670            0.018908           -0.052035  \n",
            "3                0.042464            0.018787           -0.049246  \n",
            "4                0.014104            0.005924           -0.047728  \n",
            "...                   ...                 ...                 ...  \n",
            "97623            0.068257            0.011260            0.003077  \n",
            "97624            0.072540            0.021796            0.010146  \n",
            "97625            0.037656            0.017767            0.002650  \n",
            "97626            0.026124            0.014288           -0.002594  \n",
            "97627            0.010305            0.002462           -0.007999  \n",
            "\n",
            "[97628 rows x 13 columns]\n"
          ]
        }
      ]
    },
    {
      "cell_type": "code",
      "source": [
        "# Drop first column of dataframe\n",
        "std6_female_df = std6_female_df.iloc[: , 1:]\n",
        "std6_female_df.shape"
      ],
      "metadata": {
        "colab": {
          "base_uri": "https://localhost:8080/"
        },
        "outputId": "03230d94-d4f9-4324-cf3a-918deeced386",
        "id": "l5EWyeO-GR0b"
      },
      "execution_count": null,
      "outputs": [
        {
          "output_type": "execute_result",
          "data": {
            "text/plain": [
              "(97628, 12)"
            ]
          },
          "metadata": {},
          "execution_count": 26
        }
      ]
    },
    {
      "cell_type": "code",
      "source": [
        "# Add Class Variable \"Activity\" in dataframe\n",
        "std6_female_df[\"Activity\"] = 'Standing' \n",
        "std6_female_df.shape"
      ],
      "metadata": {
        "colab": {
          "base_uri": "https://localhost:8080/"
        },
        "outputId": "6ef6c4c1-465a-48fc-fe7e-75eccda3022c",
        "id": "iYuSm5i0GR0b"
      },
      "execution_count": null,
      "outputs": [
        {
          "output_type": "execute_result",
          "data": {
            "text/plain": [
              "(97628, 13)"
            ]
          },
          "metadata": {},
          "execution_count": 27
        }
      ]
    },
    {
      "cell_type": "code",
      "source": [
        ""
      ],
      "metadata": {
        "id": "E1iTk7gIokvG"
      },
      "execution_count": null,
      "outputs": []
    },
    {
      "cell_type": "code",
      "source": [
        "# merging all male csv files from std_14\n",
        "std14_male_df = pd.concat(\n",
        "    map(pd.read_csv, ['sub_1_std14.csv', 'sub_2_std14.csv', 'sub_4_std14.csv', 'sub_6_std14.csv', 'sub_9_std14.csv', 'sub_11_std14.csv', 'sub_12_std14.csv', 'sub_13_std14.csv', 'sub_14_std14.csv', 'sub_15_std14.csv', 'sub_17_std14.csv', 'sub_20_std14.csv', 'sub_21_std14.csv', 'sub_22_std14.csv']), ignore_index=True)\n",
        "print(std14_male_df)"
      ],
      "metadata": {
        "colab": {
          "base_uri": "https://localhost:8080/"
        },
        "outputId": "23c45c4a-ca36-4a54-f176-0340c31feb1a",
        "id": "ckCdXgwyGR0d"
      },
      "execution_count": null,
      "outputs": [
        {
          "output_type": "stream",
          "name": "stdout",
          "text": [
            "       Unnamed: 0  attitude.roll  attitude.pitch  attitude.yaw  gravity.x  \\\n",
            "0               0       1.573929       -1.051363      1.611548   0.496386   \n",
            "1               1       1.573086       -1.051097      1.611145   0.496618   \n",
            "2               2       1.574466       -1.050255      1.612825   0.497346   \n",
            "3               3       1.574735       -1.053220      1.614236   0.494771   \n",
            "4               4       1.577461       -1.054274      1.618206   0.493848   \n",
            "...           ...            ...             ...           ...        ...   \n",
            "47154        5774      -0.619835       -1.350551      2.879654  -0.126790   \n",
            "47155        5775      -0.619461       -1.350649      2.877945  -0.126668   \n",
            "47156        5776      -0.619264       -1.350392      2.876637  -0.126779   \n",
            "47157        5777      -0.619338       -1.349851      2.875683  -0.127099   \n",
            "47158        5778      -0.619668       -1.349268      2.874892  -0.127489   \n",
            "\n",
            "       gravity.y  gravity.z  rotationRate.x  rotationRate.y  rotationRate.z  \\\n",
            "0       0.868100   0.001555       -0.027765       -0.014517        0.096305   \n",
            "1       0.867968   0.001137       -0.031915       -0.006982        0.079159   \n",
            "2       0.867550   0.001825       -0.041191        0.001830        0.014990   \n",
            "3       0.869021   0.001949       -0.073207       -0.057491       -0.041800   \n",
            "4       0.869542   0.003291       -0.103940       -0.024308       -0.054876   \n",
            "...          ...        ...             ...             ...             ...   \n",
            "47154   0.975844  -0.177662       -0.023840        0.116608       -0.007043   \n",
            "47155   0.975865  -0.177631       -0.008976        0.093150       -0.014387   \n",
            "47156   0.975809  -0.177861        0.007984        0.062223       -0.020638   \n",
            "47157   0.975691  -0.178282        0.017480        0.033449       -0.025876   \n",
            "47158   0.975563  -0.178704        0.016312        0.014265       -0.022655   \n",
            "\n",
            "       userAcceleration.x  userAcceleration.y  userAcceleration.z  \n",
            "0                0.019346            0.030886            0.008607  \n",
            "1               -0.069464            0.063764           -0.021080  \n",
            "2               -0.073061            0.046253           -0.026514  \n",
            "3               -0.037023           -0.020236            0.048161  \n",
            "4               -0.022626           -0.037312            0.048344  \n",
            "...                   ...                 ...                 ...  \n",
            "47154            0.037313            0.012361           -0.050533  \n",
            "47155            0.044850            0.006480           -0.047116  \n",
            "47156            0.056268           -0.002405           -0.038707  \n",
            "47157            0.062539            0.000689           -0.031954  \n",
            "47158            0.066011            0.013634           -0.029884  \n",
            "\n",
            "[47159 rows x 13 columns]\n"
          ]
        }
      ]
    },
    {
      "cell_type": "code",
      "source": [
        "# Drop first column of dataframe\n",
        "std14_male_df = std14_male_df.iloc[: , 1:]\n",
        "std14_male_df.shape"
      ],
      "metadata": {
        "colab": {
          "base_uri": "https://localhost:8080/"
        },
        "outputId": "f91bcf30-fba6-403b-f5d9-32aaa8509ce5",
        "id": "puCrbSr_GR0d"
      },
      "execution_count": null,
      "outputs": [
        {
          "output_type": "execute_result",
          "data": {
            "text/plain": [
              "(47159, 12)"
            ]
          },
          "metadata": {},
          "execution_count": 29
        }
      ]
    },
    {
      "cell_type": "code",
      "source": [
        "# Add Class Variable \"Activity\" in dataframe\n",
        "std14_male_df[\"Activity\"] = 'Standing' \n",
        "std14_male_df.shape"
      ],
      "metadata": {
        "colab": {
          "base_uri": "https://localhost:8080/"
        },
        "outputId": "e2500cd7-5df0-422f-f605-4c291775e77e",
        "id": "1Hk6oflgGR0e"
      },
      "execution_count": null,
      "outputs": [
        {
          "output_type": "execute_result",
          "data": {
            "text/plain": [
              "(47159, 13)"
            ]
          },
          "metadata": {},
          "execution_count": 30
        }
      ]
    },
    {
      "cell_type": "code",
      "source": [
        "# merging all female csv files from std_14 \n",
        "std14_female_df = pd.concat(\n",
        "    map(pd.read_csv, ['sub_3_std14.csv', 'sub_5_std14.csv', 'sub_7_std14.csv', 'sub_8_std14.csv', 'sub_10_std14.csv', 'sub_16_std14.csv', 'sub_18_std14.csv', 'sub_19_std14.csv', 'sub_23_std14.csv', 'sub_24_std14.csv']), ignore_index=True)\n",
        "print(std14_female_df) "
      ],
      "metadata": {
        "colab": {
          "base_uri": "https://localhost:8080/"
        },
        "outputId": "41ccb619-0a00-4091-c079-497373f7e7f7",
        "id": "vkOnQAWgGR0e"
      },
      "execution_count": null,
      "outputs": [
        {
          "output_type": "stream",
          "name": "stdout",
          "text": [
            "       Unnamed: 0  attitude.roll  attitude.pitch  attitude.yaw  gravity.x  \\\n",
            "0               0       1.523998       -1.187632      1.451139   0.373440   \n",
            "1               1       1.524484       -1.188099      1.450162   0.373016   \n",
            "2               2       1.524169       -1.188614      1.448443   0.372534   \n",
            "3               3       1.522555       -1.189332      1.444639   0.371839   \n",
            "4               4       1.519942       -1.190178      1.439114   0.371006   \n",
            "...           ...            ...             ...           ...        ...   \n",
            "34447        3964      -2.512274       -1.475547      0.560892  -0.055978   \n",
            "34448        3965      -2.514569       -1.474699      0.558068  -0.056297   \n",
            "34449        3966      -2.517105       -1.473640      0.555248  -0.056716   \n",
            "34450        3967      -2.515195       -1.472593      0.557282  -0.057477   \n",
            "34451        3968      -2.512655       -1.471566      0.560290  -0.058280   \n",
            "\n",
            "       gravity.y  gravity.z  rotationRate.x  rotationRate.y  rotationRate.z  \\\n",
            "0       0.927486  -0.017489        0.023610        0.087905       -0.030680   \n",
            "1       0.927661  -0.017288        0.018127        0.062327       -0.023208   \n",
            "2       0.927853  -0.017383        0.041661        0.070788       -0.028395   \n",
            "3       0.928121  -0.017952        0.088837        0.111151       -0.039868   \n",
            "4       0.928435  -0.018883        0.113428        0.124905       -0.037577   \n",
            "...          ...        ...             ...             ...             ...   \n",
            "34447   0.995467   0.076886       -0.048465        0.019469        0.001242   \n",
            "34448   0.995386   0.077698       -0.048469        0.012038       -0.005159   \n",
            "34449   0.995284   0.078696       -0.045221        0.015253       -0.012618   \n",
            "34450   0.995182   0.079431       -0.034644       -0.016695       -0.024255   \n",
            "34451   0.995081   0.080111       -0.033582       -0.028374       -0.034916   \n",
            "\n",
            "       userAcceleration.x  userAcceleration.y  userAcceleration.z  \n",
            "0               -0.014691            0.009678            0.017489  \n",
            "1               -0.014007            0.017072            0.015090  \n",
            "2               -0.011694            0.011158            0.009448  \n",
            "3                0.000018            0.006816            0.006279  \n",
            "4                0.018886           -0.005416            0.006417  \n",
            "...                   ...                 ...                 ...  \n",
            "34447           -0.000006            0.003480            0.003391  \n",
            "34448           -0.007363            0.001165           -0.003677  \n",
            "34449           -0.003800           -0.004638            0.001978  \n",
            "34450           -0.007647           -0.005009           -0.001688  \n",
            "34451           -0.004739            0.009436           -0.000384  \n",
            "\n",
            "[34452 rows x 13 columns]\n"
          ]
        }
      ]
    },
    {
      "cell_type": "code",
      "source": [
        "# Drop first column of dataframe\n",
        "std14_female_df = std14_female_df.iloc[: , 1:]\n",
        "std14_female_df.shape"
      ],
      "metadata": {
        "colab": {
          "base_uri": "https://localhost:8080/"
        },
        "outputId": "a1d7518f-ebdd-44a2-916e-73238402bd81",
        "id": "fWJgKaBNGR0e"
      },
      "execution_count": null,
      "outputs": [
        {
          "output_type": "execute_result",
          "data": {
            "text/plain": [
              "(34452, 12)"
            ]
          },
          "metadata": {},
          "execution_count": 32
        }
      ]
    },
    {
      "cell_type": "code",
      "source": [
        "# Add Class Variable \"Activity\" in dataframe\n",
        "std14_female_df[\"Activity\"] = 'Standing' \n",
        "std14_female_df.shape"
      ],
      "metadata": {
        "colab": {
          "base_uri": "https://localhost:8080/"
        },
        "outputId": "b96b7f60-31bd-46fa-d90d-ea3de231bd3c",
        "id": "NmZTJv_qGR0e"
      },
      "execution_count": null,
      "outputs": [
        {
          "output_type": "execute_result",
          "data": {
            "text/plain": [
              "(34452, 13)"
            ]
          },
          "metadata": {},
          "execution_count": 33
        }
      ]
    },
    {
      "cell_type": "code",
      "source": [
        ""
      ],
      "metadata": {
        "id": "Pti4vOMlcfGo"
      },
      "execution_count": null,
      "outputs": []
    },
    {
      "cell_type": "code",
      "source": [
        "# merging all male csv files from sit_5\n",
        "sit5_male_df = pd.concat(\n",
        "    map(pd.read_csv, ['sub_1_sit5.csv', 'sub_2_sit5.csv', 'sub_4_sit5.csv', 'sub_6_sit5.csv', 'sub_9_sit5.csv', 'sub_11_sit5.csv', 'sub_12_sit5.csv', 'sub_13_sit5.csv', 'sub_14_sit5.csv', 'sub_15_sit5.csv', 'sub_17_sit5.csv', 'sub_20_sit5.csv', 'sub_21_sit5.csv', 'sub_22_sit5.csv']), ignore_index=True)\n",
        "print(sit5_male_df)"
      ],
      "metadata": {
        "colab": {
          "base_uri": "https://localhost:8080/"
        },
        "outputId": "dacdd3c6-99cc-4368-9a8e-8537df233e53",
        "id": "SEVMEPzcGR0e"
      },
      "execution_count": null,
      "outputs": [
        {
          "output_type": "stream",
          "name": "stdout",
          "text": [
            "        Unnamed: 0  attitude.roll  attitude.pitch  attitude.yaw  gravity.x  \\\n",
            "0                0       0.351138       -0.416302     -0.098023   0.314588   \n",
            "1                1       0.351219       -0.416372     -0.098025   0.314649   \n",
            "2                2       0.351145       -0.416497     -0.098045   0.314567   \n",
            "3                3       0.350849       -0.416695     -0.098148   0.314286   \n",
            "4                4       0.350859       -0.416863     -0.098022   0.314271   \n",
            "...            ...            ...             ...           ...        ...   \n",
            "133895        8461       0.414219       -0.237713      1.090686   0.391157   \n",
            "133896        8462       0.414810       -0.237391      1.089693   0.391714   \n",
            "133897        8463       0.415104       -0.237104      1.088961   0.392002   \n",
            "133898        8464       0.415130       -0.236966      1.088600   0.392038   \n",
            "133899        8465       0.414942       -0.236914      1.088706   0.391876   \n",
            "\n",
            "        gravity.y  gravity.z  rotationRate.x  rotationRate.y  rotationRate.z  \\\n",
            "0        0.404381  -0.858784       -0.003655        0.009577       -0.000234   \n",
            "1        0.404445  -0.858732       -0.007937        0.007457        0.000807   \n",
            "2        0.404560  -0.858708       -0.007960       -0.001053       -0.002387   \n",
            "3        0.404740  -0.858726       -0.000521       -0.006411       -0.001261   \n",
            "4        0.404894  -0.858658       -0.001613       -0.004306        0.006206   \n",
            "...           ...        ...             ...             ...             ...   \n",
            "133895   0.235480  -0.889688        0.034492        0.044947       -0.041873   \n",
            "133896   0.235168  -0.889526        0.034421        0.037456       -0.033318   \n",
            "133897   0.234889  -0.889473        0.023599        0.016137       -0.020548   \n",
            "133898   0.234754  -0.889492        0.009581       -0.001984       -0.005667   \n",
            "133899   0.234704  -0.889577       -0.004466       -0.016947        0.018823   \n",
            "\n",
            "        userAcceleration.x  userAcceleration.y  userAcceleration.z  \n",
            "0                 0.000094            0.000252           -0.006954  \n",
            "1                -0.001309            0.002262           -0.010348  \n",
            "2                -0.002174            0.000012           -0.006664  \n",
            "3                 0.001693            0.009216           -0.011575  \n",
            "4                 0.005767            0.007490           -0.008926  \n",
            "...                    ...                 ...                 ...  \n",
            "133895            0.008516            0.015969            0.010050  \n",
            "133896            0.018320            0.011567            0.002182  \n",
            "133897            0.025707            0.015966            0.002006  \n",
            "133898            0.032690            0.016177            0.004605  \n",
            "133899            0.021851            0.015051            0.009008  \n",
            "\n",
            "[133900 rows x 13 columns]\n"
          ]
        }
      ]
    },
    {
      "cell_type": "code",
      "source": [
        "# Drop first column of dataframe\n",
        "sit5_male_df = sit5_male_df.iloc[: , 1:]\n",
        "sit5_male_df.shape"
      ],
      "metadata": {
        "colab": {
          "base_uri": "https://localhost:8080/"
        },
        "outputId": "b1f88820-3323-477d-ae2b-4d1966a6c9c1",
        "id": "G5jYNFQDGR0e"
      },
      "execution_count": null,
      "outputs": [
        {
          "output_type": "execute_result",
          "data": {
            "text/plain": [
              "(133900, 12)"
            ]
          },
          "metadata": {},
          "execution_count": 35
        }
      ]
    },
    {
      "cell_type": "code",
      "source": [
        "# Add Class Variable (Activity) in dataframe\n",
        "sit5_male_df[\"Activity\"] = 'Sitting' \n",
        "sit5_male_df.shape"
      ],
      "metadata": {
        "colab": {
          "base_uri": "https://localhost:8080/"
        },
        "outputId": "37c321b2-4f96-4bc6-9948-5b107d5d9c16",
        "id": "skkhrPxQGR0f"
      },
      "execution_count": null,
      "outputs": [
        {
          "output_type": "execute_result",
          "data": {
            "text/plain": [
              "(133900, 13)"
            ]
          },
          "metadata": {},
          "execution_count": 36
        }
      ]
    },
    {
      "cell_type": "code",
      "source": [
        "# merging all female csv files from sit_5 \n",
        "sit5_female_df = pd.concat(\n",
        "    map(pd.read_csv, ['sub_3_sit5.csv', 'sub_5_sit5.csv', 'sub_7_sit5.csv', 'sub_8_sit5.csv', 'sub_10_sit5.csv', 'sub_16_sit5.csv', 'sub_18_sit5.csv', 'sub_19_sit5.csv', 'sub_23_sit5.csv', 'sub_24_sit5.csv']), ignore_index=True)\n",
        "print(sit5_female_df) "
      ],
      "metadata": {
        "colab": {
          "base_uri": "https://localhost:8080/"
        },
        "outputId": "c195214e-190d-41fd-8c75-269d2ea347c6",
        "id": "HWlCcau-GR0f"
      },
      "execution_count": null,
      "outputs": [
        {
          "output_type": "stream",
          "name": "stdout",
          "text": [
            "        Unnamed: 0  attitude.roll  attitude.pitch  attitude.yaw  gravity.x  \\\n",
            "0                0       0.647226       -0.338232      0.593338   0.568812   \n",
            "1                1       0.645525       -0.336553      0.590098   0.567865   \n",
            "2                2       0.642707       -0.335555      0.585106   0.565936   \n",
            "3                3       0.640522       -0.334522      0.578715   0.564486   \n",
            "4                4       0.639977       -0.333256      0.571930   0.564321   \n",
            "...            ...            ...             ...           ...        ...   \n",
            "100752       10683      -2.563484       -0.149645     -0.322130  -0.540334   \n",
            "100753       10684      -2.559251       -0.157457     -0.316592  -0.543177   \n",
            "100754       10685      -2.554478       -0.161579     -0.309695  -0.546746   \n",
            "100755       10686      -2.549122       -0.163005     -0.302709  -0.551010   \n",
            "100756       10687      -2.542947       -0.165970     -0.295609  -0.555781   \n",
            "\n",
            "        gravity.y  gravity.z  rotationRate.x  rotationRate.y  rotationRate.z  \\\n",
            "0        0.331820  -0.752559        0.150759        0.043856       -0.002367   \n",
            "1        0.330236  -0.753970        0.173215       -0.038933       -0.097176   \n",
            "2        0.329293  -0.755831        0.191649       -0.066319       -0.191015   \n",
            "3        0.328317  -0.757338        0.258231        0.005986       -0.215212   \n",
            "4        0.327121  -0.757978        0.268168        0.117656       -0.177898   \n",
            "...           ...        ...             ...             ...             ...   \n",
            "100752   0.149087   0.828138        0.401247        0.090453        0.019268   \n",
            "100753   0.156807   0.824845        0.473556        0.182187       -0.073280   \n",
            "100754   0.160877   0.821698        0.292846        0.185526       -0.218756   \n",
            "100755   0.162284   0.818567        0.261119        0.238936       -0.227592   \n",
            "100756   0.165209   0.814748        0.338904        0.209931       -0.234489   \n",
            "\n",
            "        userAcceleration.x  userAcceleration.y  userAcceleration.z  \n",
            "0                -0.023509            0.067381            0.002422  \n",
            "1                -0.055201            0.067805           -0.010755  \n",
            "2                -0.031939            0.053962           -0.010923  \n",
            "3                 0.016004            0.021063            0.016462  \n",
            "4                 0.013743            0.011669            0.016492  \n",
            "...                    ...                 ...                 ...  \n",
            "100752            0.049642           -0.097665           -0.050611  \n",
            "100753            0.030589            0.012596           -0.037675  \n",
            "100754            0.039482           -0.001026           -0.031796  \n",
            "100755           -0.035492            0.042978            0.010931  \n",
            "100756           -0.041082            0.044645            0.019557  \n",
            "\n",
            "[100757 rows x 13 columns]\n"
          ]
        }
      ]
    },
    {
      "cell_type": "code",
      "source": [
        "# Drop first column of dataframe\n",
        "sit5_female_df = sit5_female_df.iloc[: , 1:]\n",
        "sit5_female_df.shape"
      ],
      "metadata": {
        "colab": {
          "base_uri": "https://localhost:8080/"
        },
        "outputId": "8b433456-c85e-4a55-dbe0-d12122e4dccd",
        "id": "rowJJ0w2GR0f"
      },
      "execution_count": null,
      "outputs": [
        {
          "output_type": "execute_result",
          "data": {
            "text/plain": [
              "(100757, 12)"
            ]
          },
          "metadata": {},
          "execution_count": 38
        }
      ]
    },
    {
      "cell_type": "code",
      "source": [
        "# Add Class Variable \"Activity\" in dataframe\n",
        "sit5_female_df[\"Activity\"] = 'Sitting' \n",
        "sit5_female_df.shape"
      ],
      "metadata": {
        "colab": {
          "base_uri": "https://localhost:8080/"
        },
        "outputId": "1dff43e8-b71a-4496-8a94-4f70a22ff5e7",
        "id": "nlhUljFMGR0f"
      },
      "execution_count": null,
      "outputs": [
        {
          "output_type": "execute_result",
          "data": {
            "text/plain": [
              "(100757, 13)"
            ]
          },
          "metadata": {},
          "execution_count": 39
        }
      ]
    },
    {
      "cell_type": "code",
      "source": [
        ""
      ],
      "metadata": {
        "id": "KJwa6xZtcfGs"
      },
      "execution_count": null,
      "outputs": []
    },
    {
      "cell_type": "code",
      "source": [
        "# merging all male csv files from sit_13\n",
        "sit13_male_df = pd.concat(\n",
        "    map(pd.read_csv, ['sub_1_sit13.csv', 'sub_2_sit13.csv', 'sub_4_sit13.csv', 'sub_6_sit13.csv', 'sub_9_sit13.csv', 'sub_11_sit13.csv', 'sub_12_sit13.csv', 'sub_13_sit13.csv', 'sub_14_sit13.csv', 'sub_13_sit5.csv', 'sub_17_sit13.csv', 'sub_20_sit13.csv', 'sub_21_sit13.csv', 'sub_22_sit13.csv']), ignore_index=True)\n",
        "print(sit13_male_df)"
      ],
      "metadata": {
        "colab": {
          "base_uri": "https://localhost:8080/"
        },
        "outputId": "5f44fd4b-1039-4b11-d5a9-5fb7184c4931",
        "id": "JvNAZC9JGR0h"
      },
      "execution_count": null,
      "outputs": [
        {
          "output_type": "stream",
          "name": "stdout",
          "text": [
            "       Unnamed: 0  attitude.roll  attitude.pitch  attitude.yaw  gravity.x  \\\n",
            "0               0       0.351138       -0.416302     -0.098023   0.314588   \n",
            "1               1       0.351219       -0.416372     -0.098025   0.314649   \n",
            "2               2       0.351145       -0.416497     -0.098045   0.314567   \n",
            "3               3       0.350849       -0.416695     -0.098148   0.314286   \n",
            "4               4       0.350859       -0.416863     -0.098022   0.314271   \n",
            "...           ...            ...             ...           ...        ...   \n",
            "66248        3552       0.449772        0.012088      0.112036   0.434728   \n",
            "66249        3553       0.449075        0.013243      0.111479   0.434094   \n",
            "66250        3554       0.448561        0.014333      0.110953   0.433625   \n",
            "66251        3555       0.447085        0.015270      0.110621   0.432288   \n",
            "66252        3556       0.445072        0.015881      0.110639   0.430468   \n",
            "\n",
            "       gravity.y  gravity.z  rotationRate.x  rotationRate.y  rotationRate.z  \\\n",
            "0       0.404381  -0.858784       -0.003655        0.009577       -0.000234   \n",
            "1       0.404445  -0.858732       -0.007937        0.007457        0.000807   \n",
            "2       0.404560  -0.858708       -0.007960       -0.001053       -0.002387   \n",
            "3       0.404740  -0.858726       -0.000521       -0.006411       -0.001261   \n",
            "4       0.404894  -0.858658       -0.001613       -0.004306        0.006206   \n",
            "...          ...        ...             ...             ...             ...   \n",
            "66248  -0.012087  -0.900480        0.067866       -0.085668       -0.005453   \n",
            "66249  -0.013243  -0.900770        0.058581       -0.005778        0.003993   \n",
            "66250  -0.014333  -0.900979        0.062685       -0.047317       -0.001266   \n",
            "66251  -0.015270  -0.901606        0.038999       -0.083501        0.010366   \n",
            "66252  -0.015880  -0.902466        0.026076       -0.105844        0.014577   \n",
            "\n",
            "       userAcceleration.x  userAcceleration.y  userAcceleration.z  \n",
            "0                0.000094            0.000252           -0.006954  \n",
            "1               -0.001309            0.002262           -0.010348  \n",
            "2               -0.002174            0.000012           -0.006664  \n",
            "3                0.001693            0.009216           -0.011575  \n",
            "4                0.005767            0.007490           -0.008926  \n",
            "...                   ...                 ...                 ...  \n",
            "66248            0.022410            0.002551            0.050291  \n",
            "66249            0.011859            0.006880           -0.011706  \n",
            "66250            0.003112            0.003957           -0.014136  \n",
            "66251            0.002053            0.001384            0.001841  \n",
            "66252            0.003537           -0.008534            0.016907  \n",
            "\n",
            "[66253 rows x 13 columns]\n"
          ]
        }
      ]
    },
    {
      "cell_type": "code",
      "source": [
        "# Drop first column of dataframe\n",
        "sit13_male_df = sit13_male_df.iloc[: , 1:]\n",
        "sit13_male_df.shape"
      ],
      "metadata": {
        "colab": {
          "base_uri": "https://localhost:8080/"
        },
        "outputId": "9565302b-3f49-451e-c571-b1eeccca30e4",
        "id": "Q2bxs3tmGR0h"
      },
      "execution_count": null,
      "outputs": [
        {
          "output_type": "execute_result",
          "data": {
            "text/plain": [
              "(66253, 12)"
            ]
          },
          "metadata": {},
          "execution_count": 41
        }
      ]
    },
    {
      "cell_type": "code",
      "source": [
        "# Add Class Variable (Activity) in dataframe\n",
        "sit13_male_df[\"Activity\"] = 'Sitting' \n",
        "sit13_male_df.shape"
      ],
      "metadata": {
        "colab": {
          "base_uri": "https://localhost:8080/"
        },
        "outputId": "c8b50c48-0fcf-4206-a990-6f4fb02dc527",
        "id": "EXfyXp7mGR0h"
      },
      "execution_count": null,
      "outputs": [
        {
          "output_type": "execute_result",
          "data": {
            "text/plain": [
              "(66253, 13)"
            ]
          },
          "metadata": {},
          "execution_count": 42
        }
      ]
    },
    {
      "cell_type": "code",
      "source": [
        "# merging all female csv files from sit_13 \n",
        "sit13_female_df = pd.concat(\n",
        "    map(pd.read_csv, ['sub_3_sit13.csv', 'sub_5_sit13.csv', 'sub_7_sit13.csv', 'sub_8_sit13.csv', 'sub_10_sit13.csv', 'sub_16_sit13.csv', 'sub_18_sit13.csv', 'sub_19_sit13.csv', 'sub_23_sit13.csv', 'sub_24_sit13.csv']), ignore_index=True)\n",
        "print(sit13_female_df) "
      ],
      "metadata": {
        "colab": {
          "base_uri": "https://localhost:8080/"
        },
        "outputId": "b225cd5b-8a1f-4d0b-8256-e077c2e3dccf",
        "id": "jgj14EEhGR0h"
      },
      "execution_count": null,
      "outputs": [
        {
          "output_type": "stream",
          "name": "stdout",
          "text": [
            "       Unnamed: 0  attitude.roll  attitude.pitch  attitude.yaw  gravity.x  \\\n",
            "0               0       0.614776       -0.471108      0.370743   0.513944   \n",
            "1               1       0.612136       -0.475710      0.370974   0.510815   \n",
            "2               2       0.613886       -0.475699      0.369143   0.512090   \n",
            "3               3       0.614193       -0.473767      0.368799   0.512822   \n",
            "4               4       0.615503       -0.472237      0.371684   0.514176   \n",
            "...           ...            ...             ...           ...        ...   \n",
            "41785        3381      -2.368280       -0.381075     -0.089417  -0.648402   \n",
            "41786        3382      -2.368752       -0.381071     -0.089478  -0.648090   \n",
            "41787        3383      -2.369130       -0.381163     -0.089465  -0.647814   \n",
            "41788        3384      -2.369372       -0.381295     -0.089468  -0.647619   \n",
            "41789        3385      -2.369404       -0.381297     -0.089545  -0.647598   \n",
            "\n",
            "       gravity.y  gravity.z  rotationRate.x  rotationRate.y  rotationRate.z  \\\n",
            "0       0.453874  -0.727912       -0.409030       -0.239796       -0.145062   \n",
            "1       0.457970  -0.727549       -0.081616        0.015613       -0.098237   \n",
            "2       0.457960  -0.726659        0.101091        0.121319       -0.051163   \n",
            "3       0.456241  -0.727223        0.055969       -0.028296        0.106811   \n",
            "4       0.454880  -0.727120       -0.039963        0.040020        0.155191   \n",
            "...          ...        ...             ...             ...             ...   \n",
            "41785   0.371919   0.664267       -0.001312       -0.011512        0.001284   \n",
            "41786   0.371915   0.664574       -0.000293       -0.022169        0.001305   \n",
            "41787   0.372000   0.664795        0.007208       -0.012616        0.003482   \n",
            "41788   0.372123   0.664916        0.006180       -0.003029        0.004531   \n",
            "41789   0.372124   0.664937        0.006227        0.012927        0.008797   \n",
            "\n",
            "       userAcceleration.x  userAcceleration.y  userAcceleration.z  \n",
            "0               -0.011930            0.017943           -0.031960  \n",
            "1                0.063282            0.259651           -0.051549  \n",
            "2                0.063166            0.067583           -0.060024  \n",
            "3                0.039515           -0.037464           -0.016704  \n",
            "4               -0.032487           -0.097717            0.040612  \n",
            "...                   ...                 ...                 ...  \n",
            "41785            0.000789           -0.005937           -0.004355  \n",
            "41786           -0.000409           -0.000608            0.000098  \n",
            "41787           -0.000486            0.000711            0.002045  \n",
            "41788            0.000311           -0.003395            0.004746  \n",
            "41789            0.001357           -0.004510            0.004161  \n",
            "\n",
            "[41790 rows x 13 columns]\n"
          ]
        }
      ]
    },
    {
      "cell_type": "code",
      "source": [
        "# Drop first column of dataframe\n",
        "sit13_female_df = sit13_female_df.iloc[: , 1:]\n",
        "sit13_female_df.shape"
      ],
      "metadata": {
        "colab": {
          "base_uri": "https://localhost:8080/"
        },
        "outputId": "851e7e66-90f8-4cce-fcc2-843cdc6c985d",
        "id": "uh--Zgq6GR0h"
      },
      "execution_count": null,
      "outputs": [
        {
          "output_type": "execute_result",
          "data": {
            "text/plain": [
              "(41790, 12)"
            ]
          },
          "metadata": {},
          "execution_count": 44
        }
      ]
    },
    {
      "cell_type": "code",
      "source": [
        "# Add Class Variable \"Activity\" in dataframe\n",
        "sit13_female_df[\"Activity\"] = 'Sitting' \n",
        "sit13_female_df.shape"
      ],
      "metadata": {
        "colab": {
          "base_uri": "https://localhost:8080/"
        },
        "outputId": "70ffb506-cb9f-4a64-d8d9-59b9bdc59cd9",
        "id": "3hoDUjkSGR0h"
      },
      "execution_count": null,
      "outputs": [
        {
          "output_type": "execute_result",
          "data": {
            "text/plain": [
              "(41790, 13)"
            ]
          },
          "metadata": {},
          "execution_count": 45
        }
      ]
    },
    {
      "cell_type": "code",
      "source": [
        ""
      ],
      "metadata": {
        "id": "qobVpDC0cfGv"
      },
      "execution_count": null,
      "outputs": []
    },
    {
      "cell_type": "code",
      "source": [
        "# merging all male csv files from jog_9\n",
        "jog9_male_df = pd.concat(\n",
        "    map(pd.read_csv, ['sub_1_jog9.csv', 'sub_2_jog9.csv', 'sub_4_jog9.csv', 'sub_6_jog9.csv', 'sub_9_jog9.csv', 'sub_11_jog9.csv', 'sub_12_jog9.csv', 'sub_13_jog9.csv', 'sub_14_jog9.csv', 'sub_13_jog9.csv', 'sub_17_jog9.csv', 'sub_20_jog9.csv', 'sub_21_jog9.csv', 'sub_22_jog9.csv']), ignore_index=True)\n",
        "print(jog9_male_df)"
      ],
      "metadata": {
        "colab": {
          "base_uri": "https://localhost:8080/"
        },
        "outputId": "a0ae31ce-b016-4688-f9be-7682a91ba31a",
        "id": "ck9N4qvQGR0i"
      },
      "execution_count": null,
      "outputs": [
        {
          "output_type": "stream",
          "name": "stdout",
          "text": [
            "       Unnamed: 0  attitude.roll  attitude.pitch  attitude.yaw  gravity.x  \\\n",
            "0               0       3.058304       -1.227988      2.570999   0.027964   \n",
            "1               1       3.075964       -1.225818      2.615277   0.022178   \n",
            "2               2       3.103364       -1.235013      2.651791   0.012594   \n",
            "3               3       3.109208       -1.244901      2.678484   0.010366   \n",
            "4               4       3.074214       -1.263514      2.661371   0.020364   \n",
            "...           ...            ...             ...           ...        ...   \n",
            "59716        4808       1.009935       -1.168745     -2.709150   0.331332   \n",
            "59717        4809       1.029138       -1.194641     -2.717922   0.314736   \n",
            "59718        4810       1.011173       -1.238663     -2.711134   0.276290   \n",
            "59719        4811       1.046748       -1.275486     -2.665642   0.251943   \n",
            "59720        4812       1.111508       -1.308082     -2.611691   0.232745   \n",
            "\n",
            "       gravity.y  gravity.z  rotationRate.x  rotationRate.y  rotationRate.z  \\\n",
            "0       0.941814   0.334969        0.160508       -1.386834       -0.749713   \n",
            "1       0.941083   0.337448       -0.217198       -0.612402       -0.682841   \n",
            "2       0.944152   0.329269        0.663253       -0.498534       -0.620223   \n",
            "3       0.947364   0.319989        0.458100       -1.202168       -0.304561   \n",
            "4       0.953159   0.301783        1.347809       -0.550578        0.610944   \n",
            "...          ...        ...             ...             ...             ...   \n",
            "59716   0.920260  -0.208126       -0.340832        3.010328       -0.398179   \n",
            "59717   0.930084  -0.189372       -0.676105        0.059242       -1.635877   \n",
            "59718   0.945349  -0.173075       -1.511783       -1.531101       -1.739021   \n",
            "59719   0.956712  -0.145610       -1.560338        0.728817       -1.015865   \n",
            "59720   0.965689  -0.115107       -1.427722        0.060538       -1.042924   \n",
            "\n",
            "       userAcceleration.x  userAcceleration.y  userAcceleration.z  \n",
            "0                0.204199            0.172657           -0.801048  \n",
            "1                0.089974           -0.373914           -0.506332  \n",
            "2                0.260127           -0.364364           -0.781249  \n",
            "3                0.584253           -0.922813           -0.285169  \n",
            "4                0.626501           -1.045978           -0.063884  \n",
            "...                   ...                 ...                 ...  \n",
            "59716           -0.630984            0.200253            0.738461  \n",
            "59717           -0.587792            0.683198            0.796993  \n",
            "59718           -0.405593            1.253595            0.782725  \n",
            "59719            0.006816            0.365600           -0.028935  \n",
            "59720           -0.056689            0.190973            0.422358  \n",
            "\n",
            "[59721 rows x 13 columns]\n"
          ]
        }
      ]
    },
    {
      "cell_type": "code",
      "source": [
        "# Drop first column of dataframe\n",
        "jog9_male_df = jog9_male_df.iloc[: , 1:]\n",
        "jog9_male_df.shape"
      ],
      "metadata": {
        "colab": {
          "base_uri": "https://localhost:8080/"
        },
        "outputId": "bc17e6c7-9a93-4524-d661-5b534ba949df",
        "id": "jtK8Blf8GR0i"
      },
      "execution_count": null,
      "outputs": [
        {
          "output_type": "execute_result",
          "data": {
            "text/plain": [
              "(59721, 12)"
            ]
          },
          "metadata": {},
          "execution_count": 47
        }
      ]
    },
    {
      "cell_type": "code",
      "source": [
        "# Add Class Variable (Activity) in dataframe\n",
        "jog9_male_df[\"Activity\"] = 'Jogging' \n",
        "jog9_male_df.shape"
      ],
      "metadata": {
        "colab": {
          "base_uri": "https://localhost:8080/"
        },
        "outputId": "4c1ca497-8368-4a74-8f79-0cf6fa21d67a",
        "id": "qWragrRFGR0i"
      },
      "execution_count": null,
      "outputs": [
        {
          "output_type": "execute_result",
          "data": {
            "text/plain": [
              "(59721, 13)"
            ]
          },
          "metadata": {},
          "execution_count": 48
        }
      ]
    },
    {
      "cell_type": "code",
      "source": [
        "# merging all female csv files from jog_9 \n",
        "jog9_female_df = pd.concat(\n",
        "    map(pd.read_csv, ['sub_3_jog9.csv', 'sub_5_jog9.csv', 'sub_7_jog9.csv', 'sub_8_jog9.csv', 'sub_10_jog9.csv', 'sub_16_jog9.csv', 'sub_18_jog9.csv', 'sub_19_jog9.csv', 'sub_23_jog9.csv', 'sub_24_jog9.csv']), ignore_index=True)\n",
        "print(jog9_female_df) "
      ],
      "metadata": {
        "colab": {
          "base_uri": "https://localhost:8080/"
        },
        "outputId": "edbe6a8d-7bcd-48b9-9af3-b11c7750f1e0",
        "id": "FMX9nxpVGR0i"
      },
      "execution_count": null,
      "outputs": [
        {
          "output_type": "stream",
          "name": "stdout",
          "text": [
            "       Unnamed: 0  attitude.roll  attitude.pitch  attitude.yaw  gravity.x  \\\n",
            "0               0       0.427641       -1.256756     -0.204623   0.128103   \n",
            "1               1       0.365072       -1.268669     -0.243717   0.106225   \n",
            "2               2       0.291153       -1.281348     -0.284730   0.081928   \n",
            "3               3       0.259027       -1.296166     -0.289536   0.069458   \n",
            "4               4       0.292313       -1.309405     -0.247238   0.074464   \n",
            "...           ...            ...             ...           ...        ...   \n",
            "44041        2838      -1.017175       -1.162354     -1.310722  -0.337852   \n",
            "44042        2839      -1.292318       -1.078857     -1.562349  -0.454140   \n",
            "44043        2840      -1.403760       -0.951444     -1.709745  -0.572428   \n",
            "44044        2841      -1.504000       -0.843886     -1.828078  -0.663082   \n",
            "44045        2842      -1.550190       -0.746814     -1.889135  -0.733701   \n",
            "\n",
            "       gravity.y  gravity.z  rotationRate.x  rotationRate.y  rotationRate.z  \\\n",
            "0       0.951093  -0.281069       -0.269670        0.135204       -0.362225   \n",
            "1       0.954706  -0.277926       -0.325733       -1.685260       -0.868757   \n",
            "2       0.958401  -0.273393       -0.489061       -1.705888       -0.630590   \n",
            "3       0.962526  -0.262124       -0.827978       -1.009438       -0.011077   \n",
            "4       0.966031  -0.247442       -0.635207       -0.143786        0.458110   \n",
            "...          ...        ...             ...             ...             ...   \n",
            "44041   0.917741  -0.208826       -2.999562       -4.098313       -4.736243   \n",
            "44042   0.881418  -0.129842       -3.015364        0.439013       -6.663899   \n",
            "44043   0.814255  -0.096516       -2.786093       -0.210998       -6.814220   \n",
            "44044   0.747231  -0.044358       -2.645476       -0.743427       -5.391820   \n",
            "44045   0.679304  -0.015121       -1.850569        1.000916       -4.605496   \n",
            "\n",
            "       userAcceleration.x  userAcceleration.y  userAcceleration.z  \n",
            "0                0.369013            0.646929           -0.814573  \n",
            "1                0.594841            0.265616           -0.501051  \n",
            "2                0.364804           -0.061398           -0.042998  \n",
            "3                0.255951           -0.204316            0.126687  \n",
            "4               -0.103943           -1.005903            0.508718  \n",
            "...                   ...                 ...                 ...  \n",
            "44041           -0.895730            1.181624           -0.150626  \n",
            "44042           -2.954521            4.183477            0.853444  \n",
            "44043           -1.778753            3.831970           -0.317043  \n",
            "44044           -0.212925            1.475883           -0.199691  \n",
            "44045            0.279294            1.813952           -0.002412  \n",
            "\n",
            "[44046 rows x 13 columns]\n"
          ]
        }
      ]
    },
    {
      "cell_type": "code",
      "source": [
        "# Drop first column of dataframe\n",
        "jog9_female_df = jog9_female_df.iloc[: , 1:]\n",
        "jog9_female_df.shape"
      ],
      "metadata": {
        "colab": {
          "base_uri": "https://localhost:8080/"
        },
        "outputId": "6891705c-371d-4759-d7ba-c1ed5085b82d",
        "id": "q2hHb8C-GR0i"
      },
      "execution_count": null,
      "outputs": [
        {
          "output_type": "execute_result",
          "data": {
            "text/plain": [
              "(44046, 12)"
            ]
          },
          "metadata": {},
          "execution_count": 50
        }
      ]
    },
    {
      "cell_type": "code",
      "source": [
        "# Add Class Variable \"Activity\" in dataframe\n",
        "jog9_female_df[\"Activity\"] = 'Jogging' \n",
        "jog9_female_df.shape"
      ],
      "metadata": {
        "colab": {
          "base_uri": "https://localhost:8080/"
        },
        "outputId": "b9d01e20-d698-446e-877a-c529552001f2",
        "id": "8--FsonMGR0i"
      },
      "execution_count": null,
      "outputs": [
        {
          "output_type": "execute_result",
          "data": {
            "text/plain": [
              "(44046, 13)"
            ]
          },
          "metadata": {},
          "execution_count": 51
        }
      ]
    },
    {
      "cell_type": "code",
      "source": [
        ""
      ],
      "metadata": {
        "id": "Vzpar1oLcfGz"
      },
      "execution_count": null,
      "outputs": []
    },
    {
      "cell_type": "code",
      "source": [
        "# merging all male csv files from jog_16\n",
        "jog16_male_df = pd.concat(\n",
        "    map(pd.read_csv, ['sub_1_jog16.csv', 'sub_2_jog16.csv', 'sub_4_jog16.csv', 'sub_6_jog16.csv', 'sub_9_jog16.csv', 'sub_11_jog16.csv', 'sub_12_jog16.csv', 'sub_13_jog16.csv', 'sub_14_jog16.csv', 'sub_13_jog16.csv', 'sub_17_jog16.csv', 'sub_20_jog16.csv', 'sub_21_jog16.csv', 'sub_22_jog16.csv']), ignore_index=True)\n",
        "print(jog16_male_df)"
      ],
      "metadata": {
        "colab": {
          "base_uri": "https://localhost:8080/"
        },
        "outputId": "60ff399f-67f6-43ed-fc7f-bd37f5e9f8c9",
        "id": "jhQue0LJGR0j"
      },
      "execution_count": null,
      "outputs": [
        {
          "output_type": "stream",
          "name": "stdout",
          "text": [
            "       Unnamed: 0  attitude.roll  attitude.pitch  attitude.yaw  gravity.x  \\\n",
            "0               0       2.135357       -1.138555      1.678900   0.353903   \n",
            "1               1       2.162745       -1.152928      1.739330   0.336766   \n",
            "2               2       2.175561       -1.166584      1.770651   0.323538   \n",
            "3               3       2.105621       -1.194708      1.696332   0.315997   \n",
            "4               4       2.021151       -1.202365      1.626949   0.324243   \n",
            "...           ...            ...             ...           ...        ...   \n",
            "16909        1463       2.625511       -1.444273      0.859824   0.062197   \n",
            "16910        1464       2.983922       -1.442248      1.179851   0.020106   \n",
            "16911        1465      -3.019766       -1.433483      1.426805  -0.016618   \n",
            "16912        1466      -2.837716       -1.423747      1.585341  -0.043803   \n",
            "16913        1467      -2.751986       -1.425407      1.669631  -0.054978   \n",
            "\n",
            "       gravity.y  gravity.z  rotationRate.x  rotationRate.y  rotationRate.z  \\\n",
            "0       0.908029   0.224134       -0.255821        0.499133       -0.725292   \n",
            "1       0.913956   0.226435       -1.015571       -1.724624       -1.266134   \n",
            "2       0.919413   0.223615        0.784464       -0.237245       -0.759811   \n",
            "3       0.930108   0.187202        2.235062       -0.180857       -0.135523   \n",
            "4       0.932893   0.156769        0.528382       -1.351467        0.512080   \n",
            "...          ...        ...             ...             ...             ...   \n",
            "16909   0.992007   0.109624       -1.209994        2.054661       -1.926507   \n",
            "16910   0.991749   0.126460       -0.556546        1.788877       -1.827599   \n",
            "16911   0.990587   0.135732       -0.414207        1.764593       -1.472992   \n",
            "16912   0.989208   0.139684       -0.109121        0.788024       -1.011343   \n",
            "16913   0.989450   0.133899        0.528316       -0.222943       -0.227929   \n",
            "\n",
            "       userAcceleration.x  userAcceleration.y  userAcceleration.z  \n",
            "0                0.778940            0.051810           -1.657163  \n",
            "1                0.613780           -0.112152           -0.879374  \n",
            "2                0.413660           -0.630365           -0.428647  \n",
            "3                0.372556           -0.915796           -0.859046  \n",
            "4                0.139503           -1.002214           -0.005295  \n",
            "...                   ...                 ...                 ...  \n",
            "16909            0.599958            0.654142           -0.683949  \n",
            "16910            0.805883            0.153255           -0.693095  \n",
            "16911            0.635682           -0.558260           -0.647115  \n",
            "16912            0.654704           -1.298213           -0.489186  \n",
            "16913            0.818330           -1.531487           -0.618182  \n",
            "\n",
            "[16914 rows x 13 columns]\n"
          ]
        }
      ]
    },
    {
      "cell_type": "code",
      "source": [
        "# Drop first column of dataframe\n",
        "jog16_male_df = jog16_male_df.iloc[: , 1:]\n",
        "jog16_male_df.shape"
      ],
      "metadata": {
        "colab": {
          "base_uri": "https://localhost:8080/"
        },
        "outputId": "a46c42c7-9a9f-4e3d-d371-559a1d2d6739",
        "id": "UUckg4UYGR0j"
      },
      "execution_count": null,
      "outputs": [
        {
          "output_type": "execute_result",
          "data": {
            "text/plain": [
              "(16914, 12)"
            ]
          },
          "metadata": {},
          "execution_count": 53
        }
      ]
    },
    {
      "cell_type": "code",
      "source": [
        "# Add Class Variable (Activity) in dataframe\n",
        "jog16_male_df[\"Activity\"] = 'Jogging' \n",
        "jog16_male_df.shape"
      ],
      "metadata": {
        "colab": {
          "base_uri": "https://localhost:8080/"
        },
        "outputId": "8f0519e2-1b1c-46c3-d4e0-ed5a88b656bf",
        "id": "_SCL8wovGR0j"
      },
      "execution_count": null,
      "outputs": [
        {
          "output_type": "execute_result",
          "data": {
            "text/plain": [
              "(16914, 13)"
            ]
          },
          "metadata": {},
          "execution_count": 54
        }
      ]
    },
    {
      "cell_type": "code",
      "source": [
        "# merging all female csv files from jog_16 \n",
        "jog16_female_df = pd.concat(\n",
        "    map(pd.read_csv, ['sub_3_jog16.csv', 'sub_5_jog16.csv', 'sub_7_jog16.csv', 'sub_8_jog16.csv', 'sub_10_jog16.csv', 'sub_16_jog16.csv', 'sub_18_jog16.csv', 'sub_19_jog16.csv', 'sub_23_jog16.csv', 'sub_24_jog16.csv']), ignore_index=True)\n",
        "print(jog16_female_df) "
      ],
      "metadata": {
        "colab": {
          "base_uri": "https://localhost:8080/"
        },
        "outputId": "c7b19d06-42ae-46cd-add1-287ed92c2c7a",
        "id": "mud4PZtaGR0j"
      },
      "execution_count": null,
      "outputs": [
        {
          "output_type": "stream",
          "name": "stdout",
          "text": [
            "       Unnamed: 0  attitude.roll  attitude.pitch  attitude.yaw  gravity.x  \\\n",
            "0               0       1.241369       -1.345856      0.403204   0.211029   \n",
            "1               1       0.968561       -1.304025      0.134961   0.217223   \n",
            "2               2       0.875571       -1.224026     -0.015112   0.260973   \n",
            "3               3       0.869086       -1.195502     -0.100072   0.279936   \n",
            "4               4       0.868492       -1.221096     -0.102839   0.261527   \n",
            "...           ...            ...             ...           ...        ...   \n",
            "12836         785      -1.553643       -1.207026     -2.015848  -0.355748   \n",
            "12837         786      -1.533934       -1.243476     -2.010537  -0.321289   \n",
            "12838         787      -1.301587       -1.362634     -1.783378  -0.199218   \n",
            "12839         788      -0.524913       -1.486641     -0.952944  -0.042124   \n",
            "12840         789       0.683482       -1.435057      0.377682   0.085456   \n",
            "\n",
            "       gravity.y  gravity.z  rotationRate.x  rotationRate.y  rotationRate.z  \\\n",
            "0       0.974807  -0.072148        2.587748        0.018989       -0.077410   \n",
            "1       0.964627  -0.149324        4.224420       -0.087949        1.002381   \n",
            "2       0.940475  -0.217692        4.149846        3.785665        1.531008   \n",
            "3       0.930400  -0.236606        0.438495        1.867845       -0.495375   \n",
            "4       0.939475  -0.221313       -0.907996        0.235868       -0.932114   \n",
            "...          ...        ...             ...             ...             ...   \n",
            "12836   0.934562  -0.006103       -1.099007        0.677079       -0.248915   \n",
            "12837   0.946907  -0.011849        1.002112        0.500122        3.548562   \n",
            "12838   0.978412  -0.054966        2.195139        0.520332        7.577656   \n",
            "12839   0.996461  -0.072739        0.700754       -4.660940        8.016102   \n",
            "12840   0.990802  -0.104927        2.142517       -4.579572        5.868259   \n",
            "\n",
            "       userAcceleration.x  userAcceleration.y  userAcceleration.z  \n",
            "0               -0.242569            0.091675            0.177510  \n",
            "1                0.925355            1.890567            0.257829  \n",
            "2                0.881606            1.914719            0.326198  \n",
            "3               -0.035994            2.635213           -1.645871  \n",
            "4                0.016336            0.489098           -0.857437  \n",
            "...                   ...                 ...                 ...  \n",
            "12836           -0.090358            0.364632            1.418838  \n",
            "12837            0.775085           -0.704872           -1.384102  \n",
            "12838            0.862655            0.054028           -1.188137  \n",
            "12839            0.660700            0.977416           -1.382904  \n",
            "12840            0.043053            3.977308            0.174186  \n",
            "\n",
            "[12841 rows x 13 columns]\n"
          ]
        }
      ]
    },
    {
      "cell_type": "code",
      "source": [
        "# Drop first column of dataframe\n",
        "jog16_female_df = jog16_female_df.iloc[: , 1:]\n",
        "jog16_female_df.shape"
      ],
      "metadata": {
        "colab": {
          "base_uri": "https://localhost:8080/"
        },
        "outputId": "d5f00dc3-742c-483c-e7ac-14e48b3aed2c",
        "id": "XE2MzA0qGR0j"
      },
      "execution_count": null,
      "outputs": [
        {
          "output_type": "execute_result",
          "data": {
            "text/plain": [
              "(12841, 12)"
            ]
          },
          "metadata": {},
          "execution_count": 56
        }
      ]
    },
    {
      "cell_type": "code",
      "source": [
        "# Add Class Variable \"Activity\" in dataframe\n",
        "jog16_female_df[\"Activity\"] = 'Jogging' \n",
        "jog16_female_df.shape"
      ],
      "metadata": {
        "colab": {
          "base_uri": "https://localhost:8080/"
        },
        "outputId": "8df1d3c0-db87-4bf7-ce3c-352bee50fe65",
        "id": "6uOcR0XkGR0k"
      },
      "execution_count": null,
      "outputs": [
        {
          "output_type": "execute_result",
          "data": {
            "text/plain": [
              "(12841, 13)"
            ]
          },
          "metadata": {},
          "execution_count": 57
        }
      ]
    },
    {
      "cell_type": "code",
      "source": [
        ""
      ],
      "metadata": {
        "id": "gRqGfBWocfG3"
      },
      "execution_count": null,
      "outputs": []
    },
    {
      "cell_type": "code",
      "source": [
        "# merging all male csv files from dws_1\n",
        "dws1_male_df = pd.concat(\n",
        "    map(pd.read_csv, ['sub_1_dws1.csv', 'sub_2_dws1.csv', 'sub_4_dws1.csv', 'sub_6_dws1.csv', 'sub_9_dws1.csv', 'sub_11_dws1.csv', 'sub_12_dws1.csv', 'sub_13_dws1.csv', 'sub_14_dws1.csv', 'sub_13_dws1.csv', 'sub_17_dws1.csv', 'sub_20_dws1.csv', 'sub_21_dws1.csv', 'sub_22_dws1.csv']), ignore_index=True)\n",
        "print(dws1_male_df)"
      ],
      "metadata": {
        "colab": {
          "base_uri": "https://localhost:8080/"
        },
        "outputId": "dcd13a08-0f27-4f98-d979-78f2d925b9be",
        "id": "59JIOBjTGR0k"
      },
      "execution_count": null,
      "outputs": [
        {
          "output_type": "stream",
          "name": "stdout",
          "text": [
            "       Unnamed: 0  attitude.roll  attitude.pitch  attitude.yaw  gravity.x  \\\n",
            "0               0       1.528132       -0.733896      0.696372   0.741895   \n",
            "1               1       1.527992       -0.716987      0.677762   0.753099   \n",
            "2               2       1.527765       -0.706999      0.670951   0.759611   \n",
            "3               3       1.516768       -0.704678      0.675735   0.760709   \n",
            "4               4       1.493941       -0.703918      0.672994   0.760062   \n",
            "...           ...            ...             ...           ...        ...   \n",
            "27513        1819       0.654484       -1.046152     -2.750981   0.304922   \n",
            "27514        1820       0.665439       -0.992830     -2.730912   0.337297   \n",
            "27515        1821       0.680146       -0.961199     -2.717366   0.360069   \n",
            "27516        1822       0.709875       -0.950585     -2.699831   0.378791   \n",
            "27517        1823       0.744389       -0.954610     -2.671356   0.391555   \n",
            "\n",
            "       gravity.y  gravity.z  rotationRate.x  rotationRate.y  rotationRate.z  \\\n",
            "0       0.669768  -0.031672        0.316738        0.778180        1.082764   \n",
            "1       0.657116  -0.032255        0.842032        0.424446        0.643574   \n",
            "2       0.649555  -0.032707       -0.138143       -0.040741        0.343563   \n",
            "3       0.647788  -0.041140       -0.025005       -1.048717        0.035860   \n",
            "4       0.647210  -0.058530        0.114253       -0.912890        0.047341   \n",
            "...          ...        ...             ...             ...             ...   \n",
            "27513   0.865502  -0.397394        1.843950       -0.225339        2.411626   \n",
            "27514   0.837575  -0.429757        1.696732       -0.360842        1.794408   \n",
            "27515   0.819879  -0.445132        0.586289        0.766974        0.971221   \n",
            "27516   0.813756  -0.440808       -0.200173        0.719581        0.717961   \n",
            "27517   0.816088  -0.425062       -0.985688        0.421682        0.239633   \n",
            "\n",
            "       userAcceleration.x  userAcceleration.y  userAcceleration.z  \n",
            "0                0.294894           -0.184493            0.377542  \n",
            "1                0.219405            0.035846            0.114866  \n",
            "2                0.010714            0.134701           -0.167808  \n",
            "3               -0.008389            0.136788            0.094958  \n",
            "4                0.199441            0.353996           -0.044299  \n",
            "...                   ...                 ...                 ...  \n",
            "27513           -0.202795            0.155235            0.839761  \n",
            "27514            0.052412            0.283625            0.467843  \n",
            "27515           -0.147971            0.470618            0.393970  \n",
            "27516           -0.220710            0.241618            0.381695  \n",
            "27517           -0.195693            0.109189            0.286314  \n",
            "\n",
            "[27518 rows x 13 columns]\n"
          ]
        }
      ]
    },
    {
      "cell_type": "code",
      "source": [
        "# Drop first column of dataframe\n",
        "dws1_male_df = dws1_male_df.iloc[: , 1:]\n",
        "dws1_male_df.shape"
      ],
      "metadata": {
        "colab": {
          "base_uri": "https://localhost:8080/"
        },
        "outputId": "82d20ee8-92b6-400a-cf73-8f7728607a2b",
        "id": "SfB0JaA9GR0k"
      },
      "execution_count": null,
      "outputs": [
        {
          "output_type": "execute_result",
          "data": {
            "text/plain": [
              "(27518, 12)"
            ]
          },
          "metadata": {},
          "execution_count": 59
        }
      ]
    },
    {
      "cell_type": "code",
      "source": [
        "# Add Class Variable (Activity) in dataframe\n",
        "dws1_male_df[\"Activity\"] = 'Walking_DownStairs' \n",
        "dws1_male_df.shape"
      ],
      "metadata": {
        "colab": {
          "base_uri": "https://localhost:8080/"
        },
        "outputId": "df29ce6a-e85b-4b5d-bf5d-f3806a1257cb",
        "id": "qU-Jew2tGR0k"
      },
      "execution_count": null,
      "outputs": [
        {
          "output_type": "execute_result",
          "data": {
            "text/plain": [
              "(27518, 13)"
            ]
          },
          "metadata": {},
          "execution_count": 60
        }
      ]
    },
    {
      "cell_type": "code",
      "source": [
        "# merging all female csv files from dws_1 \n",
        "dws1_female_df = pd.concat(\n",
        "    map(pd.read_csv, ['sub_3_dws1.csv', 'sub_5_dws1.csv', 'sub_7_dws1.csv', 'sub_8_dws1.csv', 'sub_10_dws1.csv', 'sub_16_dws1.csv', 'sub_18_dws1.csv', 'sub_19_dws1.csv', 'sub_23_dws1.csv', 'sub_24_dws1.csv']), ignore_index=True)\n",
        "print(dws1_female_df) "
      ],
      "metadata": {
        "colab": {
          "base_uri": "https://localhost:8080/"
        },
        "outputId": "65fb5542-ed16-436c-acfd-671414e3c4be",
        "id": "LPTu3RLKGR0k"
      },
      "execution_count": null,
      "outputs": [
        {
          "output_type": "stream",
          "name": "stdout",
          "text": [
            "       Unnamed: 0  attitude.roll  attitude.pitch  attitude.yaw  gravity.x  \\\n",
            "0               0       0.627059       -1.058523      0.278144   0.287608   \n",
            "1               1       0.628015       -1.043158      0.275923   0.295822   \n",
            "2               2       0.634446       -1.041952      0.289878   0.299053   \n",
            "3               3       0.638048       -1.052550      0.309340   0.295048   \n",
            "4               4       0.645913       -1.068337      0.329102   0.289876   \n",
            "...           ...            ...             ...           ...        ...   \n",
            "22534        1642       1.900272       -1.384036      1.070332   0.175689   \n",
            "22535        1643       1.996873       -1.369482      1.160633   0.182080   \n",
            "22536        1644       2.074751       -1.350028      1.228313   0.191755   \n",
            "22537        1645       2.139869       -1.337114      1.289072   0.195067   \n",
            "22538        1646       2.272042       -1.327628      1.417406   0.183965   \n",
            "\n",
            "       gravity.y  gravity.z  rotationRate.x  rotationRate.y  rotationRate.z  \\\n",
            "0       0.871632  -0.396908        1.077263        0.224394        0.350103   \n",
            "1       0.863998  -0.407423        0.361392        0.052994        0.410484   \n",
            "2       0.863391  -0.406351       -0.439472       -0.508131        0.236830   \n",
            "3       0.868689  -0.397899       -0.832770       -0.664512       -0.008204   \n",
            "4       0.876401  -0.384565       -0.958890       -0.337706       -0.106711   \n",
            "...          ...        ...             ...             ...             ...   \n",
            "22534   0.982611   0.060075       -1.254480       -0.049376        0.073269   \n",
            "22535   0.979805   0.082643       -1.042971        0.619511        0.448835   \n",
            "22536   0.975730   0.105743       -1.022856        0.459199        0.561345   \n",
            "22537   0.972820   0.124777       -0.983157        0.332784       -0.093036   \n",
            "22538   0.970580   0.155344       -1.873072        0.367262       -0.749844   \n",
            "\n",
            "       userAcceleration.x  userAcceleration.y  userAcceleration.z  \n",
            "0                0.368047            0.817622           -0.077808  \n",
            "1                0.325471            0.411316           -0.055757  \n",
            "2                0.142109           -0.089251           -0.066839  \n",
            "3                0.080563           -0.158545           -0.055333  \n",
            "4               -0.073994           -0.144986           -0.057924  \n",
            "...                   ...                 ...                 ...  \n",
            "22534           -0.625930            0.105783           -0.144471  \n",
            "22535           -1.038052           -0.222297            0.198623  \n",
            "22536           -1.018690           -0.319693            0.180512  \n",
            "22537           -0.710647           -0.242642            0.301874  \n",
            "22538           -0.578099           -0.165831            0.430380  \n",
            "\n",
            "[22539 rows x 13 columns]\n"
          ]
        }
      ]
    },
    {
      "cell_type": "code",
      "source": [
        "# Drop first column of dataframe\n",
        "dws1_female_df = jog16_female_df.iloc[: , 1:]\n",
        "dws1_female_df.shape"
      ],
      "metadata": {
        "colab": {
          "base_uri": "https://localhost:8080/"
        },
        "outputId": "2e8ab7d9-87f2-43d1-da30-51946fc70028",
        "id": "9gzfZiVWGR0k"
      },
      "execution_count": null,
      "outputs": [
        {
          "output_type": "execute_result",
          "data": {
            "text/plain": [
              "(12841, 12)"
            ]
          },
          "metadata": {},
          "execution_count": 62
        }
      ]
    },
    {
      "cell_type": "code",
      "source": [
        "# Add Class Variable \"Activity\" in dataframe\n",
        "dws1_female_df[\"Activity\"] = 'Walking_DownStairs' \n",
        "dws1_female_df.shape"
      ],
      "metadata": {
        "colab": {
          "base_uri": "https://localhost:8080/"
        },
        "outputId": "75cea6dc-7ca8-4237-966d-9b076f77c803",
        "id": "gZf-JwxMGR0k"
      },
      "execution_count": null,
      "outputs": [
        {
          "output_type": "execute_result",
          "data": {
            "text/plain": [
              "(12841, 12)"
            ]
          },
          "metadata": {},
          "execution_count": 63
        }
      ]
    },
    {
      "cell_type": "code",
      "source": [
        ""
      ],
      "metadata": {
        "id": "e_mAFlwspCxA"
      },
      "execution_count": null,
      "outputs": []
    },
    {
      "cell_type": "code",
      "source": [
        "# merging all male csv files from dws_2\n",
        "dws2_male_df = pd.concat(\n",
        "    map(pd.read_csv, ['sub_1_dws2.csv', 'sub_2_dws2.csv', 'sub_4_dws2.csv', 'sub_6_dws2.csv', 'sub_9_dws2.csv', 'sub_11_dws2.csv', 'sub_12_dws2.csv', 'sub_13_dws2.csv', 'sub_14_dws2.csv', 'sub_13_dws2.csv', 'sub_17_dws2.csv', 'sub_20_dws2.csv', 'sub_21_dws2.csv', 'sub_22_dws2.csv']), ignore_index=True)\n",
        "print(dws1_male_df)"
      ],
      "metadata": {
        "colab": {
          "base_uri": "https://localhost:8080/"
        },
        "outputId": "19f74214-eb3f-480b-a44a-867d2d747aae",
        "id": "uDJvc-7MGR0l"
      },
      "execution_count": null,
      "outputs": [
        {
          "output_type": "stream",
          "name": "stdout",
          "text": [
            "       attitude.roll  attitude.pitch  attitude.yaw  gravity.x  gravity.y  \\\n",
            "0           1.528132       -0.733896      0.696372   0.741895   0.669768   \n",
            "1           1.527992       -0.716987      0.677762   0.753099   0.657116   \n",
            "2           1.527765       -0.706999      0.670951   0.759611   0.649555   \n",
            "3           1.516768       -0.704678      0.675735   0.760709   0.647788   \n",
            "4           1.493941       -0.703918      0.672994   0.760062   0.647210   \n",
            "...              ...             ...           ...        ...        ...   \n",
            "27513       0.654484       -1.046152     -2.750981   0.304922   0.865502   \n",
            "27514       0.665439       -0.992830     -2.730912   0.337297   0.837575   \n",
            "27515       0.680146       -0.961199     -2.717366   0.360069   0.819879   \n",
            "27516       0.709875       -0.950585     -2.699831   0.378791   0.813756   \n",
            "27517       0.744389       -0.954610     -2.671356   0.391555   0.816088   \n",
            "\n",
            "       gravity.z  rotationRate.x  rotationRate.y  rotationRate.z  \\\n",
            "0      -0.031672        0.316738        0.778180        1.082764   \n",
            "1      -0.032255        0.842032        0.424446        0.643574   \n",
            "2      -0.032707       -0.138143       -0.040741        0.343563   \n",
            "3      -0.041140       -0.025005       -1.048717        0.035860   \n",
            "4      -0.058530        0.114253       -0.912890        0.047341   \n",
            "...          ...             ...             ...             ...   \n",
            "27513  -0.397394        1.843950       -0.225339        2.411626   \n",
            "27514  -0.429757        1.696732       -0.360842        1.794408   \n",
            "27515  -0.445132        0.586289        0.766974        0.971221   \n",
            "27516  -0.440808       -0.200173        0.719581        0.717961   \n",
            "27517  -0.425062       -0.985688        0.421682        0.239633   \n",
            "\n",
            "       userAcceleration.x  userAcceleration.y  userAcceleration.z  \\\n",
            "0                0.294894           -0.184493            0.377542   \n",
            "1                0.219405            0.035846            0.114866   \n",
            "2                0.010714            0.134701           -0.167808   \n",
            "3               -0.008389            0.136788            0.094958   \n",
            "4                0.199441            0.353996           -0.044299   \n",
            "...                   ...                 ...                 ...   \n",
            "27513           -0.202795            0.155235            0.839761   \n",
            "27514            0.052412            0.283625            0.467843   \n",
            "27515           -0.147971            0.470618            0.393970   \n",
            "27516           -0.220710            0.241618            0.381695   \n",
            "27517           -0.195693            0.109189            0.286314   \n",
            "\n",
            "                 Activity  \n",
            "0      Walking_DownStairs  \n",
            "1      Walking_DownStairs  \n",
            "2      Walking_DownStairs  \n",
            "3      Walking_DownStairs  \n",
            "4      Walking_DownStairs  \n",
            "...                   ...  \n",
            "27513  Walking_DownStairs  \n",
            "27514  Walking_DownStairs  \n",
            "27515  Walking_DownStairs  \n",
            "27516  Walking_DownStairs  \n",
            "27517  Walking_DownStairs  \n",
            "\n",
            "[27518 rows x 13 columns]\n"
          ]
        }
      ]
    },
    {
      "cell_type": "code",
      "source": [
        "# Drop first column of dataframe\n",
        "dws2_male_df = dws2_male_df.iloc[: , 1:]\n",
        "dws2_male_df.shape"
      ],
      "metadata": {
        "colab": {
          "base_uri": "https://localhost:8080/"
        },
        "outputId": "abe393cd-3405-4655-e451-8942991a216a",
        "id": "aFUX313AGR0l"
      },
      "execution_count": null,
      "outputs": [
        {
          "output_type": "execute_result",
          "data": {
            "text/plain": [
              "(33457, 12)"
            ]
          },
          "metadata": {},
          "execution_count": 65
        }
      ]
    },
    {
      "cell_type": "code",
      "source": [
        "# Add Class Variable (Activity) in dataframe\n",
        "dws2_male_df[\"Activity\"] = 'Walking_DownStairs' \n",
        "dws2_male_df.shape"
      ],
      "metadata": {
        "colab": {
          "base_uri": "https://localhost:8080/"
        },
        "outputId": "84440e77-23ff-4b42-c6d2-860d8d83d55f",
        "id": "9B4SqvrzGR0l"
      },
      "execution_count": null,
      "outputs": [
        {
          "output_type": "execute_result",
          "data": {
            "text/plain": [
              "(33457, 13)"
            ]
          },
          "metadata": {},
          "execution_count": 66
        }
      ]
    },
    {
      "cell_type": "code",
      "source": [
        "# merging all female csv files from dws_2 \n",
        "dws2_female_df = pd.concat(\n",
        "    map(pd.read_csv, ['sub_3_dws2.csv', 'sub_5_dws2.csv', 'sub_7_dws2.csv', 'sub_8_dws2.csv', 'sub_10_dws2.csv', 'sub_16_dws2.csv', 'sub_18_dws2.csv', 'sub_19_dws2.csv', 'sub_23_dws2.csv', 'sub_24_dws2.csv']), ignore_index=True)\n",
        "print(dws2_female_df) "
      ],
      "metadata": {
        "colab": {
          "base_uri": "https://localhost:8080/"
        },
        "outputId": "28abe5e9-2224-4378-f44e-daa58d0fd93f",
        "id": "DVlfV24DGR0l"
      },
      "execution_count": null,
      "outputs": [
        {
          "output_type": "stream",
          "name": "stdout",
          "text": [
            "       Unnamed: 0  attitude.roll  attitude.pitch  attitude.yaw  gravity.x  \\\n",
            "0               0       1.107313       -1.095418      0.739966   0.409389   \n",
            "1               1       1.115297       -1.082860      0.748984   0.421005   \n",
            "2               2       1.137440       -1.075107      0.774079   0.431669   \n",
            "3               3       1.170896       -1.075259      0.806977   0.437986   \n",
            "4               4       1.210030       -1.080115      0.841941   0.440892   \n",
            "...           ...            ...             ...           ...        ...   \n",
            "25520        1456      -2.717883       -1.332958     -2.303607  -0.096867   \n",
            "25521        1457      -2.675661       -1.316127     -2.168156  -0.113179   \n",
            "25522        1458      -2.624580       -1.300916     -2.046566  -0.131785   \n",
            "25523        1459      -2.553919       -1.289668     -1.899243  -0.153820   \n",
            "25524        1460      -2.477694       -1.283688     -1.738934  -0.174494   \n",
            "\n",
            "       gravity.y  gravity.z  rotationRate.x  rotationRate.y  rotationRate.z  \\\n",
            "0       0.889120  -0.204610        0.262423        0.087219        0.617349   \n",
            "1       0.883302  -0.206232       -0.088261       -0.041670        0.652452   \n",
            "2       0.879641  -0.199729       -0.531127        0.062581        0.540267   \n",
            "3       0.879713  -0.185126       -0.797186        0.330190        0.182347   \n",
            "4       0.882012  -0.166339       -0.883489        0.448255        0.036315   \n",
            "...          ...        ...             ...             ...             ...   \n",
            "25520   0.971850   0.214768        0.053840       -5.070560       -2.116887   \n",
            "25521   0.967747   0.225071       -0.094169       -3.894524       -1.715639   \n",
            "25522   0.963803   0.231770        0.238943       -3.254944       -1.841251   \n",
            "25523   0.960743   0.230895        0.783213       -3.666133       -2.048430   \n",
            "25524   0.959067   0.223032        1.211207       -3.984487       -1.927528   \n",
            "\n",
            "       userAcceleration.x  userAcceleration.y  userAcceleration.z  \n",
            "0                0.186024           -0.005026           -0.246668  \n",
            "1                0.114106            0.058882            0.008417  \n",
            "2                0.091387            0.055066            0.126014  \n",
            "3                0.120913            0.105898            0.112250  \n",
            "4                0.062755            0.015495            0.127185  \n",
            "...                   ...                 ...                 ...  \n",
            "25520           -0.004848           -0.214205           -0.089173  \n",
            "25521           -0.134319           -0.392704           -0.106053  \n",
            "25522            0.044932           -0.438244           -0.370197  \n",
            "25523            0.130902           -0.387318           -0.576278  \n",
            "25524            0.252756           -0.302145           -0.742349  \n",
            "\n",
            "[25525 rows x 13 columns]\n"
          ]
        }
      ]
    },
    {
      "cell_type": "code",
      "source": [
        "# Drop first column of dataframe\n",
        "dws2_female_df = dws2_female_df.iloc[: , 1:]\n",
        "dws2_female_df.shape"
      ],
      "metadata": {
        "colab": {
          "base_uri": "https://localhost:8080/"
        },
        "outputId": "fe2a42c1-64d5-46e5-b95e-14523a9a43f8",
        "id": "ssCR37avGR0l"
      },
      "execution_count": null,
      "outputs": [
        {
          "output_type": "execute_result",
          "data": {
            "text/plain": [
              "(25525, 12)"
            ]
          },
          "metadata": {},
          "execution_count": 68
        }
      ]
    },
    {
      "cell_type": "code",
      "source": [
        "# Add Class Variable \"Activity\" in dataframe\n",
        "dws2_female_df[\"Activity\"] = 'Walking_DownStairs' \n",
        "dws2_female_df.shape"
      ],
      "metadata": {
        "colab": {
          "base_uri": "https://localhost:8080/"
        },
        "outputId": "2e242e6c-1df9-49bb-d6b8-080729c503bd",
        "id": "w13KOPnGGR0l"
      },
      "execution_count": null,
      "outputs": [
        {
          "output_type": "execute_result",
          "data": {
            "text/plain": [
              "(25525, 13)"
            ]
          },
          "metadata": {},
          "execution_count": 69
        }
      ]
    },
    {
      "cell_type": "code",
      "source": [
        ""
      ],
      "metadata": {
        "id": "zJUaqeLEcfG9"
      },
      "execution_count": null,
      "outputs": []
    },
    {
      "cell_type": "code",
      "source": [
        "# merging all male csv files from dws_11\n",
        "dws11_male_df = pd.concat(\n",
        "    map(pd.read_csv, ['sub_1_dws11.csv', 'sub_2_dws11.csv', 'sub_4_dws11.csv', 'sub_6_dws11.csv', 'sub_9_dws11.csv', 'sub_11_dws11.csv', 'sub_12_dws11.csv', 'sub_13_dws11.csv', 'sub_14_dws11.csv', 'sub_13_dws11.csv', 'sub_17_dws11.csv', 'sub_20_dws11.csv', 'sub_21_dws11.csv', 'sub_22_dws11.csv']), ignore_index=True)\n",
        "print(dws11_male_df)"
      ],
      "metadata": {
        "colab": {
          "base_uri": "https://localhost:8080/"
        },
        "outputId": "52d1647b-72fa-46d4-9a1b-b8cb8fd523ca",
        "id": "j1Bv6ACUGR0m"
      },
      "execution_count": null,
      "outputs": [
        {
          "output_type": "stream",
          "name": "stdout",
          "text": [
            "       Unnamed: 0  attitude.roll  attitude.pitch  attitude.yaw  gravity.x  \\\n",
            "0               0       0.086504       -1.172129      1.181660   0.033538   \n",
            "1               1       0.059454       -1.146609      1.248254   0.024456   \n",
            "2               2       0.029339       -1.130040      1.295114   0.012515   \n",
            "3               3      -0.004340       -1.119799      1.327633  -0.001892   \n",
            "4               4      -0.041066       -1.118417      1.351262  -0.017945   \n",
            "...           ...            ...             ...           ...        ...   \n",
            "12326         691       1.198224       -1.289482     -2.144893   0.258573   \n",
            "12327         692       1.172314       -1.307875     -2.170818   0.239539   \n",
            "12328         693       1.113915       -1.319807     -2.233084   0.222888   \n",
            "12329         694       1.069544       -1.320696     -2.305056   0.217053   \n",
            "12330         695       0.996454       -1.307672     -2.417663   0.218365   \n",
            "\n",
            "       gravity.y  gravity.z  rotationRate.x  rotationRate.y  rotationRate.z  \\\n",
            "0       0.921579  -0.386739        1.461974       -4.623707        1.674768   \n",
            "1       0.911373  -0.410853        0.969699       -4.170838        1.271234   \n",
            "2       0.904429  -0.426440        0.704113       -3.355548        0.880569   \n",
            "3       0.900013  -0.435860        0.353412       -3.073109        0.617112   \n",
            "4       0.899410  -0.436738       -0.076783       -2.783454        0.482344   \n",
            "...          ...        ...             ...             ...             ...   \n",
            "12326   0.960691  -0.101057       -0.157429       -0.650936       -0.521681   \n",
            "12327   0.965635  -0.100847        0.190700        0.009665       -1.121505   \n",
            "12328   0.968667  -0.109565        0.566923        0.398461       -0.641880   \n",
            "12329   0.968888  -0.118930        0.984363        1.699743       -0.350075   \n",
            "12330   0.965582  -0.141307        1.905432        1.802000       -0.080990   \n",
            "\n",
            "       userAcceleration.x  userAcceleration.y  userAcceleration.z  \n",
            "0               -0.067855           -0.048792            0.413061  \n",
            "1               -0.160289           -0.187298            0.645487  \n",
            "2               -0.217700           -0.262095            0.587390  \n",
            "3               -0.186981           -0.207996            0.391212  \n",
            "4               -0.153762           -0.193431            0.464860  \n",
            "...                   ...                 ...                 ...  \n",
            "12326           -0.591809            0.478594            0.128355  \n",
            "12327           -0.697395            0.582888           -0.358000  \n",
            "12328           -0.371722            0.246604           -0.366158  \n",
            "12329           -0.045087            0.133697           -0.404980  \n",
            "12330            0.300159            0.032114           -0.418019  \n",
            "\n",
            "[12331 rows x 13 columns]\n"
          ]
        }
      ]
    },
    {
      "cell_type": "code",
      "source": [
        "# Drop first column of dataframe\n",
        "dws11_male_df = dws11_male_df.iloc[: , 1:]\n",
        "dws11_male_df.shape"
      ],
      "metadata": {
        "colab": {
          "base_uri": "https://localhost:8080/"
        },
        "outputId": "7bd17f55-b194-44cc-9ebc-b8bac08bfca0",
        "id": "lpXVUHvtGR0m"
      },
      "execution_count": null,
      "outputs": [
        {
          "output_type": "execute_result",
          "data": {
            "text/plain": [
              "(12331, 12)"
            ]
          },
          "metadata": {},
          "execution_count": 71
        }
      ]
    },
    {
      "cell_type": "code",
      "source": [
        "# Add Class Variable (Activity) in dataframe\n",
        "dws11_male_df[\"Activity\"] = 'Walking_DownStairs' \n",
        "dws11_male_df.shape"
      ],
      "metadata": {
        "colab": {
          "base_uri": "https://localhost:8080/"
        },
        "outputId": "35fc03cd-29d2-4995-c72c-de23a93af80f",
        "id": "8YvnC3INGR0m"
      },
      "execution_count": null,
      "outputs": [
        {
          "output_type": "execute_result",
          "data": {
            "text/plain": [
              "(12331, 13)"
            ]
          },
          "metadata": {},
          "execution_count": 72
        }
      ]
    },
    {
      "cell_type": "code",
      "source": [
        "# merging all female csv files from dws_11 \n",
        "dws11_female_df = pd.concat(\n",
        "    map(pd.read_csv, ['sub_3_dws11.csv', 'sub_5_dws11.csv', 'sub_7_dws11.csv', 'sub_8_dws11.csv', 'sub_10_dws11.csv', 'sub_16_dws11.csv', 'sub_18_dws11.csv', 'sub_19_dws11.csv', 'sub_23_dws11.csv', 'sub_24_dws11.csv']), ignore_index=True)\n",
        "print(dws11_female_df) "
      ],
      "metadata": {
        "colab": {
          "base_uri": "https://localhost:8080/"
        },
        "outputId": "c712e3fd-a302-46f6-fd7b-2a61d68948ae",
        "id": "H6w4GdQYGR0m"
      },
      "execution_count": null,
      "outputs": [
        {
          "output_type": "stream",
          "name": "stdout",
          "text": [
            "      Unnamed: 0  attitude.roll  attitude.pitch  attitude.yaw  gravity.x  \\\n",
            "0              0       0.862794       -1.136540     -0.009957   0.319611   \n",
            "1              1       0.887555       -1.139740      0.009050   0.324034   \n",
            "2              2       0.902975       -1.144646      0.021938   0.324559   \n",
            "3              3       0.909755       -1.150267      0.025400   0.322242   \n",
            "4              4       0.903041       -1.153462      0.013275   0.318260   \n",
            "...          ...            ...             ...           ...        ...   \n",
            "9744         434      -2.630665       -0.942106     -2.692480  -0.287566   \n",
            "9745         435      -2.622877       -0.941469     -2.686673  -0.291808   \n",
            "9746         436      -2.632187       -0.962013     -2.683334  -0.278877   \n",
            "9747         437      -2.642530       -1.004807     -2.675556  -0.256651   \n",
            "9748         438      -2.644099       -1.077019     -2.663269  -0.226183   \n",
            "\n",
            "      gravity.y  gravity.z  rotationRate.x  rotationRate.y  rotationRate.z  \\\n",
            "0      0.907183  -0.273606       -0.497598        0.492856        0.154923   \n",
            "1      0.908525  -0.263776       -0.370217        0.288125        0.094119   \n",
            "2      0.910564  -0.255985       -0.350769        0.152466       -0.096783   \n",
            "3      0.912873  -0.250632       -0.120626        0.202214       -0.215949   \n",
            "4      0.914173  -0.250982        0.209595        0.229146       -0.310885   \n",
            "...         ...        ...             ...             ...             ...   \n",
            "9744   0.808798   0.512982       -0.801484        0.265616       -0.713091   \n",
            "9745   0.808423   0.511175        0.428794       -0.052029        0.132327   \n",
            "9746   0.820344   0.499262        1.276838       -0.846056        0.561216   \n",
            "9747   0.844059   0.470845        2.451713       -0.787113        1.052183   \n",
            "9748   0.880549   0.416504        3.838392       -0.467399        1.681028   \n",
            "\n",
            "      userAcceleration.x  userAcceleration.y  userAcceleration.z  \n",
            "0               0.066970           -0.098803            0.149308  \n",
            "1              -0.049055           -0.143114            0.169751  \n",
            "2              -0.058980           -0.130214            0.129260  \n",
            "3              -0.070426           -0.104233            0.046133  \n",
            "4               0.018014           -0.131549            0.009649  \n",
            "...                  ...                 ...                 ...  \n",
            "9744           -0.643846            1.073205           -0.381742  \n",
            "9745           -0.249696            0.752001           -0.485723  \n",
            "9746            0.384208           -0.491243           -0.411753  \n",
            "9747            0.262480           -0.774967           -0.241872  \n",
            "9748            0.175112           -0.881647           -0.093185  \n",
            "\n",
            "[9749 rows x 13 columns]\n"
          ]
        }
      ]
    },
    {
      "cell_type": "code",
      "source": [
        "# Drop first column of dataframe\n",
        "dws11_female_df = dws11_female_df.iloc[: , 1:]\n",
        "dws11_female_df.shape"
      ],
      "metadata": {
        "colab": {
          "base_uri": "https://localhost:8080/"
        },
        "outputId": "5fbdeaee-5e13-40f3-ab64-444e3ee11d61",
        "id": "q5UgrMRoGR0m"
      },
      "execution_count": null,
      "outputs": [
        {
          "output_type": "execute_result",
          "data": {
            "text/plain": [
              "(9749, 12)"
            ]
          },
          "metadata": {},
          "execution_count": 74
        }
      ]
    },
    {
      "cell_type": "code",
      "source": [
        "# Add Class Variable \"Activity\" in dataframe\n",
        "dws11_female_df[\"Activity\"] = 'Walking_DownStairs' \n",
        "dws11_female_df.shape"
      ],
      "metadata": {
        "colab": {
          "base_uri": "https://localhost:8080/"
        },
        "outputId": "9b5da1c5-8a34-45ae-ba58-971194983ff7",
        "id": "4_cZ9CX3GR0m"
      },
      "execution_count": null,
      "outputs": [
        {
          "output_type": "execute_result",
          "data": {
            "text/plain": [
              "(9749, 13)"
            ]
          },
          "metadata": {},
          "execution_count": 75
        }
      ]
    },
    {
      "cell_type": "code",
      "source": [
        ""
      ],
      "metadata": {
        "id": "CNu2F1mIcfHB"
      },
      "execution_count": null,
      "outputs": []
    },
    {
      "cell_type": "code",
      "source": [
        "# merging all male csv files from ups_3\n",
        "ups3_male_df = pd.concat(\n",
        "    map(pd.read_csv, ['sub_1_ups3.csv', 'sub_2_ups3.csv', 'sub_4_ups3.csv', 'sub_6_ups3.csv', 'sub_9_ups3.csv', 'sub_11_ups3.csv', 'sub_12_ups3.csv', 'sub_13_ups3.csv', 'sub_14_ups3.csv', 'sub_13_ups3.csv', 'sub_17_ups3.csv', 'sub_20_ups3.csv', 'sub_21_ups3.csv', 'sub_22_ups3.csv']), ignore_index=True)\n",
        "print(ups3_male_df)"
      ],
      "metadata": {
        "colab": {
          "base_uri": "https://localhost:8080/"
        },
        "outputId": "30c56a32-7398-46bd-f0b6-95bc13e4ada0",
        "id": "kHVDtnmEGR0n"
      },
      "execution_count": null,
      "outputs": [
        {
          "output_type": "stream",
          "name": "stdout",
          "text": [
            "       Unnamed: 0  attitude.roll  attitude.pitch  attitude.yaw  gravity.x  \\\n",
            "0               0      -2.643769       -1.348560      1.938935  -0.105250   \n",
            "1               1      -2.611424       -1.325624      1.946019  -0.122740   \n",
            "2               2      -2.544143       -1.316334      2.003067  -0.141604   \n",
            "3               3      -2.506960       -1.308531      2.043615  -0.153716   \n",
            "4               4      -2.528618       -1.296898      2.026038  -0.155612   \n",
            "...           ...            ...             ...           ...        ...   \n",
            "30515        2392       0.710971       -1.053417      3.083730   0.322751   \n",
            "30516        2393       0.694973       -0.997367      3.094061   0.347397   \n",
            "30517        2394       0.681214       -0.941093      3.101978   0.370846   \n",
            "30518        2395       0.663800       -0.883853      3.108506   0.390718   \n",
            "30519        2396       0.641690       -0.828455      3.115239   0.404623   \n",
            "\n",
            "       gravity.y  gravity.z  rotationRate.x  rotationRate.y  rotationRate.z  \\\n",
            "0       0.975407   0.193659       -1.828947        1.938878       -0.501217   \n",
            "1       0.970095   0.209403       -0.491319        0.916834       -0.750142   \n",
            "2       0.967799   0.208119        0.144838        0.409004       -0.845461   \n",
            "3       0.965805   0.208787       -0.247298       -0.300595       -0.474481   \n",
            "4       0.962724   0.221242       -0.718499       -0.013115       -0.030556   \n",
            "...          ...        ...             ...             ...             ...   \n",
            "30515   0.869118  -0.374761        1.898180       -1.043366        2.089549   \n",
            "30516   0.840045  -0.416678        2.019826       -1.121223        2.007177   \n",
            "30517   0.808202  -0.457456        2.051484       -1.007165        1.961319   \n",
            "30518   0.773188  -0.499505        2.134985       -1.211867        1.931186   \n",
            "30519   0.736888  -0.541537        1.981083       -1.422712        1.778694   \n",
            "\n",
            "       userAcceleration.x  userAcceleration.y  userAcceleration.z  \n",
            "0                0.319743           -0.332096            0.136877  \n",
            "1                0.410796           -0.161044            0.162072  \n",
            "2                0.322085           -0.037882            0.068019  \n",
            "3               -0.074738            0.018051           -0.379288  \n",
            "4               -0.003415           -0.068849           -0.104970  \n",
            "...                   ...                 ...                 ...  \n",
            "30515           -0.233335            0.036720            0.152395  \n",
            "30516           -0.268509            0.003415            0.234794  \n",
            "30517           -0.220623           -0.040746            0.199765  \n",
            "30518           -0.133806            0.053243            0.212090  \n",
            "30519           -0.264517            0.056325            0.342822  \n",
            "\n",
            "[30520 rows x 13 columns]\n"
          ]
        }
      ]
    },
    {
      "cell_type": "code",
      "source": [
        "# Drop first column of dataframe\n",
        "ups3_male_df = ups3_male_df.iloc[: , 1:]\n",
        "ups3_male_df.shape"
      ],
      "metadata": {
        "colab": {
          "base_uri": "https://localhost:8080/"
        },
        "outputId": "e811ae35-0f78-4811-dda2-b7ed6942b8c1",
        "id": "29UfEPxWGR0n"
      },
      "execution_count": null,
      "outputs": [
        {
          "output_type": "execute_result",
          "data": {
            "text/plain": [
              "(30520, 12)"
            ]
          },
          "metadata": {},
          "execution_count": 77
        }
      ]
    },
    {
      "cell_type": "code",
      "source": [
        "# Add Class Variable (Activity) in dataframe\n",
        "ups3_male_df[\"Activity\"] = 'Walking_UpStairs' \n",
        "ups3_male_df.shape"
      ],
      "metadata": {
        "colab": {
          "base_uri": "https://localhost:8080/"
        },
        "outputId": "c16db9b8-2a36-47ae-8e0c-d7580a52fb1e",
        "id": "hc8KE4FzGR0n"
      },
      "execution_count": null,
      "outputs": [
        {
          "output_type": "execute_result",
          "data": {
            "text/plain": [
              "(30520, 13)"
            ]
          },
          "metadata": {},
          "execution_count": 78
        }
      ]
    },
    {
      "cell_type": "code",
      "source": [
        "# merging all female csv files from ups_3 \n",
        "ups3_female_df = pd.concat(\n",
        "    map(pd.read_csv, ['sub_3_ups3.csv', 'sub_5_ups3.csv', 'sub_7_ups3.csv', 'sub_8_ups3.csv', 'sub_10_ups3.csv', 'sub_16_ups3.csv', 'sub_18_ups3.csv', 'sub_19_ups3.csv', 'sub_23_ups3.csv', 'sub_24_ups3.csv']), ignore_index=True)\n",
        "print(ups3_female_df) "
      ],
      "metadata": {
        "colab": {
          "base_uri": "https://localhost:8080/"
        },
        "outputId": "347c1e69-7e87-4660-db51-07bff20a5bb1",
        "id": "jdoaG_QQGR0n"
      },
      "execution_count": null,
      "outputs": [
        {
          "output_type": "stream",
          "name": "stdout",
          "text": [
            "       Unnamed: 0  attitude.roll  attitude.pitch  attitude.yaw  gravity.x  \\\n",
            "0               0       0.447403       -1.035196     -0.048741   0.220792   \n",
            "1               1       0.456338       -1.036821     -0.038044   0.224278   \n",
            "2               2       0.465284       -1.046419     -0.017628   0.224639   \n",
            "3               3       0.471586       -1.059870      0.010667   0.222144   \n",
            "4               4       0.468841       -1.084239      0.024032   0.211277   \n",
            "...           ...            ...             ...           ...        ...   \n",
            "26087        1392       1.225887       -1.380504     -0.586724   0.178006   \n",
            "26088        1393       1.702697       -1.456976     -0.134149   0.112589   \n",
            "26089        1394       2.598022       -1.491832      0.750552   0.040798   \n",
            "26090        1395      -2.791966       -1.460973      1.655483  -0.037544   \n",
            "26091        1396      -2.489767       -1.380595      1.980176  -0.114689   \n",
            "\n",
            "       gravity.y  gravity.z  rotationRate.x  rotationRate.y  rotationRate.z  \\\n",
            "0       0.859963  -0.460121        0.112450        0.185677        0.270331   \n",
            "1       0.860791  -0.456875       -0.378285       -0.126536        0.185050   \n",
            "2       0.865636  -0.447445       -0.817844       -0.682771        0.339721   \n",
            "3       0.872292  -0.435608       -1.040048       -0.954938        0.130214   \n",
            "4       0.883948  -0.417125       -1.364155       -0.502084       -0.416337   \n",
            "...          ...        ...             ...             ...             ...   \n",
            "26087   0.981949  -0.063952       -3.841231        1.746179       -2.983946   \n",
            "26088   0.993529   0.014937       -3.510338        1.213717       -3.314237   \n",
            "26089   0.996884   0.067513       -2.039947        0.312475       -3.784580   \n",
            "26090   0.993975   0.102972       -1.838983       -0.745259       -3.979442   \n",
            "26091   0.981966   0.150296       -2.647470       -1.135784       -4.185414   \n",
            "\n",
            "       userAcceleration.x  userAcceleration.y  userAcceleration.z  \n",
            "0                0.321124            0.173576           -0.206673  \n",
            "1                0.423671            0.339847           -0.277378  \n",
            "2                0.170228            0.393916           -0.145298  \n",
            "3               -0.005576            0.704429           -0.299820  \n",
            "4                0.119930            0.955682           -0.147862  \n",
            "...                   ...                 ...                 ...  \n",
            "26087           -0.513440            0.016937           -0.037381  \n",
            "26088           -0.217310           -0.131881            0.177095  \n",
            "26089            0.149449            0.178928            0.124610  \n",
            "26090            0.578682            0.732221           -0.116964  \n",
            "26091            0.843647            0.832243           -0.433957  \n",
            "\n",
            "[26092 rows x 13 columns]\n"
          ]
        }
      ]
    },
    {
      "cell_type": "code",
      "source": [
        "# Drop first column of dataframe\n",
        "ups3_female_df = ups3_female_df.iloc[: , 1:]\n",
        "ups3_female_df.shape"
      ],
      "metadata": {
        "colab": {
          "base_uri": "https://localhost:8080/"
        },
        "outputId": "0b09756b-b19f-4865-c702-39312e4bfb52",
        "id": "LlgUnqKNGR0n"
      },
      "execution_count": null,
      "outputs": [
        {
          "output_type": "execute_result",
          "data": {
            "text/plain": [
              "(26092, 12)"
            ]
          },
          "metadata": {},
          "execution_count": 80
        }
      ]
    },
    {
      "cell_type": "code",
      "source": [
        "# Add Class Variable \"Activity\" in dataframe\n",
        "ups3_female_df[\"Activity\"] = 'Walking_UpStairs' \n",
        "ups3_female_df.shape"
      ],
      "metadata": {
        "colab": {
          "base_uri": "https://localhost:8080/"
        },
        "outputId": "1d873f19-899d-49dd-9c73-297c36b9ab08",
        "id": "xEive7zbGR0n"
      },
      "execution_count": null,
      "outputs": [
        {
          "output_type": "execute_result",
          "data": {
            "text/plain": [
              "(26092, 13)"
            ]
          },
          "metadata": {},
          "execution_count": 81
        }
      ]
    },
    {
      "cell_type": "code",
      "source": [
        ""
      ],
      "metadata": {
        "id": "9MVmBk7LcfHF"
      },
      "execution_count": null,
      "outputs": []
    },
    {
      "cell_type": "code",
      "source": [
        "# merging all male csv files from ups_4\n",
        "ups4_male_df = pd.concat(\n",
        "    map(pd.read_csv, ['sub_1_ups4.csv', 'sub_2_ups4.csv', 'sub_4_ups4.csv', 'sub_6_ups4.csv', 'sub_9_ups4.csv', 'sub_11_ups4.csv', 'sub_12_ups4.csv', 'sub_13_ups4.csv', 'sub_14_ups4.csv', 'sub_13_ups4.csv', 'sub_17_ups4.csv', 'sub_20_ups4.csv', 'sub_21_ups4.csv', 'sub_22_ups4.csv']), ignore_index=True)\n",
        "print(ups4_male_df)"
      ],
      "metadata": {
        "colab": {
          "base_uri": "https://localhost:8080/"
        },
        "outputId": "785301ff-1ce3-4599-9345-f25e9b1b3b3c",
        "id": "prdQQLBZGR0o"
      },
      "execution_count": null,
      "outputs": [
        {
          "output_type": "stream",
          "name": "stdout",
          "text": [
            "       Unnamed: 0  attitude.roll  attitude.pitch  attitude.yaw  gravity.x  \\\n",
            "0               0       0.348443       -0.817831      0.539156   0.233475   \n",
            "1               1       0.391896       -0.851445      0.553602   0.251660   \n",
            "2               2       0.448344       -0.888969      0.574567   0.273181   \n",
            "3               3       0.502052       -0.913294      0.588488   0.294097   \n",
            "4               4       0.556119       -0.928739      0.603094   0.316126   \n",
            "...           ...            ...             ...           ...        ...   \n",
            "37910        2705       0.962558       -1.348018     -0.212840   0.181314   \n",
            "37911        2706       0.904613       -1.280573     -0.297308   0.224978   \n",
            "37912        2707       0.895363       -1.204473     -0.330658   0.279540   \n",
            "37913        2708       0.916626       -1.133916     -0.317438   0.335764   \n",
            "37914        2709       0.943784       -1.071933     -0.282755   0.387423   \n",
            "\n",
            "       gravity.y  gravity.z  rotationRate.x  rotationRate.y  rotationRate.z  \\\n",
            "0       0.729665  -0.642712       -1.277225        1.288236       -0.316860   \n",
            "1       0.752233  -0.608944       -2.034523        1.783236       -0.104867   \n",
            "2       0.776422  -0.567927       -1.752982        2.147981       -0.187757   \n",
            "3       0.791521  -0.535725       -1.059044        2.045296       -0.151800   \n",
            "4       0.800866  -0.508604       -0.907142        2.402687        0.117995   \n",
            "...          ...        ...             ...             ...             ...   \n",
            "37910   0.975287  -0.126249        2.595168        1.023384        1.692813   \n",
            "37911   0.958180  -0.176847        2.962759        1.266875        2.286864   \n",
            "37912   0.933651  -0.223949        2.549421        0.990251        2.823783   \n",
            "37913   0.906076  -0.257465        1.669755       -0.120693        3.018820   \n",
            "37914   0.878127  -0.280707        1.019124       -0.010167        2.849627   \n",
            "\n",
            "       userAcceleration.x  userAcceleration.y  userAcceleration.z  \n",
            "0                0.457321           -0.211461            0.051205  \n",
            "1                0.043292           -0.145880            0.193599  \n",
            "2               -0.287906            0.054434           -0.059637  \n",
            "3               -0.384124            0.382612            0.045826  \n",
            "4               -0.238032            0.507164            0.386427  \n",
            "...                   ...                 ...                 ...  \n",
            "37910            0.276663            0.242990           -0.094241  \n",
            "37911            0.247495            0.234539            0.040494  \n",
            "37912            0.068284            0.309330            0.284237  \n",
            "37913           -0.212305            0.342063            0.328220  \n",
            "37914           -0.385195            0.401063            0.156988  \n",
            "\n",
            "[37915 rows x 13 columns]\n"
          ]
        }
      ]
    },
    {
      "cell_type": "code",
      "source": [
        "# Drop first column of dataframe\n",
        "ups4_male_df = ups4_male_df.iloc[: , 1:]\n",
        "ups4_male_df.shape"
      ],
      "metadata": {
        "colab": {
          "base_uri": "https://localhost:8080/"
        },
        "outputId": "ab534d27-e0fb-4f61-c2c9-8c63ce941a59",
        "id": "yW9aj2G_GR0o"
      },
      "execution_count": null,
      "outputs": [
        {
          "output_type": "execute_result",
          "data": {
            "text/plain": [
              "(37915, 12)"
            ]
          },
          "metadata": {},
          "execution_count": 83
        }
      ]
    },
    {
      "cell_type": "code",
      "source": [
        "# Add Class Variable (Activity) in dataframe\n",
        "ups4_male_df[\"Activity\"] = 'Walking_UpStairs' \n",
        "ups4_male_df.shape"
      ],
      "metadata": {
        "colab": {
          "base_uri": "https://localhost:8080/"
        },
        "outputId": "fe49a7d0-de02-4af4-bb95-5c862987a386",
        "id": "3FHVHUWZGR0o"
      },
      "execution_count": null,
      "outputs": [
        {
          "output_type": "execute_result",
          "data": {
            "text/plain": [
              "(37915, 13)"
            ]
          },
          "metadata": {},
          "execution_count": 84
        }
      ]
    },
    {
      "cell_type": "code",
      "source": [
        "# merging all female csv files from ups_4 \n",
        "ups4_female_df = pd.concat(\n",
        "    map(pd.read_csv, ['sub_3_ups4.csv', 'sub_5_ups4.csv', 'sub_7_ups4.csv', 'sub_8_ups4.csv', 'sub_10_ups4.csv', 'sub_16_ups4.csv', 'sub_18_ups4.csv', 'sub_19_ups4.csv', 'sub_23_ups4.csv', 'sub_24_ups4.csv']), ignore_index=True)\n",
        "print(ups4_female_df) "
      ],
      "metadata": {
        "colab": {
          "base_uri": "https://localhost:8080/"
        },
        "outputId": "b51f0797-6095-4f77-b230-d137cda7c48c",
        "id": "1Gl9O0CxGR0o"
      },
      "execution_count": null,
      "outputs": [
        {
          "output_type": "stream",
          "name": "stdout",
          "text": [
            "       Unnamed: 0  attitude.roll  attitude.pitch  attitude.yaw  gravity.x  \\\n",
            "0               0       1.075400       -1.332123      0.293602   0.207987   \n",
            "1               1       1.178555       -1.341586      0.381777   0.209947   \n",
            "2               2       1.270955       -1.350223      0.463723   0.209021   \n",
            "3               3       1.348542       -1.357631      0.535586   0.206342   \n",
            "4               4       1.410781       -1.363649      0.596525   0.203033   \n",
            "...           ...            ...             ...           ...        ...   \n",
            "31435        1507      -2.208286       -0.734780     -0.350465  -0.596249   \n",
            "31436        1508      -2.146088       -0.788391     -0.322954  -0.591508   \n",
            "31437        1509      -2.094428       -0.834623     -0.287080  -0.581488   \n",
            "31438        1510      -2.071408       -0.876276     -0.254023  -0.561480   \n",
            "31439        1511      -2.071189       -0.922735     -0.236846  -0.529632   \n",
            "\n",
            "       gravity.y  gravity.z  rotationRate.x  rotationRate.y  rotationRate.z  \\\n",
            "0       0.971652  -0.112384       -1.139248        1.034528        0.072770   \n",
            "1       0.973846  -0.086850       -1.101459        0.785569       -0.038810   \n",
            "2       0.975772  -0.064621       -0.950789        0.524361       -0.115403   \n",
            "3       0.977366  -0.046631       -0.782011        0.266246       -0.182260   \n",
            "4       0.978622  -0.032769       -0.621984        0.071631       -0.137095   \n",
            "...          ...        ...             ...             ...             ...   \n",
            "31435   0.670424   0.441611        2.244140        2.375087        1.783464   \n",
            "31436   0.709220   0.383569        2.361747        1.947425        1.537006   \n",
            "31437   0.741043   0.335748        2.173201        0.755149        1.226365   \n",
            "31438   0.768360   0.307184        1.780024       -0.370227        1.411999   \n",
            "31439   0.797256   0.289609        1.500191       -0.761666        2.040797   \n",
            "\n",
            "       userAcceleration.x  userAcceleration.y  userAcceleration.z  \n",
            "0                0.070180           -0.366825            0.118075  \n",
            "1               -0.073198           -0.371063            0.124616  \n",
            "2               -0.078344           -0.354938            0.101303  \n",
            "3               -0.059644           -0.349009            0.119995  \n",
            "4               -0.097106           -0.188110            0.109383  \n",
            "...                   ...                 ...                 ...  \n",
            "31435            0.030819            0.365190           -0.317175  \n",
            "31436           -0.250167            0.421609           -0.291635  \n",
            "31437           -0.385339            0.184418           -0.281793  \n",
            "31438           -0.366132           -0.206074           -0.186808  \n",
            "31439           -0.039246           -0.350005           -0.016050  \n",
            "\n",
            "[31440 rows x 13 columns]\n"
          ]
        }
      ]
    },
    {
      "cell_type": "code",
      "source": [
        "# Drop first column of dataframe\n",
        "ups4_female_df = ups4_female_df.iloc[: , 1:]\n",
        "ups4_female_df.shape"
      ],
      "metadata": {
        "colab": {
          "base_uri": "https://localhost:8080/"
        },
        "outputId": "f4809cbe-4921-468d-9e8d-8411e41388f9",
        "id": "86mKuDsNGR0o"
      },
      "execution_count": null,
      "outputs": [
        {
          "output_type": "execute_result",
          "data": {
            "text/plain": [
              "(31440, 12)"
            ]
          },
          "metadata": {},
          "execution_count": 86
        }
      ]
    },
    {
      "cell_type": "code",
      "source": [
        "# Add Class Variable \"Activity\" in dataframe\n",
        "ups4_female_df[\"Activity\"] = 'Walking_UpStairs' \n",
        "ups4_female_df.shape"
      ],
      "metadata": {
        "colab": {
          "base_uri": "https://localhost:8080/"
        },
        "outputId": "6df955e7-7c40-4913-f550-ed4576eb7164",
        "id": "otmNKOvvGR0p"
      },
      "execution_count": null,
      "outputs": [
        {
          "output_type": "execute_result",
          "data": {
            "text/plain": [
              "(31440, 13)"
            ]
          },
          "metadata": {},
          "execution_count": 87
        }
      ]
    },
    {
      "cell_type": "code",
      "source": [
        ""
      ],
      "metadata": {
        "id": "zda3NKiXcfHJ"
      },
      "execution_count": null,
      "outputs": []
    },
    {
      "cell_type": "code",
      "source": [
        "# merging all male csv files from ups_12\n",
        "ups12_male_df = pd.concat(\n",
        "    map(pd.read_csv, ['sub_1_ups12.csv', 'sub_2_ups12.csv', 'sub_4_ups12.csv', 'sub_6_ups12.csv', 'sub_9_ups12.csv', 'sub_11_ups12.csv', 'sub_12_ups12.csv', 'sub_13_ups12.csv', 'sub_14_ups12.csv', 'sub_13_ups12.csv', 'sub_17_ups12.csv', 'sub_20_ups12.csv', 'sub_21_ups12.csv', 'sub_22_ups12.csv']), ignore_index=True)\n",
        "print(ups12_male_df)"
      ],
      "metadata": {
        "colab": {
          "base_uri": "https://localhost:8080/"
        },
        "outputId": "42a9fba8-a54f-41b8-d516-a2587226c1eb",
        "id": "nfeQsE2hGR0p"
      },
      "execution_count": null,
      "outputs": [
        {
          "output_type": "stream",
          "name": "stdout",
          "text": [
            "       Unnamed: 0  attitude.roll  attitude.pitch  attitude.yaw  gravity.x  \\\n",
            "0               0       0.838472       -0.901646      0.189667   0.461284   \n",
            "1               1       0.901238       -0.900320      0.177763   0.487205   \n",
            "2               2       0.993089       -0.914963      0.185652   0.510856   \n",
            "3               3       1.029530       -0.921919      0.171090   0.517913   \n",
            "4               4       1.052038       -0.927877      0.156188   0.520657   \n",
            "...           ...            ...             ...           ...        ...   \n",
            "15176        1003      -0.198957       -1.453118      2.183427  -0.023201   \n",
            "15177        1004       0.203950       -1.399843      2.576332   0.034453   \n",
            "15178        1005       0.420937       -1.351860      2.813387   0.088743   \n",
            "15179        1006       0.552714       -1.308184      2.972340   0.136288   \n",
            "15180        1007       0.660519       -1.264018      3.092469   0.185274   \n",
            "\n",
            "       gravity.y  gravity.z  rotationRate.x  rotationRate.y  rotationRate.z  \\\n",
            "0       0.784349  -0.414745        0.127156        2.833157       -0.227154   \n",
            "1       0.783526  -0.385640        0.076840        4.165144       -0.281555   \n",
            "2       0.792540  -0.333025       -0.794123        3.879236       -0.488098   \n",
            "3       0.796763  -0.311345        0.701853        1.728788       -0.538987   \n",
            "4       0.800349  -0.297251       -0.233936        2.031018       -0.449770   \n",
            "...          ...        ...             ...             ...             ...   \n",
            "15176   0.993084  -0.115069        3.112244        1.545196        2.614098   \n",
            "15177   0.985423  -0.166582        2.174849       -0.020606        2.855248   \n",
            "15178   0.976129  -0.198222        1.300303       -1.098977        2.892182   \n",
            "15179   0.965715  -0.220943        0.911653       -0.944270        2.636100   \n",
            "15180   0.953312  -0.238467        0.845236       -0.277236        2.650805   \n",
            "\n",
            "       userAcceleration.x  userAcceleration.y  userAcceleration.z  \n",
            "0               -0.097468           -0.011766            0.079388  \n",
            "1                0.375618            0.492231            0.449682  \n",
            "2                0.061608            0.260805            0.489626  \n",
            "3               -0.107970            0.133718           -0.024181  \n",
            "4               -0.025372           -0.095515            0.276041  \n",
            "...                   ...                 ...                 ...  \n",
            "15176            0.617744            0.261463            0.359790  \n",
            "15177            0.486787            0.291173            0.501848  \n",
            "15178            0.077181            0.187445            0.548747  \n",
            "15179           -0.381115            0.381789            0.020305  \n",
            "15180           -0.507585            0.318341            0.016299  \n",
            "\n",
            "[15181 rows x 13 columns]\n"
          ]
        }
      ]
    },
    {
      "cell_type": "code",
      "source": [
        "# Drop first column of dataframe\n",
        "ups12_male_df = ups12_male_df.iloc[: , 1:]\n",
        "ups12_male_df.shape"
      ],
      "metadata": {
        "colab": {
          "base_uri": "https://localhost:8080/"
        },
        "outputId": "9a96a055-eed5-41b3-d216-49c37c2a9123",
        "id": "5KLwcHtNGR0p"
      },
      "execution_count": null,
      "outputs": [
        {
          "output_type": "execute_result",
          "data": {
            "text/plain": [
              "(15181, 12)"
            ]
          },
          "metadata": {},
          "execution_count": 89
        }
      ]
    },
    {
      "cell_type": "code",
      "source": [
        "# Add Class Variable (Activity) in dataframe\n",
        "ups12_male_df[\"Activity\"] = 'Walking_UpStairs' \n",
        "ups12_male_df.shape"
      ],
      "metadata": {
        "colab": {
          "base_uri": "https://localhost:8080/"
        },
        "outputId": "bf14632b-1a12-4f4e-fb30-7a7b3ec07b0f",
        "id": "HYtysODWGR0p"
      },
      "execution_count": null,
      "outputs": [
        {
          "output_type": "execute_result",
          "data": {
            "text/plain": [
              "(15181, 13)"
            ]
          },
          "metadata": {},
          "execution_count": 90
        }
      ]
    },
    {
      "cell_type": "code",
      "source": [
        "# merging all female csv files from ups_12 \n",
        "ups12_female_df = pd.concat(\n",
        "    map(pd.read_csv, ['sub_3_ups12.csv', 'sub_5_ups12.csv', 'sub_7_ups12.csv', 'sub_8_ups12.csv', 'sub_10_ups12.csv', 'sub_16_ups12.csv', 'sub_18_ups12.csv', 'sub_19_ups12.csv', 'sub_23_ups12.csv', 'sub_24_ups12.csv']), ignore_index=True)\n",
        "print(ups12_female_df) "
      ],
      "metadata": {
        "colab": {
          "base_uri": "https://localhost:8080/"
        },
        "outputId": "bce76063-89da-4b36-ca0a-412adc39eafd",
        "id": "3wpTktFBGR0p"
      },
      "execution_count": null,
      "outputs": [
        {
          "output_type": "stream",
          "name": "stdout",
          "text": [
            "       Unnamed: 0  attitude.roll  attitude.pitch  attitude.yaw  gravity.x  \\\n",
            "0               0       1.278068       -1.207316      1.056729   0.340401   \n",
            "1               1       1.307832       -1.215331      1.082388   0.336058   \n",
            "2               2       1.352173       -1.226418      1.124696   0.329569   \n",
            "3               3       1.397809       -1.242933      1.172005   0.317208   \n",
            "4               4       1.431259       -1.261796      1.207751   0.301145   \n",
            "...           ...            ...             ...           ...        ...   \n",
            "12324         738      -0.476418       -1.215394     -1.091883  -0.159578   \n",
            "12325         739      -0.426007       -1.230329     -1.132637  -0.137992   \n",
            "12326         740      -0.351505       -1.215819     -1.095573  -0.119672   \n",
            "12327         741      -0.329081       -1.205736     -1.106650  -0.115375   \n",
            "12328         742      -0.363036       -1.209536     -1.155255  -0.125516   \n",
            "\n",
            "       gravity.y  gravity.z  rotationRate.x  rotationRate.y  rotationRate.z  \\\n",
            "0       0.934665  -0.102592       -0.348786        0.229665       -0.223985   \n",
            "1       0.937485  -0.090466       -0.670370        0.310908       -0.281883   \n",
            "2       0.941286  -0.073222       -0.898630        0.156842       -0.449922   \n",
            "3       0.946733  -0.055427       -0.916125       -0.022894       -0.774554   \n",
            "4       0.952638  -0.042296       -0.520599        0.058122       -0.864830   \n",
            "...          ...        ...             ...             ...             ...   \n",
            "12324   0.937507  -0.309219       -1.869823        8.039505       -0.692204   \n",
            "12325   0.942599  -0.304082        0.075328        2.580093       -0.013597   \n",
            "12326   0.937654  -0.326317        1.031123        1.823775        0.216239   \n",
            "12327   0.934102  -0.337848       -0.042155        1.461249       -0.633621   \n",
            "12328   0.935452  -0.330417       -0.565835       -0.062917       -0.773126   \n",
            "\n",
            "       userAcceleration.x  userAcceleration.y  userAcceleration.z  \n",
            "0                0.478920            0.706845           -0.256035  \n",
            "1                0.357714            0.484177           -0.090640  \n",
            "2                0.281927            0.582167           -0.018667  \n",
            "3                0.109275            0.745726            0.003364  \n",
            "4               -0.141126            0.677733            0.006697  \n",
            "...                   ...                 ...                 ...  \n",
            "12324            0.320359            0.256402            0.861923  \n",
            "12325            0.807807            0.126096           -0.100840  \n",
            "12326            0.658216           -0.100145           -0.220634  \n",
            "12327            0.064243           -0.057927           -0.548504  \n",
            "12328           -0.149157           -0.007901           -0.398297  \n",
            "\n",
            "[12329 rows x 13 columns]\n"
          ]
        }
      ]
    },
    {
      "cell_type": "code",
      "source": [
        "# Drop first column of dataframe\n",
        "ups12_female_df = ups12_female_df.iloc[: , 1:]\n",
        "ups12_female_df.shape"
      ],
      "metadata": {
        "colab": {
          "base_uri": "https://localhost:8080/"
        },
        "outputId": "4107eea1-c978-4178-86bc-f6be01194e33",
        "id": "mXEU6N4kGR0q"
      },
      "execution_count": null,
      "outputs": [
        {
          "output_type": "execute_result",
          "data": {
            "text/plain": [
              "(12329, 12)"
            ]
          },
          "metadata": {},
          "execution_count": 92
        }
      ]
    },
    {
      "cell_type": "code",
      "source": [
        "# Add Class Variable \"Activity\" in dataframe\n",
        "ups12_female_df[\"Activity\"] = 'Walking_UpStairs' \n",
        "ups12_female_df.shape"
      ],
      "metadata": {
        "colab": {
          "base_uri": "https://localhost:8080/"
        },
        "outputId": "d0348f3c-7f99-4a06-d3d8-3cbddcd90a6d",
        "id": "RAl2veKQGR0q"
      },
      "execution_count": null,
      "outputs": [
        {
          "output_type": "execute_result",
          "data": {
            "text/plain": [
              "(12329, 13)"
            ]
          },
          "metadata": {},
          "execution_count": 93
        }
      ]
    },
    {
      "cell_type": "code",
      "source": [
        ""
      ],
      "metadata": {
        "id": "A-OepxfkGR0q"
      },
      "execution_count": null,
      "outputs": []
    },
    {
      "cell_type": "code",
      "source": [
        ""
      ],
      "metadata": {
        "id": "e2YLvre-GR0q"
      },
      "execution_count": null,
      "outputs": []
    },
    {
      "cell_type": "markdown",
      "source": [
        "**Combining all activities of male and female frames in a single frame**"
      ],
      "metadata": {
        "id": "GLUGxvn4GR0q"
      }
    },
    {
      "cell_type": "code",
      "source": [
        "all_activities_male_frame = [wlk7_male_df, wlk8_male_df, wlk15_male_df, std6_male_df, std14_male_df, sit5_male_df, sit13_male_df, jog9_male_df, jog16_male_df, dws1_male_df, dws2_male_df, dws11_male_df, ups3_male_df, ups4_male_df, ups12_male_df]\n",
        "\n",
        "all_activities_male_df = pd.concat(all_activities_male_frame) \n",
        "all_activities_male_df.shape "
      ],
      "metadata": {
        "colab": {
          "base_uri": "https://localhost:8080/"
        },
        "outputId": "b8e5ec1b-96be-4d95-8c9c-d586707eb694",
        "id": "4OO2T8OrGR0q"
      },
      "execution_count": null,
      "outputs": [
        {
          "output_type": "execute_result",
          "data": {
            "text/plain": [
              "(809163, 13)"
            ]
          },
          "metadata": {},
          "execution_count": 94
        }
      ]
    },
    {
      "cell_type": "code",
      "source": [
        "# Shuffle the dataframe rows \n",
        "all_activities_male_df.sample(frac=1) \n",
        "all_activities_male_df.shape "
      ],
      "metadata": {
        "colab": {
          "base_uri": "https://localhost:8080/"
        },
        "outputId": "f1fbaa6a-f6d0-474e-8035-ae8d7cbe40c1",
        "id": "WPXD7ctyGR0q"
      },
      "execution_count": null,
      "outputs": [
        {
          "output_type": "execute_result",
          "data": {
            "text/plain": [
              "(809163, 13)"
            ]
          },
          "metadata": {},
          "execution_count": 95
        }
      ]
    },
    {
      "cell_type": "code",
      "source": [
        "all_activities_female_frames = [wlk7_female_df, wlk8_female_df, wlk15_female_df, std6_female_df, std14_female_df, sit5_female_df, sit13_female_df, jog9_female_df, jog16_female_df, dws1_female_df, dws2_female_df, dws11_female_df, ups3_female_df, ups4_female_df, ups12_female_df]\n",
        "\n",
        "all_activities_female_df = pd.concat(all_activities_female_frames)\n",
        "all_activities_female_df.shape "
      ],
      "metadata": {
        "colab": {
          "base_uri": "https://localhost:8080/"
        },
        "outputId": "be26644a-51de-45c7-8e75-d6483051e159",
        "id": "TMUxJKu6GR0q"
      },
      "execution_count": null,
      "outputs": [
        {
          "output_type": "execute_result",
          "data": {
            "text/plain": [
              "(592672, 13)"
            ]
          },
          "metadata": {},
          "execution_count": 96
        }
      ]
    },
    {
      "cell_type": "code",
      "source": [
        "# Shuffle the dataframe rows \n",
        "all_activities_female_df.sample(frac=1) \n",
        "all_activities_female_df.shape"
      ],
      "metadata": {
        "colab": {
          "base_uri": "https://localhost:8080/"
        },
        "outputId": "4796b519-5ba6-47f0-a7ac-9bae9270d7f1",
        "id": "bqgTQyiyGR0r"
      },
      "execution_count": null,
      "outputs": [
        {
          "output_type": "execute_result",
          "data": {
            "text/plain": [
              "(592672, 13)"
            ]
          },
          "metadata": {},
          "execution_count": 97
        }
      ]
    },
    {
      "cell_type": "code",
      "source": [
        "all_activities_female_df.isna().sum().sum() "
      ],
      "metadata": {
        "colab": {
          "base_uri": "https://localhost:8080/"
        },
        "outputId": "8204399f-15cf-4655-876b-775da31001b0",
        "id": "j6sdGpc7GR0r"
      },
      "execution_count": null,
      "outputs": [
        {
          "output_type": "execute_result",
          "data": {
            "text/plain": [
              "12841"
            ]
          },
          "metadata": {},
          "execution_count": 98
        }
      ]
    },
    {
      "cell_type": "code",
      "source": [
        "type(all_activities_female_df) "
      ],
      "metadata": {
        "colab": {
          "base_uri": "https://localhost:8080/"
        },
        "outputId": "c5515031-c936-4af6-d039-a0d261619328",
        "id": "RJ7dQ0TJGR0r"
      },
      "execution_count": null,
      "outputs": [
        {
          "output_type": "execute_result",
          "data": {
            "text/plain": [
              "pandas.core.frame.DataFrame"
            ]
          },
          "metadata": {},
          "execution_count": 99
        }
      ]
    },
    {
      "cell_type": "code",
      "source": [
        "all_activities_female_df = all_activities_female_df.fillna(all_activities_female_df.mean()) "
      ],
      "metadata": {
        "colab": {
          "base_uri": "https://localhost:8080/"
        },
        "outputId": "f368c207-ca2f-4ab9-9b81-a2638e71adec",
        "id": "D3ub4XECGR0r"
      },
      "execution_count": null,
      "outputs": [
        {
          "output_type": "stream",
          "name": "stderr",
          "text": [
            "/usr/local/lib/python3.7/dist-packages/ipykernel_launcher.py:1: FutureWarning: Dropping of nuisance columns in DataFrame reductions (with 'numeric_only=None') is deprecated; in a future version this will raise TypeError.  Select only valid columns before calling the reduction.\n",
            "  \"\"\"Entry point for launching an IPython kernel.\n"
          ]
        }
      ]
    },
    {
      "cell_type": "code",
      "source": [
        "all_activities_female_df.isna().sum().sum()"
      ],
      "metadata": {
        "colab": {
          "base_uri": "https://localhost:8080/"
        },
        "outputId": "8d597b2f-f60b-43fd-9f18-2a9dc8c763ef",
        "id": "Uo4ijd8SGR0r"
      },
      "execution_count": null,
      "outputs": [
        {
          "output_type": "execute_result",
          "data": {
            "text/plain": [
              "0"
            ]
          },
          "metadata": {},
          "execution_count": 101
        }
      ]
    },
    {
      "cell_type": "code",
      "source": [
        "# print(all_activity_male_df) \n",
        "# print(all_activity_female_df) "
      ],
      "metadata": {
        "id": "933PgG6LGR0r"
      },
      "execution_count": null,
      "outputs": []
    },
    {
      "cell_type": "markdown",
      "source": [
        "**Classification**"
      ],
      "metadata": {
        "id": "2lLVFsLGGR0r"
      }
    },
    {
      "cell_type": "code",
      "source": [
        "# importing libraries \n",
        "# import numpy as np\n",
        "# from numpy import mean\n",
        "# from numpy import std\n",
        "from sklearn import metrics\n",
        "from sklearn.metrics import accuracy_score \n",
        "from sklearn.model_selection import train_test_split\n",
        "from sklearn.naive_bayes import GaussianNB\n",
        "from sklearn.ensemble import RandomForestClassifier \n",
        "from sklearn.ensemble import AdaBoostClassifier\n",
        "from sklearn.tree import DecisionTreeClassifier\n",
        "from sklearn.linear_model import LogisticRegression\n",
        "from sklearn.ensemble import BaggingClassifier \n",
        "from xgboost import XGBClassifier \n",
        "from lightgbm import LGBMClassifier\n",
        "import warnings\n",
        "warnings.filterwarnings('ignore') "
      ],
      "metadata": {
        "id": "ScfQ2wM1GR0r"
      },
      "execution_count": null,
      "outputs": []
    },
    {
      "cell_type": "markdown",
      "source": [
        "Gender_based classification using five classifiers"
      ],
      "metadata": {
        "id": "C4Qote0LGR0r"
      }
    },
    {
      "cell_type": "code",
      "source": [
        "# RF over male data "
      ],
      "metadata": {
        "id": "MIUPXUMFGR0s"
      },
      "execution_count": null,
      "outputs": []
    },
    {
      "cell_type": "code",
      "source": [
        "# Preparing Input and Output Splits \n",
        "X = all_activities_male_df.iloc[:, :-1].values \n",
        "y = all_activities_male_df.iloc[:, -1].values "
      ],
      "metadata": {
        "id": "kquLbNqzGR0s"
      },
      "execution_count": null,
      "outputs": []
    },
    {
      "cell_type": "code",
      "source": [
        "X.shape, y.shape "
      ],
      "metadata": {
        "colab": {
          "base_uri": "https://localhost:8080/"
        },
        "outputId": "84b27ca5-067b-4032-9e7c-8acfa34fc843",
        "id": "YNwRkaqlGR0s"
      },
      "execution_count": null,
      "outputs": [
        {
          "output_type": "execute_result",
          "data": {
            "text/plain": [
              "((809163, 12), (809163,))"
            ]
          },
          "metadata": {},
          "execution_count": 104
        }
      ]
    },
    {
      "cell_type": "code",
      "source": [
        "# Train Test Splits with a ratio of 70:30 \n",
        "X_train, X_test, y_train, y_test = train_test_split(X, y, test_size = 0.30) "
      ],
      "metadata": {
        "id": "QHrpTExGGR0s"
      },
      "execution_count": null,
      "outputs": []
    },
    {
      "cell_type": "code",
      "source": [
        "X_train.shape, X_test.shape, y_train.shape, y_test.shape "
      ],
      "metadata": {
        "colab": {
          "base_uri": "https://localhost:8080/"
        },
        "outputId": "cfbee5f5-f01e-417f-d621-dc44b98dd4ad",
        "id": "_9Riw0yXGR0s"
      },
      "execution_count": null,
      "outputs": [
        {
          "output_type": "execute_result",
          "data": {
            "text/plain": [
              "((566414, 12), (242749, 12), (566414,), (242749,))"
            ]
          },
          "metadata": {},
          "execution_count": 106
        }
      ]
    },
    {
      "cell_type": "code",
      "source": [
        "# define the model applying Random Forest \n",
        "rf = RandomForestClassifier() \n",
        "gnb = GaussianNB() \n",
        "lr = LogisticRegression() \n",
        "ab = AdaBoostClassifier()\n",
        "dt = DecisionTreeClassifier()\n",
        "bagging = BaggingClassifier()\n",
        "xgb = XGBClassifier() \n",
        "lgbm = LGBMClassifier() "
      ],
      "metadata": {
        "id": "ZGFVdTX_GR0s"
      },
      "execution_count": null,
      "outputs": []
    },
    {
      "cell_type": "code",
      "source": [
        "#Train the model using the training sets\n",
        "rf.fit(X_train, y_train) "
      ],
      "metadata": {
        "colab": {
          "base_uri": "https://localhost:8080/"
        },
        "outputId": "920fadb6-53f1-4b40-d6ad-2dd8806cf669",
        "id": "ONCx4SJrGR0s"
      },
      "execution_count": null,
      "outputs": [
        {
          "output_type": "execute_result",
          "data": {
            "text/plain": [
              "RandomForestClassifier()"
            ]
          },
          "metadata": {},
          "execution_count": 124
        }
      ]
    },
    {
      "cell_type": "code",
      "source": [
        "#Predict the response for test dataset \n",
        "y_pred = rf.predict(X_test)"
      ],
      "metadata": {
        "id": "qRtP8Vn1GR0s"
      },
      "execution_count": null,
      "outputs": []
    },
    {
      "cell_type": "code",
      "source": [
        "# Model Accuracy, how often is the classifier correct?\n",
        "print(\"Accuracy:\",metrics.accuracy_score(y_test, y_pred))"
      ],
      "metadata": {
        "colab": {
          "base_uri": "https://localhost:8080/"
        },
        "outputId": "e7b83a40-f62b-4a81-ee35-baef5028f40e",
        "id": "WWGWy6AzGR0s"
      },
      "execution_count": null,
      "outputs": [
        {
          "output_type": "stream",
          "name": "stdout",
          "text": [
            "Accuracy: 0.9470440660929602\n"
          ]
        }
      ]
    },
    {
      "cell_type": "code",
      "source": [
        ""
      ],
      "metadata": {
        "id": "VpWNAS5lGR0s"
      },
      "execution_count": null,
      "outputs": []
    },
    {
      "cell_type": "code",
      "source": [
        "#Train the model using the training sets\n",
        "gnb.fit(X_train, y_train) "
      ],
      "metadata": {
        "colab": {
          "base_uri": "https://localhost:8080/"
        },
        "outputId": "49b12b22-9f02-47c1-90d1-12292b3d98df",
        "id": "uKRcV6o4GR0t"
      },
      "execution_count": null,
      "outputs": [
        {
          "output_type": "execute_result",
          "data": {
            "text/plain": [
              "GaussianNB()"
            ]
          },
          "metadata": {},
          "execution_count": 150
        }
      ]
    },
    {
      "cell_type": "code",
      "source": [
        "#Predict the response for test dataset \n",
        "y_pred = gnb.predict(X_test)"
      ],
      "metadata": {
        "id": "_Pw7gB7CGR0t"
      },
      "execution_count": null,
      "outputs": []
    },
    {
      "cell_type": "code",
      "source": [
        "# Model Accuracy, how often is the classifier correct?\n",
        "print(\"Accuracy:\",metrics.accuracy_score(y_test, y_pred))"
      ],
      "metadata": {
        "colab": {
          "base_uri": "https://localhost:8080/"
        },
        "outputId": "cd2dd4bb-23a2-40b2-d17d-c87e71fb9852",
        "id": "ZPpRDgMhGR0t"
      },
      "execution_count": null,
      "outputs": [
        {
          "output_type": "stream",
          "name": "stdout",
          "text": [
            "Accuracy: 0.7358794474951493\n"
          ]
        }
      ]
    },
    {
      "cell_type": "code",
      "source": [
        ""
      ],
      "metadata": {
        "id": "IeQr2X5gGR0t"
      },
      "execution_count": null,
      "outputs": []
    },
    {
      "cell_type": "code",
      "source": [
        "#Train the model using the training sets\n",
        "lr.fit(X_train, y_train) "
      ],
      "metadata": {
        "colab": {
          "base_uri": "https://localhost:8080/"
        },
        "outputId": "78f1f451-9601-4a71-b9cb-29aff25728f2",
        "id": "iPz1Z82IGR0u"
      },
      "execution_count": null,
      "outputs": [
        {
          "output_type": "execute_result",
          "data": {
            "text/plain": [
              "LogisticRegression()"
            ]
          },
          "metadata": {},
          "execution_count": 153
        }
      ]
    },
    {
      "cell_type": "code",
      "source": [
        "#Predict the response for test dataset \n",
        "y_pred = lr.predict(X_test)"
      ],
      "metadata": {
        "id": "mECQIR4_GR0v"
      },
      "execution_count": null,
      "outputs": []
    },
    {
      "cell_type": "code",
      "source": [
        "# Model Accuracy, how often is the classifier correct?\n",
        "print(\"Accuracy:\",metrics.accuracy_score(y_test, y_pred))"
      ],
      "metadata": {
        "colab": {
          "base_uri": "https://localhost:8080/"
        },
        "outputId": "606ad842-2b8c-400d-a558-f9315cdd50f3",
        "id": "21O71CXEGR0v"
      },
      "execution_count": null,
      "outputs": [
        {
          "output_type": "stream",
          "name": "stdout",
          "text": [
            "Accuracy: 0.5838541044453324\n"
          ]
        }
      ]
    },
    {
      "cell_type": "code",
      "source": [
        ""
      ],
      "metadata": {
        "id": "fGRTis9fGR0v"
      },
      "execution_count": null,
      "outputs": []
    },
    {
      "cell_type": "code",
      "source": [
        "#Train the model using the training sets\n",
        "ab.fit(X_train, y_train) "
      ],
      "metadata": {
        "colab": {
          "base_uri": "https://localhost:8080/"
        },
        "outputId": "ff4f91f5-910e-4a89-a7ff-109535eae60f",
        "id": "hDi5qh0iGR0v"
      },
      "execution_count": null,
      "outputs": [
        {
          "output_type": "execute_result",
          "data": {
            "text/plain": [
              "AdaBoostClassifier()"
            ]
          },
          "metadata": {},
          "execution_count": 156
        }
      ]
    },
    {
      "cell_type": "code",
      "source": [
        "#Predict the response for test dataset \n",
        "y_pred = ab.predict(X_test)"
      ],
      "metadata": {
        "id": "9xCUAa7PGR0v"
      },
      "execution_count": null,
      "outputs": []
    },
    {
      "cell_type": "code",
      "source": [
        "# Model Accuracy, how often is the classifier correct?\n",
        "print(\"Accuracy:\",metrics.accuracy_score(y_test, y_pred))"
      ],
      "metadata": {
        "colab": {
          "base_uri": "https://localhost:8080/"
        },
        "outputId": "2b79f203-b380-457d-941b-b7b4c7892586",
        "id": "hf3PeRiCGR0v"
      },
      "execution_count": null,
      "outputs": [
        {
          "output_type": "stream",
          "name": "stdout",
          "text": [
            "Accuracy: 0.6245133862549382\n"
          ]
        }
      ]
    },
    {
      "cell_type": "code",
      "source": [
        ""
      ],
      "metadata": {
        "id": "sfojWsbTGR0v"
      },
      "execution_count": null,
      "outputs": []
    },
    {
      "cell_type": "code",
      "source": [
        "#Train the model using the training sets\n",
        "dt.fit(X_train, y_train) "
      ],
      "metadata": {
        "colab": {
          "base_uri": "https://localhost:8080/"
        },
        "outputId": "d373b5f9-e0cd-4352-9888-acb6d6935588",
        "id": "XAKExP6nGR0v"
      },
      "execution_count": null,
      "outputs": [
        {
          "output_type": "execute_result",
          "data": {
            "text/plain": [
              "DecisionTreeClassifier()"
            ]
          },
          "metadata": {},
          "execution_count": 159
        }
      ]
    },
    {
      "cell_type": "code",
      "source": [
        "#Predict the response for test dataset \n",
        "y_pred = dt.predict(X_test)"
      ],
      "metadata": {
        "id": "KbVIVtf8GR0v"
      },
      "execution_count": null,
      "outputs": []
    },
    {
      "cell_type": "code",
      "source": [
        "# Model Accuracy, how often is the classifier correct?\n",
        "print(\"Accuracy:\",metrics.accuracy_score(y_test, y_pred))"
      ],
      "metadata": {
        "colab": {
          "base_uri": "https://localhost:8080/"
        },
        "outputId": "9d0d024e-79c2-4907-c978-503d1a8ac527",
        "id": "t4htupGlGR0w"
      },
      "execution_count": null,
      "outputs": [
        {
          "output_type": "stream",
          "name": "stdout",
          "text": [
            "Accuracy: 0.878512372862504\n"
          ]
        }
      ]
    },
    {
      "cell_type": "code",
      "source": [
        ""
      ],
      "metadata": {
        "id": "1MYt6ouoGR0w"
      },
      "execution_count": null,
      "outputs": []
    },
    {
      "cell_type": "code",
      "source": [
        "#Train the model using the training sets\n",
        "xgb.fit(X_train, y_train) "
      ],
      "metadata": {
        "colab": {
          "base_uri": "https://localhost:8080/"
        },
        "outputId": "da8fa770-50ab-4839-9c60-732b487c7e68",
        "id": "UBtfdopMGR0w"
      },
      "execution_count": null,
      "outputs": [
        {
          "output_type": "execute_result",
          "data": {
            "text/plain": [
              "XGBClassifier(objective='multi:softprob')"
            ]
          },
          "metadata": {},
          "execution_count": 162
        }
      ]
    },
    {
      "cell_type": "code",
      "source": [
        "#Predict the response for test dataset \n",
        "y_pred = xgb.predict(X_test)"
      ],
      "metadata": {
        "id": "cDPQVFdIGR0w"
      },
      "execution_count": null,
      "outputs": []
    },
    {
      "cell_type": "code",
      "source": [
        "# Model Accuracy, how often is the classifier correct?\n",
        "print(\"Accuracy:\",metrics.accuracy_score(y_test, y_pred))"
      ],
      "metadata": {
        "colab": {
          "base_uri": "https://localhost:8080/"
        },
        "outputId": "4f76c630-0ded-43b7-8f72-dd957c1142e4",
        "id": "vhY6qKaNGR0w"
      },
      "execution_count": null,
      "outputs": [
        {
          "output_type": "stream",
          "name": "stdout",
          "text": [
            "Accuracy: 0.8021866207481803\n"
          ]
        }
      ]
    },
    {
      "cell_type": "code",
      "source": [
        ""
      ],
      "metadata": {
        "id": "ksbWdyHnGR0w"
      },
      "execution_count": null,
      "outputs": []
    },
    {
      "cell_type": "code",
      "source": [
        "#Train the model using the training sets\n",
        "lgbm.fit(X_train, y_train) "
      ],
      "metadata": {
        "colab": {
          "base_uri": "https://localhost:8080/"
        },
        "outputId": "15759325-d590-464a-ca0b-036ea9c81183",
        "id": "hnoYElhpcfHh"
      },
      "execution_count": null,
      "outputs": [
        {
          "output_type": "execute_result",
          "data": {
            "text/plain": [
              "LGBMClassifier()"
            ]
          },
          "metadata": {},
          "execution_count": 580
        }
      ]
    },
    {
      "cell_type": "code",
      "source": [
        "#Predict the response for test dataset \n",
        "y_pred = lgbm.predict(X_test)"
      ],
      "metadata": {
        "id": "LKizlZsLcfHh"
      },
      "execution_count": null,
      "outputs": []
    },
    {
      "cell_type": "code",
      "source": [
        "# Model Accuracy, how often is the classifier correct?\n",
        "print(\"Accuracy:\",metrics.accuracy_score(y_test, y_pred)) "
      ],
      "metadata": {
        "colab": {
          "base_uri": "https://localhost:8080/"
        },
        "outputId": "6c26ba4f-e631-420a-9b9f-60d744079d8d",
        "id": "1SL93Y3JcfHi"
      },
      "execution_count": null,
      "outputs": [
        {
          "output_type": "stream",
          "name": "stdout",
          "text": [
            "Accuracy: 0.8713939089347433\n"
          ]
        }
      ]
    },
    {
      "cell_type": "code",
      "source": [
        ""
      ],
      "metadata": {
        "id": "kqk7Jm5LcfHi"
      },
      "execution_count": null,
      "outputs": []
    },
    {
      "cell_type": "code",
      "source": [
        "#Train the model using the training sets\n",
        "bagging.fit(X_train, y_train) "
      ],
      "metadata": {
        "colab": {
          "base_uri": "https://localhost:8080/"
        },
        "outputId": "a37410cf-799a-47dd-bede-b967fcb85d7b",
        "id": "yWFS7bYycfHi"
      },
      "execution_count": null,
      "outputs": [
        {
          "output_type": "execute_result",
          "data": {
            "text/plain": [
              "BaggingClassifier()"
            ]
          },
          "metadata": {},
          "execution_count": 583
        }
      ]
    },
    {
      "cell_type": "code",
      "source": [
        "#Predict the response for test dataset \n",
        "bagging = xgb.predict(X_test) "
      ],
      "metadata": {
        "id": "TnIStwr5cfHj"
      },
      "execution_count": null,
      "outputs": []
    },
    {
      "cell_type": "code",
      "source": [
        "# Model Accuracy, how often is the classifier correct?\n",
        "print(\"Accuracy:\",metrics.accuracy_score(y_test, y_pred))"
      ],
      "metadata": {
        "colab": {
          "base_uri": "https://localhost:8080/"
        },
        "outputId": "5ac4a726-2305-47ba-fe2f-996471f84838",
        "id": "NqnN-nGJcfHj"
      },
      "execution_count": null,
      "outputs": [
        {
          "output_type": "stream",
          "name": "stdout",
          "text": [
            "Accuracy: 0.8713939089347433\n"
          ]
        }
      ]
    },
    {
      "cell_type": "code",
      "source": [
        ""
      ],
      "metadata": {
        "id": "-SNEGz71cfHj"
      },
      "execution_count": null,
      "outputs": []
    },
    {
      "cell_type": "code",
      "source": [
        ""
      ],
      "metadata": {
        "id": "DvgU0euRGR0x"
      },
      "execution_count": null,
      "outputs": []
    },
    {
      "cell_type": "code",
      "source": [
        "# RF over female data "
      ],
      "metadata": {
        "id": "xWl7Q9NaGR0x"
      },
      "execution_count": null,
      "outputs": []
    },
    {
      "cell_type": "code",
      "source": [
        "# Preparing Input and Output Splits \n",
        "X_female = all_activities_female_df.iloc[:, :-1].values\n",
        "y_female = all_activities_female_df.iloc[:, -1].values "
      ],
      "metadata": {
        "id": "5Q4b9hdVGR0x"
      },
      "execution_count": null,
      "outputs": []
    },
    {
      "cell_type": "code",
      "source": [
        "# Train Test Splits with a ratio of 70:30 \n",
        "X_train, X_test, y_train, y_test = train_test_split(X_female, y_female, test_size = 0.30) "
      ],
      "metadata": {
        "id": "QK8nMXe0GR0x"
      },
      "execution_count": null,
      "outputs": []
    },
    {
      "cell_type": "code",
      "source": [
        "#Train the model using the training sets\n",
        "rf.fit(X_train, y_train) "
      ],
      "metadata": {
        "id": "v7p2UELrGR0x"
      },
      "execution_count": null,
      "outputs": []
    },
    {
      "cell_type": "code",
      "source": [
        "#Predict the response for test dataset\n",
        "y_pred = rf.predict(X_test)"
      ],
      "metadata": {
        "id": "JIzV3GdkGR0x"
      },
      "execution_count": null,
      "outputs": []
    },
    {
      "cell_type": "code",
      "source": [
        "# Model Accuracy, how often is the classifier correct?\n",
        "print(\"Accuracy:\",metrics.accuracy_score(y_test, y_pred))"
      ],
      "metadata": {
        "colab": {
          "base_uri": "https://localhost:8080/"
        },
        "outputId": "fdaf6113-1e4b-4b5b-a96e-5a4640b0a5d3",
        "id": "189QNjsYGR0y"
      },
      "execution_count": null,
      "outputs": [
        {
          "output_type": "stream",
          "name": "stdout",
          "text": [
            "Accuracy: 0.9553885783062058\n"
          ]
        }
      ]
    },
    {
      "cell_type": "code",
      "source": [
        ""
      ],
      "metadata": {
        "id": "cRfhQtMPGR0y"
      },
      "execution_count": null,
      "outputs": []
    },
    {
      "cell_type": "code",
      "source": [
        "#Train the model using the training sets\n",
        "gnb.fit(X_train, y_train) "
      ],
      "metadata": {
        "colab": {
          "base_uri": "https://localhost:8080/"
        },
        "outputId": "663b8b04-f0fa-42f1-ac38-f4b223cb6a74",
        "id": "TqwBa19gGR0y"
      },
      "execution_count": null,
      "outputs": [
        {
          "output_type": "execute_result",
          "data": {
            "text/plain": [
              "GaussianNB()"
            ]
          },
          "metadata": {},
          "execution_count": 167
        }
      ]
    },
    {
      "cell_type": "code",
      "source": [
        "#Predict the response for test dataset\n",
        "y_pred = gnb.predict(X_test)"
      ],
      "metadata": {
        "id": "XBdOycFXGR0y"
      },
      "execution_count": null,
      "outputs": []
    },
    {
      "cell_type": "code",
      "source": [
        "# Model Accuracy, how often is the classifier correct?\n",
        "print(\"Accuracy:\",metrics.accuracy_score(y_test, y_pred))"
      ],
      "metadata": {
        "colab": {
          "base_uri": "https://localhost:8080/"
        },
        "outputId": "f6b7cc86-5335-4db4-f1be-bf788acdbc98",
        "id": "d_MFbT0CGR0y"
      },
      "execution_count": null,
      "outputs": [
        {
          "output_type": "stream",
          "name": "stdout",
          "text": [
            "Accuracy: 0.6810609554448206\n"
          ]
        }
      ]
    },
    {
      "cell_type": "code",
      "source": [
        ""
      ],
      "metadata": {
        "id": "Jo7hGNxKGR0y"
      },
      "execution_count": null,
      "outputs": []
    },
    {
      "cell_type": "code",
      "source": [
        "#Train the model using the training sets\n",
        "lr.fit(X_train, y_train) "
      ],
      "metadata": {
        "colab": {
          "base_uri": "https://localhost:8080/"
        },
        "outputId": "87875641-91fb-43c8-d031-814f2a74a785",
        "id": "RM_XZlJbGR0y"
      },
      "execution_count": null,
      "outputs": [
        {
          "output_type": "execute_result",
          "data": {
            "text/plain": [
              "LogisticRegression()"
            ]
          },
          "metadata": {},
          "execution_count": 170
        }
      ]
    },
    {
      "cell_type": "code",
      "source": [
        "#Predict the response for test dataset\n",
        "y_pred = lr.predict(X_test)"
      ],
      "metadata": {
        "id": "U1utebuvGR0y"
      },
      "execution_count": null,
      "outputs": []
    },
    {
      "cell_type": "code",
      "source": [
        "# Model Accuracy, how often is the classifier correct?\n",
        "print(\"Accuracy:\",metrics.accuracy_score(y_test, y_pred))"
      ],
      "metadata": {
        "colab": {
          "base_uri": "https://localhost:8080/"
        },
        "outputId": "9b59e475-1553-4015-b99c-23c79a392275",
        "id": "6azXWutYGR0y"
      },
      "execution_count": null,
      "outputs": [
        {
          "output_type": "stream",
          "name": "stdout",
          "text": [
            "Accuracy: 0.5290322943498948\n"
          ]
        }
      ]
    },
    {
      "cell_type": "code",
      "source": [
        ""
      ],
      "metadata": {
        "id": "KqorBEQ9GR0y"
      },
      "execution_count": null,
      "outputs": []
    },
    {
      "cell_type": "code",
      "source": [
        "#Train the model using the training sets\n",
        "ab.fit(X_train, y_train) "
      ],
      "metadata": {
        "colab": {
          "base_uri": "https://localhost:8080/"
        },
        "outputId": "64e555d2-2e9d-4130-8f97-64ce18cc7278",
        "id": "jq7oY4LaGR0z"
      },
      "execution_count": null,
      "outputs": [
        {
          "output_type": "execute_result",
          "data": {
            "text/plain": [
              "AdaBoostClassifier()"
            ]
          },
          "metadata": {},
          "execution_count": 173
        }
      ]
    },
    {
      "cell_type": "code",
      "source": [
        "#Predict the response for test dataset\n",
        "y_pred = ab.predict(X_test) "
      ],
      "metadata": {
        "id": "o5CYn9VKGR0z"
      },
      "execution_count": null,
      "outputs": []
    },
    {
      "cell_type": "code",
      "source": [
        "# Model Accuracy, how often is the classifier correct?\n",
        "print(\"Accuracy:\",metrics.accuracy_score(y_test, y_pred))"
      ],
      "metadata": {
        "colab": {
          "base_uri": "https://localhost:8080/"
        },
        "outputId": "fef124c3-78ff-40d4-e0d5-581c84f31280",
        "id": "x0qwiqhwGR0z"
      },
      "execution_count": null,
      "outputs": [
        {
          "output_type": "stream",
          "name": "stdout",
          "text": [
            "Accuracy: 0.5700723276453583\n"
          ]
        }
      ]
    },
    {
      "cell_type": "code",
      "source": [
        ""
      ],
      "metadata": {
        "id": "H_zhw9PPGR0z"
      },
      "execution_count": null,
      "outputs": []
    },
    {
      "cell_type": "code",
      "source": [
        "#Train the model using the training sets\n",
        "dt.fit(X_train, y_train) "
      ],
      "metadata": {
        "colab": {
          "base_uri": "https://localhost:8080/"
        },
        "outputId": "a7708c10-b5d4-4a8e-eb7c-a6c6bfbc48b1",
        "id": "5paJbHOBGR0z"
      },
      "execution_count": null,
      "outputs": [
        {
          "output_type": "execute_result",
          "data": {
            "text/plain": [
              "DecisionTreeClassifier()"
            ]
          },
          "metadata": {},
          "execution_count": 176
        }
      ]
    },
    {
      "cell_type": "code",
      "source": [
        "#Predict the response for test dataset\n",
        "y_pred = dt.predict(X_test) "
      ],
      "metadata": {
        "id": "nyMIlT1OGR0z"
      },
      "execution_count": null,
      "outputs": []
    },
    {
      "cell_type": "code",
      "source": [
        "# Model Accuracy, how often is the classifier correct?\n",
        "print(\"Accuracy:\",metrics.accuracy_score(y_test, y_pred))"
      ],
      "metadata": {
        "colab": {
          "base_uri": "https://localhost:8080/"
        },
        "outputId": "f41e834e-859c-4c41-9136-9da9b694803f",
        "id": "UqK5Hw2BGR0z"
      },
      "execution_count": null,
      "outputs": [
        {
          "output_type": "stream",
          "name": "stdout",
          "text": [
            "Accuracy: 0.8898943768911486\n"
          ]
        }
      ]
    },
    {
      "cell_type": "code",
      "source": [
        ""
      ],
      "metadata": {
        "id": "4Cpt8x3qGR0z"
      },
      "execution_count": null,
      "outputs": []
    },
    {
      "cell_type": "code",
      "source": [
        "#Train the model using the training sets\n",
        "xgb.fit(X_train, y_train) "
      ],
      "metadata": {
        "colab": {
          "base_uri": "https://localhost:8080/"
        },
        "outputId": "a7acffe0-5a64-4ed2-edce-cae6a1acb42b",
        "id": "bTDnjL3eGR0z"
      },
      "execution_count": null,
      "outputs": [
        {
          "output_type": "execute_result",
          "data": {
            "text/plain": [
              "XGBClassifier(objective='multi:softprob')"
            ]
          },
          "metadata": {},
          "execution_count": 179
        }
      ]
    },
    {
      "cell_type": "code",
      "source": [
        "#Predict the response for test dataset\n",
        "y_pred = xgb.predict(X_test) "
      ],
      "metadata": {
        "id": "ONlpHe7zGR0z"
      },
      "execution_count": null,
      "outputs": []
    },
    {
      "cell_type": "code",
      "source": [
        "# Model Accuracy, how often is the classifier correct?\n",
        "print(\"Accuracy:\",metrics.accuracy_score(y_test, y_pred))"
      ],
      "metadata": {
        "colab": {
          "base_uri": "https://localhost:8080/"
        },
        "outputId": "4f64a741-a767-4926-c3f6-0dfca523e118",
        "id": "XA7kF0exGR00"
      },
      "execution_count": null,
      "outputs": [
        {
          "output_type": "stream",
          "name": "stdout",
          "text": [
            "Accuracy: 0.8213630892790857\n"
          ]
        }
      ]
    },
    {
      "cell_type": "code",
      "source": [
        ""
      ],
      "metadata": {
        "id": "6G463DvCGR00"
      },
      "execution_count": null,
      "outputs": []
    },
    {
      "cell_type": "code",
      "source": [
        "#Train the model using the training sets\n",
        "lgbm.fit(X_train, y_train) "
      ],
      "metadata": {
        "colab": {
          "base_uri": "https://localhost:8080/"
        },
        "outputId": "f7df3e38-c123-40a2-d85a-04a2099fddb3",
        "id": "gJmckk-LcfHx"
      },
      "execution_count": null,
      "outputs": [
        {
          "output_type": "execute_result",
          "data": {
            "text/plain": [
              "LGBMClassifier()"
            ]
          },
          "metadata": {},
          "execution_count": 589
        }
      ]
    },
    {
      "cell_type": "code",
      "source": [
        "#Predict the response for test dataset\n",
        "y_pred = lgbm.predict(X_test) "
      ],
      "metadata": {
        "id": "TgOYs0FRcfHx"
      },
      "execution_count": null,
      "outputs": []
    },
    {
      "cell_type": "code",
      "source": [
        "# Model Accuracy, how often is the classifier correct?\n",
        "print(\"Accuracy:\",metrics.accuracy_score(y_test, y_pred))"
      ],
      "metadata": {
        "colab": {
          "base_uri": "https://localhost:8080/"
        },
        "outputId": "c2ef1c66-ff30-4e9d-aedc-665fc8427172",
        "id": "Iyr8FDZEcfHx"
      },
      "execution_count": null,
      "outputs": [
        {
          "output_type": "stream",
          "name": "stdout",
          "text": [
            "Accuracy: 0.8925940090662647\n"
          ]
        }
      ]
    },
    {
      "cell_type": "code",
      "source": [
        ""
      ],
      "metadata": {
        "id": "MHBUuZEOcfHy"
      },
      "execution_count": null,
      "outputs": []
    },
    {
      "cell_type": "code",
      "source": [
        "#Train the model using the training sets\n",
        "bagging.fit(X_train, y_train) "
      ],
      "metadata": {
        "colab": {
          "base_uri": "https://localhost:8080/"
        },
        "outputId": "30e36a88-bee5-45da-bd73-b56b86987db4",
        "id": "eBF8mPRecfHy"
      },
      "execution_count": null,
      "outputs": [
        {
          "output_type": "execute_result",
          "data": {
            "text/plain": [
              "BaggingClassifier()"
            ]
          },
          "metadata": {},
          "execution_count": 613
        }
      ]
    },
    {
      "cell_type": "code",
      "source": [
        "#Predict the response for test dataset\n",
        "y_pred = bagging.predict(X_test) "
      ],
      "metadata": {
        "id": "KIUm2P4xcfHy"
      },
      "execution_count": null,
      "outputs": []
    },
    {
      "cell_type": "code",
      "source": [
        "# Model Accuracy, how often is the classifier correct?\n",
        "print(\"Accuracy:\",metrics.accuracy_score(y_test, y_pred))"
      ],
      "metadata": {
        "colab": {
          "base_uri": "https://localhost:8080/"
        },
        "outputId": "4cf43e85-018b-44de-9b7e-d6aae587689a",
        "id": "xKC5GzyZcfHz"
      },
      "execution_count": null,
      "outputs": [
        {
          "output_type": "stream",
          "name": "stdout",
          "text": [
            "Accuracy: 0.9264237747606888\n"
          ]
        }
      ]
    },
    {
      "cell_type": "code",
      "source": [
        ""
      ],
      "metadata": {
        "id": "YnaJZfbbcfHz"
      },
      "execution_count": null,
      "outputs": []
    },
    {
      "cell_type": "code",
      "source": [
        ""
      ],
      "metadata": {
        "id": "n8psoxMZGR02"
      },
      "execution_count": null,
      "outputs": []
    },
    {
      "cell_type": "code",
      "source": [
        "# Training on male data and testing on female "
      ],
      "metadata": {
        "id": "GE1us65nGR03"
      },
      "execution_count": null,
      "outputs": []
    },
    {
      "cell_type": "code",
      "source": [
        "# Preparing Input and Output Splits \n",
        "X_all_male_train = all_activities_male_df.iloc[:, :-1].values\n",
        "y_all_male_train = all_activities_male_df.iloc[:, -1].values "
      ],
      "metadata": {
        "id": "PpKokWWSGR03"
      },
      "execution_count": null,
      "outputs": []
    },
    {
      "cell_type": "code",
      "source": [
        "# Preparing Input and Output Splits \n",
        "X_all_female_test = all_activities_female_df.iloc[:, :-1].values\n",
        "y_all_female_test = all_activities_female_df.iloc[:, -1].values "
      ],
      "metadata": {
        "id": "6_mx6bvvGR03"
      },
      "execution_count": null,
      "outputs": []
    },
    {
      "cell_type": "code",
      "source": [
        "#Train the model using the training sets\n",
        "rf.fit(X_all_male_train, y_all_male_train) "
      ],
      "metadata": {
        "colab": {
          "base_uri": "https://localhost:8080/"
        },
        "outputId": "dc9ec003-b6ab-4a9a-fad2-554a5f28faa5",
        "id": "rQ4sr68pGR03"
      },
      "execution_count": null,
      "outputs": [
        {
          "output_type": "execute_result",
          "data": {
            "text/plain": [
              "RandomForestClassifier()"
            ]
          },
          "metadata": {},
          "execution_count": 185
        }
      ]
    },
    {
      "cell_type": "code",
      "source": [
        "#Predict the response for test dataset \n",
        "y_pred = rf.predict(X_all_female_test) "
      ],
      "metadata": {
        "id": "jxp36bSSGR03"
      },
      "execution_count": null,
      "outputs": []
    },
    {
      "cell_type": "code",
      "source": [
        "# Model Accuracy, how often is the classifier correct?\n",
        "print(\"Accuracy:\",metrics.accuracy_score(y_all_female_test, y_pred))"
      ],
      "metadata": {
        "colab": {
          "base_uri": "https://localhost:8080/"
        },
        "outputId": "ca49f0be-5f25-42cc-8231-a6b4e5e50e9c",
        "id": "1ZXMMiNlGR03"
      },
      "execution_count": null,
      "outputs": [
        {
          "output_type": "stream",
          "name": "stdout",
          "text": [
            "Accuracy: 0.6324695615787485\n"
          ]
        }
      ]
    },
    {
      "cell_type": "code",
      "source": [
        ""
      ],
      "metadata": {
        "id": "T9bat5ebGR04"
      },
      "execution_count": null,
      "outputs": []
    },
    {
      "cell_type": "code",
      "source": [
        "#Train the model using the training sets\n",
        "gnb.fit(X_all_male_train, y_all_male_train)"
      ],
      "metadata": {
        "colab": {
          "base_uri": "https://localhost:8080/"
        },
        "outputId": "e710bbbb-dace-4146-fea9-bd9e46a00fdb",
        "id": "CG1ZD05tGR04"
      },
      "execution_count": null,
      "outputs": [
        {
          "output_type": "execute_result",
          "data": {
            "text/plain": [
              "GaussianNB()"
            ]
          },
          "metadata": {},
          "execution_count": 188
        }
      ]
    },
    {
      "cell_type": "code",
      "source": [
        "#Predict the response for test dataset \n",
        "y_pred = gnb.predict(X_all_female_test) "
      ],
      "metadata": {
        "id": "VMIo0cyMGR04"
      },
      "execution_count": null,
      "outputs": []
    },
    {
      "cell_type": "code",
      "source": [
        "# Model Accuracy, how often is the classifier correct?\n",
        "print(\"Accuracy:\",metrics.accuracy_score(y_all_female_test, y_pred))"
      ],
      "metadata": {
        "colab": {
          "base_uri": "https://localhost:8080/"
        },
        "outputId": "3f14b489-99f0-435e-c1f8-cb08a0a1ea3d",
        "id": "97d56CyCGR04"
      },
      "execution_count": null,
      "outputs": [
        {
          "output_type": "stream",
          "name": "stdout",
          "text": [
            "Accuracy: 0.654930551806058\n"
          ]
        }
      ]
    },
    {
      "cell_type": "code",
      "source": [
        ""
      ],
      "metadata": {
        "id": "TDzs408qGR04"
      },
      "execution_count": null,
      "outputs": []
    },
    {
      "cell_type": "code",
      "source": [
        "#Train the model using the training sets\n",
        "lr.fit(X_all_male_train, y_all_male_train)"
      ],
      "metadata": {
        "colab": {
          "base_uri": "https://localhost:8080/"
        },
        "outputId": "753577bd-77d3-49f7-8382-1c14e107b62a",
        "id": "ierplfzJGR04"
      },
      "execution_count": null,
      "outputs": [
        {
          "output_type": "execute_result",
          "data": {
            "text/plain": [
              "LogisticRegression()"
            ]
          },
          "metadata": {},
          "execution_count": 191
        }
      ]
    },
    {
      "cell_type": "code",
      "source": [
        "#Predict the response for test dataset \n",
        "y_pred = lr.predict(X_all_female_test) "
      ],
      "metadata": {
        "id": "eHE2eE34GR05"
      },
      "execution_count": null,
      "outputs": []
    },
    {
      "cell_type": "code",
      "source": [
        "# Model Accuracy, how often is the classifier correct?\n",
        "print(\"Accuracy:\",metrics.accuracy_score(y_all_female_test, y_pred))"
      ],
      "metadata": {
        "colab": {
          "base_uri": "https://localhost:8080/"
        },
        "outputId": "23a2f3d1-8124-47c9-a190-ac801ec1d3a6",
        "id": "D2Zdhn_VGR05"
      },
      "execution_count": null,
      "outputs": [
        {
          "output_type": "stream",
          "name": "stdout",
          "text": [
            "Accuracy: 0.5055578802440474\n"
          ]
        }
      ]
    },
    {
      "cell_type": "code",
      "source": [
        ""
      ],
      "metadata": {
        "id": "yZeXEnreGR05"
      },
      "execution_count": null,
      "outputs": []
    },
    {
      "cell_type": "code",
      "source": [
        "#Train the model using the training sets\n",
        "ab.fit(X_all_male_train, y_all_male_train)"
      ],
      "metadata": {
        "colab": {
          "base_uri": "https://localhost:8080/"
        },
        "outputId": "a99733f0-5f05-494a-e313-de1984b5c765",
        "id": "csor9h7AGR05"
      },
      "execution_count": null,
      "outputs": [
        {
          "output_type": "execute_result",
          "data": {
            "text/plain": [
              "AdaBoostClassifier()"
            ]
          },
          "metadata": {},
          "execution_count": 194
        }
      ]
    },
    {
      "cell_type": "code",
      "source": [
        "#Predict the response for test dataset \n",
        "y_pred = ab.predict(X_all_female_test) "
      ],
      "metadata": {
        "id": "9_hNWS2FGR05"
      },
      "execution_count": null,
      "outputs": []
    },
    {
      "cell_type": "code",
      "source": [
        "# Model Accuracy, how often is the classifier correct?\n",
        "print(\"Accuracy:\",metrics.accuracy_score(y_all_female_test, y_pred))"
      ],
      "metadata": {
        "colab": {
          "base_uri": "https://localhost:8080/"
        },
        "outputId": "c2066fba-83cf-4994-89fe-89375f8f9c70",
        "id": "VhiOHArTGR05"
      },
      "execution_count": null,
      "outputs": [
        {
          "output_type": "stream",
          "name": "stdout",
          "text": [
            "Accuracy: 0.5898507100048593\n"
          ]
        }
      ]
    },
    {
      "cell_type": "code",
      "source": [
        ""
      ],
      "metadata": {
        "id": "yR0NOe7xGR05"
      },
      "execution_count": null,
      "outputs": []
    },
    {
      "cell_type": "code",
      "source": [
        "#Train the model using the training sets\n",
        "dt.fit(X_all_male_train, y_all_male_train)"
      ],
      "metadata": {
        "colab": {
          "base_uri": "https://localhost:8080/"
        },
        "outputId": "e1564ead-99c0-46ab-e62b-e4cd3a36f5cd",
        "id": "npA4lisXGR05"
      },
      "execution_count": null,
      "outputs": [
        {
          "output_type": "execute_result",
          "data": {
            "text/plain": [
              "DecisionTreeClassifier()"
            ]
          },
          "metadata": {},
          "execution_count": 197
        }
      ]
    },
    {
      "cell_type": "code",
      "source": [
        "#Predict the response for test dataset \n",
        "y_pred = dt.predict(X_all_female_test) "
      ],
      "metadata": {
        "id": "yDCLc-1LGR05"
      },
      "execution_count": null,
      "outputs": []
    },
    {
      "cell_type": "code",
      "source": [
        "# Model Accuracy, how often is the classifier correct?\n",
        "print(\"Accuracy:\",metrics.accuracy_score(y_all_female_test, y_pred))"
      ],
      "metadata": {
        "colab": {
          "base_uri": "https://localhost:8080/"
        },
        "outputId": "a6c2115c-d5e0-4029-bc9c-0bf6dcd60318",
        "id": "D9_M8lQ3GR06"
      },
      "execution_count": null,
      "outputs": [
        {
          "output_type": "stream",
          "name": "stdout",
          "text": [
            "Accuracy: 0.5643340667350575\n"
          ]
        }
      ]
    },
    {
      "cell_type": "code",
      "source": [
        ""
      ],
      "metadata": {
        "id": "iTZWSJejGR06"
      },
      "execution_count": null,
      "outputs": []
    },
    {
      "cell_type": "code",
      "source": [
        "#Train the model using the training sets\n",
        "xgb.fit(X_all_male_train, y_all_male_train) "
      ],
      "metadata": {
        "colab": {
          "base_uri": "https://localhost:8080/"
        },
        "outputId": "5dab4fbb-ccf8-4568-994b-63d37931da04",
        "id": "DBgaT4DWGR06"
      },
      "execution_count": null,
      "outputs": [
        {
          "output_type": "execute_result",
          "data": {
            "text/plain": [
              "XGBClassifier(objective='multi:softprob')"
            ]
          },
          "metadata": {},
          "execution_count": 200
        }
      ]
    },
    {
      "cell_type": "code",
      "source": [
        "#Predict the response for test dataset \n",
        "y_pred = xgb.predict(X_all_female_test) "
      ],
      "metadata": {
        "id": "4o8Du-BTGR06"
      },
      "execution_count": null,
      "outputs": []
    },
    {
      "cell_type": "code",
      "source": [
        "# Model Accuracy, how often is the classifier correct?\n",
        "print(\"Accuracy:\",metrics.accuracy_score(y_all_female_test, y_pred)) "
      ],
      "metadata": {
        "colab": {
          "base_uri": "https://localhost:8080/"
        },
        "outputId": "b8956ee2-9051-42c5-be38-e92fed7e27d6",
        "id": "XQMeQjpAGR06"
      },
      "execution_count": null,
      "outputs": [
        {
          "output_type": "stream",
          "name": "stdout",
          "text": [
            "Accuracy: 0.688881877328438\n"
          ]
        }
      ]
    },
    {
      "cell_type": "code",
      "source": [
        ""
      ],
      "metadata": {
        "id": "OaDm8K43GR06"
      },
      "execution_count": null,
      "outputs": []
    },
    {
      "cell_type": "code",
      "source": [
        "#Train the model using the training sets\n",
        "lgbm.fit(X_all_male_train, y_all_male_train) "
      ],
      "metadata": {
        "colab": {
          "base_uri": "https://localhost:8080/"
        },
        "outputId": "555f0e9d-496c-4ece-9c6c-6acbbfc907e4",
        "id": "BAEjGq3GcfH7"
      },
      "execution_count": null,
      "outputs": [
        {
          "output_type": "execute_result",
          "data": {
            "text/plain": [
              "LGBMClassifier()"
            ]
          },
          "metadata": {},
          "execution_count": 599
        }
      ]
    },
    {
      "cell_type": "code",
      "source": [
        "#Predict the response for test dataset \n",
        "y_pred = lgbm.predict(X_all_female_test) "
      ],
      "metadata": {
        "id": "RC3MBbracfH7"
      },
      "execution_count": null,
      "outputs": []
    },
    {
      "cell_type": "code",
      "source": [
        "# Model Accuracy, how often is the classifier correct?\n",
        "print(\"Accuracy:\",metrics.accuracy_score(y_all_female_test, y_pred)) "
      ],
      "metadata": {
        "colab": {
          "base_uri": "https://localhost:8080/"
        },
        "outputId": "a2059f9f-141f-4c02-97e8-09d9ada79eb2",
        "id": "ctWrpLI0cfH8"
      },
      "execution_count": null,
      "outputs": [
        {
          "output_type": "stream",
          "name": "stdout",
          "text": [
            "Accuracy: 0.6589479509745694\n"
          ]
        }
      ]
    },
    {
      "cell_type": "code",
      "source": [
        ""
      ],
      "metadata": {
        "id": "nQmOICKOcfH8"
      },
      "execution_count": null,
      "outputs": []
    },
    {
      "cell_type": "code",
      "source": [
        "#Train the model using the training sets\n",
        "bagging.fit(X_all_male_train, y_all_male_train) "
      ],
      "metadata": {
        "colab": {
          "base_uri": "https://localhost:8080/"
        },
        "outputId": "893fb82b-c4c9-4b19-a164-c1eda760ee82",
        "id": "jh6PdMUGcfH8"
      },
      "execution_count": null,
      "outputs": [
        {
          "output_type": "execute_result",
          "data": {
            "text/plain": [
              "BaggingClassifier()"
            ]
          },
          "metadata": {},
          "execution_count": 604
        }
      ]
    },
    {
      "cell_type": "code",
      "source": [
        "#Predict the response for test dataset \n",
        "y_pred = bagging.predict(X_all_female_test) "
      ],
      "metadata": {
        "id": "syhoRPRtcfH9"
      },
      "execution_count": null,
      "outputs": []
    },
    {
      "cell_type": "code",
      "source": [
        "# Model Accuracy, how often is the classifier correct?\n",
        "print(\"Accuracy:\",metrics.accuracy_score(y_all_female_test, y_pred)) "
      ],
      "metadata": {
        "colab": {
          "base_uri": "https://localhost:8080/"
        },
        "outputId": "09984ed7-1426-4ebb-813a-ef9948209e79",
        "id": "2c0i-APCcfH9"
      },
      "execution_count": null,
      "outputs": [
        {
          "output_type": "stream",
          "name": "stdout",
          "text": [
            "Accuracy: 0.6236738027104368\n"
          ]
        }
      ]
    },
    {
      "cell_type": "code",
      "source": [
        ""
      ],
      "metadata": {
        "id": "jiGBNX0UcfH9"
      },
      "execution_count": null,
      "outputs": []
    },
    {
      "cell_type": "code",
      "source": [
        ""
      ],
      "metadata": {
        "id": "VShsiSPWGR07"
      },
      "execution_count": null,
      "outputs": []
    },
    {
      "cell_type": "code",
      "source": [
        "# Training on female data and testing on male "
      ],
      "metadata": {
        "id": "9tRLvPKtGR07"
      },
      "execution_count": null,
      "outputs": []
    },
    {
      "cell_type": "code",
      "source": [
        "# Preparing Input and Output Splits \n",
        "X_all_male_test = all_activities_male_df.iloc[:, :-1].values\n",
        "y_all_male_test = all_activities_male_df.iloc[:, -1].values "
      ],
      "metadata": {
        "id": "QThCaVT5GR07"
      },
      "execution_count": null,
      "outputs": []
    },
    {
      "cell_type": "code",
      "source": [
        "# Preparing Input and Output Splits \n",
        "X_all_female_train = all_activities_female_df.iloc[:, :-1].values\n",
        "y_all_female_train = all_activities_female_df.iloc[:, -1].values "
      ],
      "metadata": {
        "id": "7JyvFvAWGR07"
      },
      "execution_count": null,
      "outputs": []
    },
    {
      "cell_type": "code",
      "source": [
        "#Train the model using the training sets\n",
        "rf.fit(X_all_female_train, y_all_female_train) "
      ],
      "metadata": {
        "id": "h84AI-zXGR07"
      },
      "execution_count": null,
      "outputs": []
    },
    {
      "cell_type": "code",
      "source": [
        "#Predict the response for test dataset \n",
        "y_pred = rf.predict(X_all_male_test) "
      ],
      "metadata": {
        "id": "RiDzJ8kvGR07"
      },
      "execution_count": null,
      "outputs": []
    },
    {
      "cell_type": "code",
      "source": [
        "# Model Accuracy, how often is the classifier correct?\n",
        "print(\"Accuracy:\",metrics.accuracy_score(y_all_male_test, y_pred))"
      ],
      "metadata": {
        "colab": {
          "base_uri": "https://localhost:8080/"
        },
        "outputId": "351d36ed-1a57-4f0e-8a4e-d93746779b97",
        "id": "55ObyrzGGR07"
      },
      "execution_count": null,
      "outputs": [
        {
          "output_type": "stream",
          "name": "stdout",
          "text": [
            "Accuracy: 0.6372201892572943\n"
          ]
        }
      ]
    },
    {
      "cell_type": "code",
      "source": [
        ""
      ],
      "metadata": {
        "id": "PxxIWlUOGR08"
      },
      "execution_count": null,
      "outputs": []
    },
    {
      "cell_type": "code",
      "source": [
        "#Train the model using the training sets\n",
        "gnb.fit(X_all_female_train, y_all_female_train) "
      ],
      "metadata": {
        "colab": {
          "base_uri": "https://localhost:8080/"
        },
        "outputId": "b80ff08a-1108-4e75-9ac8-0a233d189295",
        "id": "ETA276O8GR08"
      },
      "execution_count": null,
      "outputs": [
        {
          "output_type": "execute_result",
          "data": {
            "text/plain": [
              "GaussianNB()"
            ]
          },
          "metadata": {},
          "execution_count": 206
        }
      ]
    },
    {
      "cell_type": "code",
      "source": [
        "#Predict the response for test dataset \n",
        "y_pred = gnb.predict(X_all_male_test)"
      ],
      "metadata": {
        "id": "0lln1tRNGR08"
      },
      "execution_count": null,
      "outputs": []
    },
    {
      "cell_type": "code",
      "source": [
        "# Model Accuracy, how often is the classifier correct?\n",
        "print(\"Accuracy:\",metrics.accuracy_score(y_all_male_test, y_pred))"
      ],
      "metadata": {
        "colab": {
          "base_uri": "https://localhost:8080/"
        },
        "outputId": "67cd1cc4-3420-4020-aa37-c7594117e0c9",
        "id": "xk9XV2X6GR08"
      },
      "execution_count": null,
      "outputs": [
        {
          "output_type": "stream",
          "name": "stdout",
          "text": [
            "Accuracy: 0.6650563607085346\n"
          ]
        }
      ]
    },
    {
      "cell_type": "code",
      "source": [
        ""
      ],
      "metadata": {
        "id": "jjCfxmg1GR08"
      },
      "execution_count": null,
      "outputs": []
    },
    {
      "cell_type": "code",
      "source": [
        "#Train the model using the training sets\n",
        "lr.fit(X_all_female_train, y_all_female_train) "
      ],
      "metadata": {
        "colab": {
          "base_uri": "https://localhost:8080/"
        },
        "outputId": "2bd78b38-a312-4377-cf68-d2da279b4e3f",
        "id": "hIb6O9iaGR08"
      },
      "execution_count": null,
      "outputs": [
        {
          "output_type": "execute_result",
          "data": {
            "text/plain": [
              "LogisticRegression()"
            ]
          },
          "metadata": {},
          "execution_count": 209
        }
      ]
    },
    {
      "cell_type": "code",
      "source": [
        "#Predict the response for test dataset \n",
        "y_pred = lr.predict(X_all_male_test)"
      ],
      "metadata": {
        "id": "R4L3bD6PGR08"
      },
      "execution_count": null,
      "outputs": []
    },
    {
      "cell_type": "code",
      "source": [
        "# Model Accuracy, how often is the classifier correct?\n",
        "print(\"Accuracy:\",metrics.accuracy_score(y_all_male_test, y_pred))"
      ],
      "metadata": {
        "colab": {
          "base_uri": "https://localhost:8080/"
        },
        "outputId": "32dac5c3-2c71-4bbb-f73e-623004de8b92",
        "id": "lVyDqW_3GR08"
      },
      "execution_count": null,
      "outputs": [
        {
          "output_type": "stream",
          "name": "stdout",
          "text": [
            "Accuracy: 0.5110639018343647\n"
          ]
        }
      ]
    },
    {
      "cell_type": "code",
      "source": [
        ""
      ],
      "metadata": {
        "id": "ed2vz35GGR08"
      },
      "execution_count": null,
      "outputs": []
    },
    {
      "cell_type": "code",
      "source": [
        "#Train the model using the training sets\n",
        "ab.fit(X_all_female_train, y_all_female_train) "
      ],
      "metadata": {
        "colab": {
          "base_uri": "https://localhost:8080/"
        },
        "outputId": "fab32053-e08f-4f9c-f2a1-492fca6e23c9",
        "id": "JKkMYVHLGR08"
      },
      "execution_count": null,
      "outputs": [
        {
          "output_type": "execute_result",
          "data": {
            "text/plain": [
              "AdaBoostClassifier()"
            ]
          },
          "metadata": {},
          "execution_count": 212
        }
      ]
    },
    {
      "cell_type": "code",
      "source": [
        "#Predict the response for test dataset \n",
        "y_pred = ab.predict(X_all_male_test)"
      ],
      "metadata": {
        "id": "owlgyhBQGR08"
      },
      "execution_count": null,
      "outputs": []
    },
    {
      "cell_type": "code",
      "source": [
        "# Model Accuracy, how often is the classifier correct?\n",
        "print(\"Accuracy:\",metrics.accuracy_score(y_all_male_test, y_pred))"
      ],
      "metadata": {
        "colab": {
          "base_uri": "https://localhost:8080/"
        },
        "outputId": "c10c672b-c2f5-448c-fce9-c38286359218",
        "id": "E0zbWXgmGR09"
      },
      "execution_count": null,
      "outputs": [
        {
          "output_type": "stream",
          "name": "stdout",
          "text": [
            "Accuracy: 0.5029283345877159\n"
          ]
        }
      ]
    },
    {
      "cell_type": "code",
      "source": [
        ""
      ],
      "metadata": {
        "id": "sosIS_nCGR09"
      },
      "execution_count": null,
      "outputs": []
    },
    {
      "cell_type": "code",
      "source": [
        "#Train the model using the training sets\n",
        "dt.fit(X_all_female_train, y_all_female_train) "
      ],
      "metadata": {
        "colab": {
          "base_uri": "https://localhost:8080/"
        },
        "outputId": "25f77baa-543f-4b4f-9850-97f42546980a",
        "id": "W2w9X8u0GR09"
      },
      "execution_count": null,
      "outputs": [
        {
          "output_type": "execute_result",
          "data": {
            "text/plain": [
              "DecisionTreeClassifier()"
            ]
          },
          "metadata": {},
          "execution_count": 215
        }
      ]
    },
    {
      "cell_type": "code",
      "source": [
        "#Predict the response for test dataset \n",
        "y_pred = dt.predict(X_all_male_test)"
      ],
      "metadata": {
        "id": "pzIQpF9TGR09"
      },
      "execution_count": null,
      "outputs": []
    },
    {
      "cell_type": "code",
      "source": [
        "# Model Accuracy, how often is the classifier correct?\n",
        "print(\"Accuracy:\",metrics.accuracy_score(y_all_male_test, y_pred))"
      ],
      "metadata": {
        "colab": {
          "base_uri": "https://localhost:8080/"
        },
        "outputId": "586cfc5d-c3ef-40f3-f395-063ce054a447",
        "id": "uL0A_0ySGR09"
      },
      "execution_count": null,
      "outputs": [
        {
          "output_type": "stream",
          "name": "stdout",
          "text": [
            "Accuracy: 0.5768528714239282\n"
          ]
        }
      ]
    },
    {
      "cell_type": "code",
      "source": [
        ""
      ],
      "metadata": {
        "id": "n-kly_UOGR09"
      },
      "execution_count": null,
      "outputs": []
    },
    {
      "cell_type": "code",
      "source": [
        "#Train the model using the training sets\n",
        "xgb.fit(X_all_female_train, y_all_female_train) "
      ],
      "metadata": {
        "colab": {
          "base_uri": "https://localhost:8080/"
        },
        "outputId": "796705d0-aacd-4d5e-c40d-2fca06f8eb99",
        "id": "kZ4rcPSBGR09"
      },
      "execution_count": null,
      "outputs": [
        {
          "output_type": "execute_result",
          "data": {
            "text/plain": [
              "XGBClassifier(objective='multi:softprob')"
            ]
          },
          "metadata": {},
          "execution_count": 620
        }
      ]
    },
    {
      "cell_type": "code",
      "source": [
        "#Predict the response for test dataset \n",
        "y_pred = xgb.predict(X_all_male_test) "
      ],
      "metadata": {
        "id": "AHWJSF-GGR09"
      },
      "execution_count": null,
      "outputs": []
    },
    {
      "cell_type": "code",
      "source": [
        "# Model Accuracy, how often is the classifier correct?\n",
        "print(\"Accuracy:\",metrics.accuracy_score(y_all_male_test, y_pred))"
      ],
      "metadata": {
        "colab": {
          "base_uri": "https://localhost:8080/"
        },
        "id": "mg5iOMwCGR09",
        "outputId": "80f778fa-1249-4709-eb90-0cd24c37c844"
      },
      "execution_count": null,
      "outputs": [
        {
          "output_type": "stream",
          "name": "stdout",
          "text": [
            "Accuracy: 0.7157074656157041\n"
          ]
        }
      ]
    },
    {
      "cell_type": "code",
      "source": [
        ""
      ],
      "metadata": {
        "id": "oYSp712SGR09"
      },
      "execution_count": null,
      "outputs": []
    },
    {
      "cell_type": "code",
      "source": [
        "#Train the model using the training sets\n",
        "lgbm.fit(X_all_female_train, y_all_female_train) "
      ],
      "metadata": {
        "colab": {
          "base_uri": "https://localhost:8080/"
        },
        "outputId": "e8791b13-84c5-4d8f-c83f-d6c9f97234b4",
        "id": "vEhE3xbZcfIH"
      },
      "execution_count": null,
      "outputs": [
        {
          "output_type": "execute_result",
          "data": {
            "text/plain": [
              "LGBMClassifier()"
            ]
          },
          "metadata": {},
          "execution_count": 623
        }
      ]
    },
    {
      "cell_type": "code",
      "source": [
        "#Predict the response for test dataset \n",
        "y_pred = lgbm.predict(X_all_male_test) "
      ],
      "metadata": {
        "id": "oFDDGvehcfII"
      },
      "execution_count": null,
      "outputs": []
    },
    {
      "cell_type": "code",
      "source": [
        "# Model Accuracy, how often is the classifier correct?\n",
        "print(\"Accuracy:\",metrics.accuracy_score(y_all_male_test, y_pred)) "
      ],
      "metadata": {
        "colab": {
          "base_uri": "https://localhost:8080/"
        },
        "outputId": "c7aa7e3e-4de3-45ea-c645-eb95119db017",
        "id": "LEN-sb9CcfII"
      },
      "execution_count": null,
      "outputs": [
        {
          "output_type": "stream",
          "name": "stdout",
          "text": [
            "Accuracy: 0.6648561538280915\n"
          ]
        }
      ]
    },
    {
      "cell_type": "code",
      "source": [
        ""
      ],
      "metadata": {
        "id": "szpcNUhwcfIJ"
      },
      "execution_count": null,
      "outputs": []
    },
    {
      "cell_type": "code",
      "source": [
        "#Train the model using the training sets\n",
        "bagging.fit(X_all_female_train, y_all_female_train) "
      ],
      "metadata": {
        "colab": {
          "base_uri": "https://localhost:8080/"
        },
        "outputId": "da676a0f-b316-49c5-c5ba-9b8151b4be3d",
        "id": "iPYPv4vmcfIJ"
      },
      "execution_count": null,
      "outputs": [
        {
          "output_type": "execute_result",
          "data": {
            "text/plain": [
              "BaggingClassifier()"
            ]
          },
          "metadata": {},
          "execution_count": 626
        }
      ]
    },
    {
      "cell_type": "code",
      "source": [
        "#Predict the response for test dataset \n",
        "y_pred = bagging.predict(X_all_male_test) "
      ],
      "metadata": {
        "id": "Y1xyOnfZcfIJ"
      },
      "execution_count": null,
      "outputs": []
    },
    {
      "cell_type": "code",
      "source": [
        "# Model Accuracy, how often is the classifier correct?\n",
        "print(\"Accuracy:\",metrics.accuracy_score(y_all_male_test, y_pred))"
      ],
      "metadata": {
        "colab": {
          "base_uri": "https://localhost:8080/"
        },
        "outputId": "d426d546-154e-4928-b720-64e60b96742e",
        "id": "Z6L6vhzvcfIJ"
      },
      "execution_count": null,
      "outputs": [
        {
          "output_type": "stream",
          "name": "stdout",
          "text": [
            "Accuracy: 0.6101959679322955\n"
          ]
        }
      ]
    },
    {
      "cell_type": "code",
      "source": [
        ""
      ],
      "metadata": {
        "id": "h2_TBBBicfIK"
      },
      "execution_count": null,
      "outputs": []
    },
    {
      "cell_type": "code",
      "source": [
        ""
      ],
      "metadata": {
        "id": "cmjeHC0NGR0-"
      },
      "execution_count": null,
      "outputs": []
    },
    {
      "cell_type": "code",
      "source": [
        "# Combining data of all activities and both maleNfemale groups  "
      ],
      "metadata": {
        "id": "_6tO0tVmcfIK"
      },
      "execution_count": null,
      "outputs": []
    },
    {
      "cell_type": "code",
      "source": [
        "all_activities_both_maleNfemale_frame = [all_activities_male_df, all_activities_female_df]\n",
        "\n",
        "all_activities_both_maleNfemale_df = pd.concat(all_activities_both_maleNfemale_frame) \n",
        "all_activities_both_maleNfemale_df.shape "
      ],
      "metadata": {
        "colab": {
          "base_uri": "https://localhost:8080/"
        },
        "outputId": "247a5958-cd50-4a05-dd5d-76916172aadd",
        "id": "8IZdQtjTcfIK"
      },
      "execution_count": null,
      "outputs": [
        {
          "output_type": "execute_result",
          "data": {
            "text/plain": [
              "(1401835, 13)"
            ]
          },
          "metadata": {},
          "execution_count": 108
        }
      ]
    },
    {
      "cell_type": "code",
      "source": [
        ""
      ],
      "metadata": {
        "id": "FSqbNIuhcfIL"
      },
      "execution_count": null,
      "outputs": []
    },
    {
      "cell_type": "code",
      "source": [
        "X = all_activities_both_maleNfemale_df.iloc[:, :-1].values\n",
        "y = all_activities_both_maleNfemale_df.iloc[:, -1].values "
      ],
      "metadata": {
        "id": "8tJ6x7wAcfIL"
      },
      "execution_count": null,
      "outputs": []
    },
    {
      "cell_type": "code",
      "source": [
        "X.shape, y.shape "
      ],
      "metadata": {
        "colab": {
          "base_uri": "https://localhost:8080/"
        },
        "outputId": "b74e2a0e-aea7-4c91-bc2d-6004bcb7815e",
        "id": "5mat2BqxcfIL"
      },
      "execution_count": null,
      "outputs": [
        {
          "output_type": "execute_result",
          "data": {
            "text/plain": [
              "((1401835, 12), (1401835,))"
            ]
          },
          "metadata": {},
          "execution_count": 110
        }
      ]
    },
    {
      "cell_type": "code",
      "source": [
        "# Train Test Splits with a ratio of 70:30 \n",
        "X_train, X_test, y_train, y_test = train_test_split(X, y, test_size = 0.30) "
      ],
      "metadata": {
        "id": "BsTnehlpcfIM"
      },
      "execution_count": null,
      "outputs": []
    },
    {
      "cell_type": "code",
      "source": [
        "X_train.shape, X_test.shape, y_train.shape, y_test.shape"
      ],
      "metadata": {
        "colab": {
          "base_uri": "https://localhost:8080/"
        },
        "outputId": "c3fdd3f9-aea8-412c-8aae-3ca270308dc5",
        "id": "yKW7wBa3cfIM"
      },
      "execution_count": null,
      "outputs": [
        {
          "output_type": "execute_result",
          "data": {
            "text/plain": [
              "((981284, 12), (420551, 12), (981284,), (420551,))"
            ]
          },
          "metadata": {},
          "execution_count": 112
        }
      ]
    },
    {
      "cell_type": "code",
      "source": [
        "#Train the model using the training sets\n",
        "rf.fit(X_train, y_train) "
      ],
      "metadata": {
        "colab": {
          "base_uri": "https://localhost:8080/"
        },
        "outputId": "f14b31c0-0723-4159-8836-89c760ac044b",
        "id": "twC-lNpxcfIM"
      },
      "execution_count": null,
      "outputs": [
        {
          "output_type": "execute_result",
          "data": {
            "text/plain": [
              "RandomForestClassifier()"
            ]
          },
          "metadata": {},
          "execution_count": 113
        }
      ]
    },
    {
      "cell_type": "code",
      "source": [
        "#Predict the response for test dataset \n",
        "y_pred = rf.predict(X_test) "
      ],
      "metadata": {
        "id": "Z1j1JMzwcfIM"
      },
      "execution_count": null,
      "outputs": []
    },
    {
      "cell_type": "code",
      "source": [
        "# Model Accuracy, how often is the classifier correct?\n",
        "print(\"Accuracy:\",metrics.accuracy_score(y_test, y_pred)) "
      ],
      "metadata": {
        "colab": {
          "base_uri": "https://localhost:8080/"
        },
        "outputId": "d2c7ec02-06b9-4055-d089-5744e76ccb37",
        "id": "5xyrDOjGcfIN"
      },
      "execution_count": null,
      "outputs": [
        {
          "output_type": "stream",
          "name": "stdout",
          "text": [
            "Accuracy: 0.9342338979101227\n"
          ]
        }
      ]
    },
    {
      "cell_type": "code",
      "source": [
        ""
      ],
      "metadata": {
        "id": "OBKzqL-bcfIN"
      },
      "execution_count": null,
      "outputs": []
    },
    {
      "cell_type": "code",
      "source": [
        "#Train the model using the training sets\n",
        "gnb.fit(X_train, y_train) "
      ],
      "metadata": {
        "colab": {
          "base_uri": "https://localhost:8080/"
        },
        "outputId": "64de1c32-f38e-4e1b-e85b-b011b12c10a6",
        "id": "5j2bRgnfcfIN"
      },
      "execution_count": null,
      "outputs": [
        {
          "output_type": "execute_result",
          "data": {
            "text/plain": [
              "GaussianNB()"
            ]
          },
          "metadata": {},
          "execution_count": 116
        }
      ]
    },
    {
      "cell_type": "code",
      "source": [
        "#Predict the response for test dataset \n",
        "y_pred = gnb.predict(X_test) "
      ],
      "metadata": {
        "id": "bxIcrGbHcfIS"
      },
      "execution_count": null,
      "outputs": []
    },
    {
      "cell_type": "code",
      "source": [
        "# Model Accuracy, how often is the classifier correct?\n",
        "print(\"Accuracy:\",metrics.accuracy_score(y_test, y_pred)) "
      ],
      "metadata": {
        "colab": {
          "base_uri": "https://localhost:8080/"
        },
        "outputId": "e7094e8f-3a84-4dd4-a38c-7aa340c557a9",
        "id": "O8uY9_jkcfIS"
      },
      "execution_count": null,
      "outputs": [
        {
          "output_type": "stream",
          "name": "stdout",
          "text": [
            "Accuracy: 0.7013560780975434\n"
          ]
        }
      ]
    },
    {
      "cell_type": "code",
      "source": [
        ""
      ],
      "metadata": {
        "id": "-c70qgd2cfIS"
      },
      "execution_count": null,
      "outputs": []
    },
    {
      "cell_type": "code",
      "source": [
        "#Train the model using the training sets\n",
        "lr.fit(X_train, y_train) "
      ],
      "metadata": {
        "colab": {
          "base_uri": "https://localhost:8080/"
        },
        "outputId": "5ee121a2-a3d8-4376-c380-bb892166092d",
        "id": "plCHSuPDcfIT"
      },
      "execution_count": null,
      "outputs": [
        {
          "output_type": "execute_result",
          "data": {
            "text/plain": [
              "LogisticRegression()"
            ]
          },
          "metadata": {},
          "execution_count": 119
        }
      ]
    },
    {
      "cell_type": "code",
      "source": [
        "#Predict the response for test dataset \n",
        "y_pred = lr.predict(X_test) "
      ],
      "metadata": {
        "id": "Xg3hq8YDcfIT"
      },
      "execution_count": null,
      "outputs": []
    },
    {
      "cell_type": "code",
      "source": [
        "# Model Accuracy, how often is the classifier correct?\n",
        "print(\"Accuracy:\",metrics.accuracy_score(y_test, y_pred)) "
      ],
      "metadata": {
        "colab": {
          "base_uri": "https://localhost:8080/"
        },
        "outputId": "f39dbf14-778a-43cb-ee18-e69bfa54644e",
        "id": "1jKmNrpvcfIT"
      },
      "execution_count": null,
      "outputs": [
        {
          "output_type": "stream",
          "name": "stdout",
          "text": [
            "Accuracy: 0.5481285266234059\n"
          ]
        }
      ]
    },
    {
      "cell_type": "code",
      "source": [
        ""
      ],
      "metadata": {
        "id": "vI8cltsgcfIU"
      },
      "execution_count": null,
      "outputs": []
    },
    {
      "cell_type": "code",
      "source": [
        "#Train the model using the training sets\n",
        "ab.fit(X_train, y_train) "
      ],
      "metadata": {
        "colab": {
          "base_uri": "https://localhost:8080/"
        },
        "outputId": "eff10130-65c8-4b0a-a344-38b4f237b403",
        "id": "GZgzEptBcfIU"
      },
      "execution_count": null,
      "outputs": [
        {
          "output_type": "execute_result",
          "data": {
            "text/plain": [
              "AdaBoostClassifier()"
            ]
          },
          "metadata": {},
          "execution_count": 122
        }
      ]
    },
    {
      "cell_type": "code",
      "source": [
        "#Predict the response for test dataset \n",
        "y_pred = ab.predict(X_test) "
      ],
      "metadata": {
        "id": "xE4bSLWxcfIU"
      },
      "execution_count": null,
      "outputs": []
    },
    {
      "cell_type": "code",
      "source": [
        "# Model Accuracy, how often is the classifier correct?\n",
        "print(\"Accuracy:\",metrics.accuracy_score(y_test, y_pred)) "
      ],
      "metadata": {
        "colab": {
          "base_uri": "https://localhost:8080/"
        },
        "outputId": "8e0bb9f3-7946-48d8-feee-c6902ea20ed6",
        "id": "9EOL1AKycfIU"
      },
      "execution_count": null,
      "outputs": [
        {
          "output_type": "stream",
          "name": "stdout",
          "text": [
            "Accuracy: 0.6988522200636784\n"
          ]
        }
      ]
    },
    {
      "cell_type": "code",
      "source": [
        ""
      ],
      "metadata": {
        "id": "ng3SmxnecfIV"
      },
      "execution_count": null,
      "outputs": []
    },
    {
      "cell_type": "code",
      "source": [
        "#Train the model using the training sets\n",
        "dt.fit(X_train, y_train) "
      ],
      "metadata": {
        "colab": {
          "base_uri": "https://localhost:8080/"
        },
        "outputId": "42a33299-f630-4863-979f-f1fdb67b3043",
        "id": "r6jS3Y3RcfIV"
      },
      "execution_count": null,
      "outputs": [
        {
          "output_type": "execute_result",
          "data": {
            "text/plain": [
              "DecisionTreeClassifier()"
            ]
          },
          "metadata": {},
          "execution_count": 125
        }
      ]
    },
    {
      "cell_type": "code",
      "source": [
        "#Predict the response for test dataset \n",
        "y_pred = dt.predict(X_test) "
      ],
      "metadata": {
        "id": "fcD1AKU8cfIV"
      },
      "execution_count": null,
      "outputs": []
    },
    {
      "cell_type": "code",
      "source": [
        "# Model Accuracy, how often is the classifier correct?\n",
        "print(\"Accuracy:\",metrics.accuracy_score(y_test, y_pred)) "
      ],
      "metadata": {
        "colab": {
          "base_uri": "https://localhost:8080/"
        },
        "outputId": "826900a4-657b-4b99-deb3-36618cd64fba",
        "id": "DvcHOidWcfIW"
      },
      "execution_count": null,
      "outputs": [
        {
          "output_type": "stream",
          "name": "stdout",
          "text": [
            "Accuracy: 0.8628751328614128\n"
          ]
        }
      ]
    },
    {
      "cell_type": "code",
      "source": [
        ""
      ],
      "metadata": {
        "id": "VXINOTh6cfIW"
      },
      "execution_count": null,
      "outputs": []
    },
    {
      "cell_type": "code",
      "source": [
        "#Train the model using the training sets\n",
        "xgb.fit(X_train, y_train) "
      ],
      "metadata": {
        "colab": {
          "base_uri": "https://localhost:8080/"
        },
        "outputId": "5fe0e037-8367-4fe9-85de-4fc546d44416",
        "id": "gB9jiWEvcfIW"
      },
      "execution_count": null,
      "outputs": [
        {
          "output_type": "execute_result",
          "data": {
            "text/plain": [
              "XGBClassifier(objective='multi:softprob')"
            ]
          },
          "metadata": {},
          "execution_count": 128
        }
      ]
    },
    {
      "cell_type": "code",
      "source": [
        "#Predict the response for test dataset \n",
        "y_pred = xgb.predict(X_test) "
      ],
      "metadata": {
        "id": "O87O8LdHcfIW"
      },
      "execution_count": null,
      "outputs": []
    },
    {
      "cell_type": "code",
      "source": [
        "# Model Accuracy, how often is the classifier correct?\n",
        "print(\"Accuracy:\",metrics.accuracy_score(y_test, y_pred)) "
      ],
      "metadata": {
        "colab": {
          "base_uri": "https://localhost:8080/"
        },
        "outputId": "26f908ae-21b5-4cdc-d917-75112e79d409",
        "id": "dGQebPnacfIX"
      },
      "execution_count": null,
      "outputs": [
        {
          "output_type": "stream",
          "name": "stdout",
          "text": [
            "Accuracy: 0.7871625557899042\n"
          ]
        }
      ]
    },
    {
      "cell_type": "code",
      "source": [
        ""
      ],
      "metadata": {
        "id": "K5E-szUlcfIX"
      },
      "execution_count": null,
      "outputs": []
    },
    {
      "cell_type": "code",
      "source": [
        "#Train the model using the training sets\n",
        "lgbm.fit(X_train, y_train) "
      ],
      "metadata": {
        "colab": {
          "base_uri": "https://localhost:8080/"
        },
        "outputId": "ba41920d-04a7-4524-f854-f8bfc8f9173c",
        "id": "43TqoXqlcfIX"
      },
      "execution_count": null,
      "outputs": [
        {
          "output_type": "execute_result",
          "data": {
            "text/plain": [
              "LGBMClassifier()"
            ]
          },
          "metadata": {},
          "execution_count": 131
        }
      ]
    },
    {
      "cell_type": "code",
      "source": [
        "#Predict the response for test dataset \n",
        "y_pred = lgbm.predict(X_test) "
      ],
      "metadata": {
        "id": "K3bEozd-cfIY"
      },
      "execution_count": null,
      "outputs": []
    },
    {
      "cell_type": "code",
      "source": [
        "# Model Accuracy, how often is the classifier correct?\n",
        "print(\"Accuracy:\",metrics.accuracy_score(y_test, y_pred)) "
      ],
      "metadata": {
        "colab": {
          "base_uri": "https://localhost:8080/"
        },
        "outputId": "e2d61f5d-ea46-42d8-f11f-30f885782a80",
        "id": "NXI7GrZjcfIY"
      },
      "execution_count": null,
      "outputs": [
        {
          "output_type": "stream",
          "name": "stdout",
          "text": [
            "Accuracy: 0.8476902920216574\n"
          ]
        }
      ]
    },
    {
      "cell_type": "code",
      "source": [
        ""
      ],
      "metadata": {
        "id": "HdZ-g2hxcfIY"
      },
      "execution_count": null,
      "outputs": []
    },
    {
      "cell_type": "code",
      "source": [
        "#Train the model using the training sets \n",
        "bagging.fit(X_train, y_train) "
      ],
      "metadata": {
        "colab": {
          "base_uri": "https://localhost:8080/"
        },
        "outputId": "d17a2965-3f78-41f9-a4b0-3f0d168e58cf",
        "id": "UgeBRecLcfIY"
      },
      "execution_count": null,
      "outputs": [
        {
          "output_type": "execute_result",
          "data": {
            "text/plain": [
              "BaggingClassifier()"
            ]
          },
          "metadata": {},
          "execution_count": 134
        }
      ]
    },
    {
      "cell_type": "code",
      "source": [
        "#Predict the response for test dataset \n",
        "y_pred = bagging.predict(X_test) "
      ],
      "metadata": {
        "id": "ulcNKNlYcfIZ"
      },
      "execution_count": null,
      "outputs": []
    },
    {
      "cell_type": "code",
      "source": [
        "# Model Accuracy, how often is the classifier correct? \n",
        "print(\"Accuracy:\",metrics.accuracy_score(y_test, y_pred)) "
      ],
      "metadata": {
        "colab": {
          "base_uri": "https://localhost:8080/"
        },
        "outputId": "f13e0bab-cb8b-4d6c-b584-fbc783845c47",
        "id": "lEVkQU79cfIZ"
      },
      "execution_count": null,
      "outputs": [
        {
          "output_type": "stream",
          "name": "stdout",
          "text": [
            "Accuracy: 0.9057950165378278\n"
          ]
        }
      ]
    },
    {
      "cell_type": "code",
      "source": [
        ""
      ],
      "metadata": {
        "id": "vcS-_oo6cfIZ"
      },
      "execution_count": null,
      "outputs": []
    },
    {
      "cell_type": "code",
      "source": [
        ""
      ],
      "metadata": {
        "id": "IWAakiFXGE2C"
      },
      "execution_count": null,
      "outputs": []
    }
  ]
}